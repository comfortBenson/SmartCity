{
 "cells": [
  {
   "cell_type": "code",
   "execution_count": null,
   "id": "25861396",
   "metadata": {},
   "outputs": [
    {
     "name": "stdout",
     "output_type": "stream",
     "text": [
      "5\n",
      "Data Visualization\n"
     ]
    }
   ],
   "source": [
    "class DS:  # creating a class\n",
    "    x = 5\n",
    "    def visual(self):     # this is known as a function\n",
    "        print(\"Data Visualization\")\n",
    "\n",
    "ds = DS()   # this is creating an object which is also known as an instance of a class\n",
    "print(ds.x)\n",
    "ds.visual()"
   ]
  },
  {
   "cell_type": "code",
   "execution_count": null,
   "id": "42eaa809",
   "metadata": {},
   "outputs": [],
   "source": []
  }
 ],
 "metadata": {
  "kernelspec": {
   "display_name": "Python 3",
   "language": "python",
   "name": "python3"
  },
  "language_info": {
   "codemirror_mode": {
    "name": "ipython",
    "version": 3
   },
   "file_extension": ".py",
   "mimetype": "text/x-python",
   "name": "python",
   "nbconvert_exporter": "python",
   "pygments_lexer": "ipython3",
   "version": "3.12.4"
  }
 },
 "nbformat": 4,
 "nbformat_minor": 5
}
