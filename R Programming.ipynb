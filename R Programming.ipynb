{
 "cells": [
  {
   "cell_type": "code",
   "execution_count": null,
   "id": "5007f576",
   "metadata": {
    "vscode": {
     "languageId": "r"
    }
   },
   "outputs": [
    {
     "name": "stdout",
     "output_type": "stream",
     "text": [
      "[1] \"Hello, World!\"\n"
     ]
    },
    {
     "data": {
      "text/html": [
       "'Hello World'"
      ],
      "text/latex": [
       "'Hello World'"
      ],
      "text/markdown": [
       "'Hello World'"
      ],
      "text/plain": [
       "[1] \"Hello World\""
      ]
     },
     "metadata": {},
     "output_type": "display_data"
    },
    {
     "name": "stdout",
     "output_type": "stream",
     "text": [
      "[1] 10\n"
     ]
    },
    {
     "data": {
      "text/html": [
       "10"
      ],
      "text/latex": [
       "10"
      ],
      "text/markdown": [
       "10"
      ],
      "text/plain": [
       "[1] 10"
      ]
     },
     "metadata": {},
     "output_type": "display_data"
    }
   ],
   "source": [
    "# my first R script\n",
    "\n",
    "print(\"Hello, World!\")\n",
    "\n",
    "'Hello World'\n",
    "print(5+5)\n",
    "5+5\n",
    "# plot(1:10)"
   ]
  },
  {
   "cell_type": "code",
   "execution_count": null,
   "id": "f1fedaa9",
   "metadata": {
    "vscode": {
     "languageId": "r"
    }
   },
   "outputs": [
    {
     "name": "stdout",
     "output_type": "stream",
     "text": [
      "[1] 1\n",
      "[1] 2\n",
      "[1] 3\n",
      "[1] 4\n",
      "[1] 5\n",
      "[1] 6\n",
      "[1] 7\n",
      "[1] 8\n",
      "[1] 9\n",
      "[1] 10\n"
     ]
    }
   ],
   "source": [
    "# forloop\n",
    "\n",
    "for(i in 1:10) {\n",
    "    print(i)\n",
    "}"
   ]
  },
  {
   "cell_type": "code",
   "execution_count": null,
   "id": "41a1c040",
   "metadata": {
    "vscode": {
     "languageId": "r"
    }
   },
   "outputs": [
    {
     "name": "stdout",
     "output_type": "stream",
     "text": [
      "[1] 30\n"
     ]
    },
    {
     "data": {
      "text/html": [
       "'John'"
      ],
      "text/latex": [
       "'John'"
      ],
      "text/markdown": [
       "'John'"
      ],
      "text/plain": [
       "[1] \"John\""
      ]
     },
     "metadata": {},
     "output_type": "display_data"
    }
   ],
   "source": [
    "# how to assign variables/values in R programming language\n",
    "\n",
    "fname <- \"John\"\n",
    "lname <- \"Doe\"\n",
    "age <- 30\n",
    "print (30)\n",
    "fname\n",
    "\n"
   ]
  },
  {
   "cell_type": "code",
   "execution_count": null,
   "id": "ede878b7",
   "metadata": {
    "vscode": {
     "languageId": "r"
    }
   },
   "outputs": [
    {
     "name": "stdout",
     "output_type": "stream",
     "text": [
      "[1] \"John Doe\"\n"
     ]
    },
    {
     "data": {
      "text/html": [
       "35"
      ],
      "text/latex": [
       "35"
      ],
      "text/markdown": [
       "35"
      ],
      "text/plain": [
       "[1] 35"
      ]
     },
     "metadata": {},
     "output_type": "display_data"
    }
   ],
   "source": [
    "# Concatenating strings\n",
    "fullname <- paste(fname, lname)\n",
    "print(fullname)\n",
    "5+age"
   ]
  },
  {
   "cell_type": "code",
   "execution_count": null,
   "id": "66950629",
   "metadata": {
    "vscode": {
     "languageId": "r"
    }
   },
   "outputs": [
    {
     "name": "stdout",
     "output_type": "stream",
     "text": [
      "[1] 10\n",
      "[1] 10\n",
      "[1] 10\n"
     ]
    }
   ],
   "source": [
    "# Assigning multiple variables\n",
    "x<-y<-z<-10\n",
    "print(x)\n",
    "print(y)\n",
    "print(z)"
   ]
  },
  {
   "cell_type": "code",
   "execution_count": null,
   "id": "50cfc264",
   "metadata": {
    "vscode": {
     "languageId": "r"
    }
   },
   "outputs": [
    {
     "data": {
      "text/html": [
       "'integer'"
      ],
      "text/latex": [
       "'integer'"
      ],
      "text/markdown": [
       "'integer'"
      ],
      "text/plain": [
       "[1] \"integer\""
      ]
     },
     "metadata": {},
     "output_type": "display_data"
    },
    {
     "data": {
      "text/html": [
       "'numeric'"
      ],
      "text/latex": [
       "'numeric'"
      ],
      "text/markdown": [
       "'numeric'"
      ],
      "text/plain": [
       "[1] \"numeric\""
      ]
     },
     "metadata": {},
     "output_type": "display_data"
    },
    {
     "data": {
      "text/html": [
       "'complex'"
      ],
      "text/latex": [
       "'complex'"
      ],
      "text/markdown": [
       "'complex'"
      ],
      "text/plain": [
       "[1] \"complex\""
      ]
     },
     "metadata": {},
     "output_type": "display_data"
    },
    {
     "data": {
      "text/html": [
       "'character'"
      ],
      "text/latex": [
       "'character'"
      ],
      "text/markdown": [
       "'character'"
      ],
      "text/plain": [
       "[1] \"character\""
      ]
     },
     "metadata": {},
     "output_type": "display_data"
    },
    {
     "data": {
      "text/html": [
       "'logical'"
      ],
      "text/latex": [
       "'logical'"
      ],
      "text/markdown": [
       "'logical'"
      ],
      "text/plain": [
       "[1] \"logical\""
      ]
     },
     "metadata": {},
     "output_type": "display_data"
    }
   ],
   "source": [
    "x <- 20L\n",
    "class(x)\n",
    "\n",
    "x <- 10.5\n",
    "class(x)\n",
    "\n",
    "x <- 9i +3\n",
    "class(x)\n",
    "\n",
    "# character and string go together in R\n",
    "x <- \"Hello\"\n",
    "class(x)\n",
    "\n",
    "x <- TRUE\n",
    "class(x)\n"
   ]
  },
  {
   "cell_type": "code",
   "execution_count": null,
   "id": "4e597efb",
   "metadata": {
    "vscode": {
     "languageId": "r"
    }
   },
   "outputs": [
    {
     "data": {
      "text/html": [
       "'numeric'"
      ],
      "text/latex": [
       "'numeric'"
      ],
      "text/markdown": [
       "'numeric'"
      ],
      "text/plain": [
       "[1] \"numeric\""
      ]
     },
     "metadata": {},
     "output_type": "display_data"
    }
   ],
   "source": [
    "# Converting from one datatype to another\n",
    "x <- 20L #integer\n",
    "y <- 2; # Numeric\n",
    "z <- as.numeric(x) # convert from integer to numeric\n",
    "class(z)"
   ]
  },
  {
   "cell_type": "code",
   "execution_count": null,
   "id": "302e3b0e",
   "metadata": {
    "vscode": {
     "languageId": "r"
    }
   },
   "outputs": [
    {
     "data": {
      "text/html": [
       "15"
      ],
      "text/latex": [
       "15"
      ],
      "text/markdown": [
       "15"
      ],
      "text/plain": [
       "[1] 15"
      ]
     },
     "metadata": {},
     "output_type": "display_data"
    },
    {
     "data": {
      "text/html": [
       "5"
      ],
      "text/latex": [
       "5"
      ],
      "text/markdown": [
       "5"
      ],
      "text/plain": [
       "[1] 5"
      ]
     },
     "metadata": {},
     "output_type": "display_data"
    },
    {
     "data": {
      "text/html": [
       "5"
      ],
      "text/latex": [
       "5"
      ],
      "text/markdown": [
       "5"
      ],
      "text/plain": [
       "[1] 5"
      ]
     },
     "metadata": {},
     "output_type": "display_data"
    },
    {
     "data": {
      "text/html": [
       "0.57452425971407"
      ],
      "text/latex": [
       "0.57452425971407"
      ],
      "text/markdown": [
       "0.57452425971407"
      ],
      "text/plain": [
       "[1] 0.5745243"
      ]
     },
     "metadata": {},
     "output_type": "display_data"
    },
    {
     "data": {
      "text/html": [
       "5.3"
      ],
      "text/latex": [
       "5.3"
      ],
      "text/markdown": [
       "5.3"
      ],
      "text/plain": [
       "[1] 5.3"
      ]
     },
     "metadata": {},
     "output_type": "display_data"
    }
   ],
   "source": [
    "# simple built in mathematical functions in R\n",
    "max(5, 10, 15)\n",
    "min(5, 10, 15)\n",
    "sqrt(25)\n",
    "\n",
    "#correlation \n",
    "x <- c(1,2,3,4,5)\n",
    "y <- c(2,4,6,1,10)\n",
    "cor(x,y)\n",
    "\n",
    "abs(-5.3)"
   ]
  },
  {
   "cell_type": "code",
   "execution_count": null,
   "id": "1f877b2a",
   "metadata": {
    "vscode": {
     "languageId": "r"
    }
   },
   "outputs": [
    {
     "data": {
      "text/html": [
       "'Hello World'"
      ],
      "text/latex": [
       "'Hello World'"
      ],
      "text/markdown": [
       "'Hello World'"
      ],
      "text/plain": [
       "[1] \"Hello World\""
      ]
     },
     "metadata": {},
     "output_type": "display_data"
    },
    {
     "name": "stdout",
     "output_type": "stream",
     "text": [
      "20250117_436738-removebg-preview\n",
      "hbhjjjutyHBCHbhbrj\n",
      "vhbjhbfuhvuijhbdhb\n",
      "gcdyhufdiinuhufiin\n",
      "nbjcbjjdnjnjnjieqk\n"
     ]
    },
    {
     "data": {
      "text/html": [
       "109"
      ],
      "text/latex": [
       "109"
      ],
      "text/markdown": [
       "109"
      ],
      "text/plain": [
       "[1] 109"
      ]
     },
     "metadata": {},
     "output_type": "display_data"
    },
    {
     "data": {
      "text/html": [
       "TRUE"
      ],
      "text/latex": [
       "TRUE"
      ],
      "text/markdown": [
       "TRUE"
      ],
      "text/plain": [
       "[1] TRUE"
      ]
     },
     "metadata": {},
     "output_type": "display_data"
    },
    {
     "data": {
      "text/html": [
       "TRUE"
      ],
      "text/latex": [
       "TRUE"
      ],
      "text/markdown": [
       "TRUE"
      ],
      "text/plain": [
       "[1] TRUE"
      ]
     },
     "metadata": {},
     "output_type": "display_data"
    },
    {
     "data": {
      "text/html": [
       "FALSE"
      ],
      "text/latex": [
       "FALSE"
      ],
      "text/markdown": [
       "FALSE"
      ],
      "text/plain": [
       "[1] FALSE"
      ]
     },
     "metadata": {},
     "output_type": "display_data"
    },
    {
     "data": {
      "text/html": [
       "TRUE"
      ],
      "text/latex": [
       "TRUE"
      ],
      "text/markdown": [
       "TRUE"
      ],
      "text/plain": [
       "[1] TRUE"
      ]
     },
     "metadata": {},
     "output_type": "display_data"
    }
   ],
   "source": [
    "# String \n",
    "str <- \"Hello World\"\n",
    "str\n",
    "str <- \"20250117_436738-removebg-preview\\nhbhjjjutyHBCHbhbrj\\nvhbjhbfuhvuijhbdhb\\ngcdyhufdiinuhufiin\\nnbjcbjjdnjnjnjieqk\n",
    "\"\n",
    "cat(str)\n",
    "nchar(str)\n",
    "\n",
    "grepl(\"r\", str)\n",
    "grepl(\"removebg\", str)\n",
    "grepl(\"remove7\", str)\n",
    "grepl(\"preview\", str)"
   ]
  },
  {
   "cell_type": "code",
   "execution_count": null,
   "id": "0aa61817",
   "metadata": {
    "vscode": {
     "languageId": "r"
    }
   },
   "outputs": [
    {
     "name": "stdout",
     "output_type": "stream",
     "text": [
      "We are not  \t \"coming\" tomorrow\n",
      " \"coming\" tomorrow\n",
      "We are not  \"coming\" tomorrow"
     ]
    }
   ],
   "source": [
    "str <- \"We are not  \\t \\\"coming\\\" tomorrow\\n\"\n",
    "cat(str)\n",
    "\n",
    "\n",
    "str <- \"We are not  \\r \\\"coming\\\" tomorrow\\n\"\n",
    "cat(str)\n",
    "\n",
    "str <- \"We are not  \\b \\\"coming\\\" tomorrow\"\n",
    "cat(str)"
   ]
  },
  {
   "cell_type": "code",
   "execution_count": null,
   "id": "c9b51fb9",
   "metadata": {
    "vscode": {
     "languageId": "r"
    }
   },
   "outputs": [
    {
     "data": {
      "text/html": [
       "TRUE"
      ],
      "text/latex": [
       "TRUE"
      ],
      "text/markdown": [
       "TRUE"
      ],
      "text/plain": [
       "[1] TRUE"
      ]
     },
     "metadata": {},
     "output_type": "display_data"
    },
    {
     "data": {
      "text/html": [
       "FALSE"
      ],
      "text/latex": [
       "FALSE"
      ],
      "text/markdown": [
       "FALSE"
      ],
      "text/plain": [
       "[1] FALSE"
      ]
     },
     "metadata": {},
     "output_type": "display_data"
    },
    {
     "data": {
      "text/html": [
       "TRUE"
      ],
      "text/latex": [
       "TRUE"
      ],
      "text/markdown": [
       "TRUE"
      ],
      "text/plain": [
       "[1] TRUE"
      ]
     },
     "metadata": {},
     "output_type": "display_data"
    },
    {
     "name": "stdout",
     "output_type": "stream",
     "text": [
      "[1] \"b is less than a\"\n"
     ]
    }
   ],
   "source": [
    "10 > 9\n",
    "10 == 9\n",
    "\n",
    "10 != 9\n",
    "\n",
    "a <- 200\n",
    "b <- 30\n",
    "\n",
    "if(b > a){\n",
    "    print(\"b is greater than a\")\n",
    "}else {\n",
    "    print(\"b is less than a\")\n",
    "}\n"
   ]
  },
  {
   "cell_type": "code",
   "execution_count": null,
   "id": "3e913f7a",
   "metadata": {
    "vscode": {
     "languageId": "r"
    }
   },
   "outputs": [
    {
     "data": {
      "text/html": [
       "TRUE"
      ],
      "text/latex": [
       "TRUE"
      ],
      "text/markdown": [
       "TRUE"
      ],
      "text/plain": [
       "[1] TRUE"
      ]
     },
     "metadata": {},
     "output_type": "display_data"
    },
    {
     "data": {
      "text/html": [
       "FALSE"
      ],
      "text/latex": [
       "FALSE"
      ],
      "text/markdown": [
       "FALSE"
      ],
      "text/plain": [
       "[1] FALSE"
      ]
     },
     "metadata": {},
     "output_type": "display_data"
    },
    {
     "data": {
      "text/html": [
       "TRUE"
      ],
      "text/latex": [
       "TRUE"
      ],
      "text/markdown": [
       "TRUE"
      ],
      "text/plain": [
       "[1] TRUE"
      ]
     },
     "metadata": {},
     "output_type": "display_data"
    },
    {
     "data": {
      "text/html": [
       "TRUE"
      ],
      "text/latex": [
       "TRUE"
      ],
      "text/markdown": [
       "TRUE"
      ],
      "text/plain": [
       "[1] TRUE"
      ]
     },
     "metadata": {},
     "output_type": "display_data"
    },
    {
     "name": "stdout",
     "output_type": "stream",
     "text": [
      "[1] \"x is less than y\"\n"
     ]
    }
   ],
   "source": [
    "# Logical Operators\n",
    "\n",
    "(10 & 8)\n",
    "(10 == 8) && (10 != 8)\n",
    "\n",
    "(10 == 8) | (10 != 8)\n",
    "(10 == 8) || (10 != 8)\n",
    "\n",
    "x <- 3\n",
    "y <- 6\n",
    "\n",
    "if(x == y || x > y){\n",
    "    print(\"x is equal or greater than y\")\n",
    "}else{\n",
    "     print(\"x is less than y\")\n",
    "}"
   ]
  },
  {
   "cell_type": "code",
   "execution_count": null,
   "id": "65b14052",
   "metadata": {
    "vscode": {
     "languageId": "r"
    }
   },
   "outputs": [
    {
     "name": "stdout",
     "output_type": "stream",
     "text": [
      " [1]  1  2  3  4  5  6  7  8  9 10\n"
     ]
    }
   ],
   "source": [
    "x <- 1:10 #series sequence\n",
    "print(x)"
   ]
  },
  {
   "cell_type": "code",
   "execution_count": null,
   "id": "d7335c24",
   "metadata": {
    "vscode": {
     "languageId": "r"
    }
   },
   "outputs": [
    {
     "name": "stdout",
     "output_type": "stream",
     "text": [
      "[1] \"a and b are equal\"\n"
     ]
    }
   ],
   "source": [
    "# nested conditional statements\n",
    "a <- 33 \n",
    "b <- 33\n",
    "\n",
    "if(b > a){\n",
    "    print(\"b is greater than a\")\n",
    "}else if(a == b){\n",
    "    print(\"a and b are equal\")\n",
    "}\n"
   ]
  },
  {
   "cell_type": "code",
   "execution_count": null,
   "id": "1df015da",
   "metadata": {
    "vscode": {
     "languageId": "r"
    }
   },
   "outputs": [
    {
     "name": "stdout",
     "output_type": "stream",
     "text": [
      "[1] \"Above 10\"\n",
      "[1] \"but not above 20\"\n"
     ]
    },
    {
     "name": "stdout",
     "output_type": "stream",
     "text": [
      "[1] \"A is equal to B\"\n"
     ]
    }
   ],
   "source": [
    "# if inside an if statements\n",
    "a <- 12\n",
    "if(a > 10){\n",
    "    print(\"Above 10\")\n",
    "    if(a > 20){\n",
    "        print(\"Above 20\")\n",
    "    }else{\n",
    "        print(\"but not above 20\")\n",
    "    }\n",
    "}else{\n",
    "    print(\"Below 10\")\n",
    "}\n",
    "\n",
    "a <- 33\n",
    "if(a > b || a < b){\n",
    "    print(\"A is greater than B\")\n",
    "}else{\n",
    "    print(\"A is equal to B\")\n",
    "}"
   ]
  },
  {
   "cell_type": "code",
   "execution_count": null,
   "id": "72d3521b",
   "metadata": {
    "vscode": {
     "languageId": "r"
    }
   },
   "outputs": [
    {
     "name": "stdout",
     "output_type": "stream",
     "text": [
      "[1] 1\n",
      "[1] 2\n",
      "[1] 3\n",
      "[1] 4\n"
     ]
    }
   ],
   "source": [
    "# While loop statement\n",
    "i <- 1\n",
    "while(i < 10){\n",
    "    print(i)\n",
    "    if(i == 4){\n",
    "        break\n",
    "    }\n",
    "    i <- i + 1\n",
    "}"
   ]
  },
  {
   "cell_type": "code",
   "execution_count": null,
   "id": "73ca9d8f",
   "metadata": {
    "vscode": {
     "languageId": "r"
    }
   },
   "outputs": [
    {
     "name": "stdout",
     "output_type": "stream",
     "text": [
      "[1] 1\n",
      "[1] 2\n",
      "[1] 3\n",
      "[1] 5\n",
      "[1] 6\n",
      "[1] 7\n",
      "[1] 8\n",
      "[1] 9\n",
      "[1] 10\n"
     ]
    }
   ],
   "source": [
    "i <- 0\n",
    "while(i < 10){\n",
    "    i <- i + 1\n",
    "    if(i == 4){\n",
    "        next\n",
    "    }\n",
    "    print(i)\n",
    "}"
   ]
  },
  {
   "cell_type": "code",
   "execution_count": null,
   "id": "fc46e3ae",
   "metadata": {
    "vscode": {
     "languageId": "r"
    }
   },
   "outputs": [
    {
     "name": "stdout",
     "output_type": "stream",
     "text": [
      "[1] 1\n",
      "[1] 2\n",
      "[1] 3\n",
      "[1] 4\n",
      "[1] 5\n",
      "[1] 6\n",
      "[1] 7\n",
      "[1] 8\n",
      "[1] 9\n",
      "[1] 10\n"
     ]
    }
   ],
   "source": [
    "# For loop statements\n",
    "for(x in 1:10){\n",
    "    print(x)\n",
    "}"
   ]
  },
  {
   "cell_type": "code",
   "execution_count": null,
   "id": "b63674f6",
   "metadata": {
    "vscode": {
     "languageId": "r"
    }
   },
   "outputs": [
    {
     "name": "stdout",
     "output_type": "stream",
     "text": [
      "[1] \"Nigeria Mango\"\n",
      "[1] \"Nigeria Orange\"\n",
      "[1] \"UK Mango\"\n",
      "[1] \"UK Orange\"\n",
      "[1] \"USA Mango\"\n",
      "[1] \"USA Orange\"\n",
      "[1] \"Kenya Mango\"\n",
      "[1] \"Kenya Orange\"\n",
      "[1] \"Cameroon Mango\"\n",
      "[1] \"Cameroon Orange\"\n"
     ]
    }
   ],
   "source": [
    "# for look inside for loop (i.e nested for loop) and concatenating strings\n",
    "country <- list(\"Nigeria\", \"UK\", \"USA\", \"Kenya\", \"Cameroon\")\n",
    "fruits <- list(\"Mango\", \"Orange\", \"Apple\", \"Banana\")\n",
    "for(ctry in country){\n",
    "    for(f in fruits){\n",
    "        print(paste(ctry, f))\n",
    "        if(f == \"Orange\"){\n",
    "            break\n",
    "        }\n",
    "    }\n",
    "}\n"
   ]
  },
  {
   "cell_type": "code",
   "execution_count": null,
   "id": "9eb4ee83",
   "metadata": {
    "vscode": {
     "languageId": "r"
    }
   },
   "outputs": [
    {
     "name": "stdout",
     "output_type": "stream",
     "text": [
      "[1] \"Good Night\"\n"
     ]
    }
   ],
   "source": [
    "a <- 7\n",
    "b <- \"PM\"\n",
    "\n",
    "if (b == \"AM\" && (a >= 1 && a <= 11)) {\n",
    "    print(\"Good morning\")\n",
    "    }else if(b == \"PM\" && (a == 12 || a <= 5)){\n",
    "        print(\"Good Afternoon\")\n",
    "    }else if(b == \"PM\" && (a >= 6 && a <= 11)){\n",
    "        print(\"Good Night\")\n",
    "    }else{\n",
    "    print(\"Invalid HOUR\")\n",
    "}"
   ]
  },
  {
   "cell_type": "code",
   "execution_count": null,
   "id": "1010a297",
   "metadata": {
    "vscode": {
     "languageId": "r"
    }
   },
   "outputs": [
    {
     "name": "stdout",
     "output_type": "stream",
     "text": [
      "[1] \"E\"\n"
     ]
    }
   ],
   "source": [
    "x <- 59\n",
    "if(x >= 75){\n",
    "    print(\"A\")\n",
    "    }else if(x >=70 && x <= 74){\n",
    "        print(\"B\")\n",
    "    }else if (x >=65 && x <=69){\n",
    "        print(\"C\")\n",
    "    }else if (x >=60 && x<=64){\n",
    "        print(\"D\")\n",
    "    }else if (x >=50 && x <= 59){\n",
    "        print(\"E\")\n",
    "    }else{\n",
    "    print(\"F\")\n",
    "}"
   ]
  },
  {
   "cell_type": "code",
   "execution_count": null,
   "id": "e4246552",
   "metadata": {
    "vscode": {
     "languageId": "r"
    }
   },
   "outputs": [],
   "source": [
    "# R functions\n",
    "\n",
    "multiplication <- function(a, b=0) {\n",
    "    print(\"This is for multiplication\")\n",
    "    return(a * b)\n",
    "}\n",
    "multiplication(5, 3)\n",
    "multiplication(5, 8)\n",
    "multiplication(1)"
   ]
  },
  {
   "cell_type": "code",
   "execution_count": null,
   "id": "2b4bcb2c",
   "metadata": {
    "vscode": {
     "languageId": "r"
    }
   },
   "outputs": [],
   "source": [
    "# GLOBAL VARIABLE : IS a variable where we declare a variable outside the function\n",
    "# local variable is declared inside the function\n",
    "# to change a global variable to a local variable we use <<- e.g\n",
    "\n",
    "\n",
    "#e <- \"global variable\"\n",
    "multiplication <- function(a, b=0) {\n",
    "    #print(\"This is for multiplication\")\n",
    "    #e <<- \"local variable\"\n",
    "    print(e)\n",
    "    return(a * b)\n",
    "}\n",
    "multiplication(5, 3)\n",
    "multiplication(5, 8)\n",
    "multiplication(1)"
   ]
  },
  {
   "cell_type": "code",
   "execution_count": null,
   "id": "753d403c",
   "metadata": {
    "vscode": {
     "languageId": "r"
    }
   },
   "outputs": [],
   "source": [
    "# Data structures\n",
    "# Vector: A list of items of the same datatypes\n",
    "# this is represented by c()\n",
    "gadget <- c(\"Dell\", \"Toshiba\", \"Samsung\", \"HP\", \"Apple\")  # this is an example of a vector\n",
    "gadget  # you must call the fuction before it can run/output\n",
    "length(gadget) # check the length/count of the vector\n",
    "sort(gadget)  #to sort alphabetically\n",
    "gadget[1] #accessing vector using index number\n",
    "gadget[c(2:4)]  # accessing a number of array using the index number \n",
    "gadget[-2]\n",
    "\n",
    "numbers <- 1:10\n",
    "numbers\n"
   ]
  },
  {
   "cell_type": "code",
   "execution_count": null,
   "id": "f01e1e6f",
   "metadata": {
    "vscode": {
     "languageId": "r"
    }
   },
   "outputs": [],
   "source": [
    "# list in R\n",
    "# list : a collection of data that can handle items of different datatype\n",
    "\n",
    "thisList <- list(\"Dell\", \"Toshiba\", \"Hp\", \"Samsung\", \"Apple\", 3, FALSE)\n",
    "thisList[-2]\n",
    "thisList[2:6]\n",
    "\n",
    "#Using For loop to loop through a list\n",
    "for(i in thisList){\n",
    "    print(i);\n",
    "}\n",
    "\n",
    "# merging/joining two list together\n",
    "list2 <- c(1, 2, 3)\n",
    "list3 <- c(thisList, list2)\n",
    "list3\n"
   ]
  },
  {
   "cell_type": "code",
   "execution_count": null,
   "id": "bca494ed",
   "metadata": {
    "vscode": {
     "languageId": "r"
    }
   },
   "outputs": [],
   "source": [
    "# Matrixes in R\n",
    "thismatrix <- matrix(c(1,2,3,4,5,6), nrow=2, ncol=3)\n",
    "thismatrix\n",
    "\n",
    "thismatrix2 <- matrix(c(\"Dell\", \"Toshiba\", \"Hp\", \"Samsung\", \"Apple\", \"Phillips\"), nrow=3, ncol=2)\n",
    "thismatrix2\n",
    "print(thismatrix2) # gives numbering to your matrixes\n",
    "thismatrix2[1:2]\n",
    "thismatrix2[,2] # helps if you want only rows or column. ,is row, 2 is column\n",
    "\n",
    "# Adding rows to the matrix\n",
    "thismatrix2 <- rbind(thismatrix2, c(\"Grundig\", \"Panasonic\"))\n",
    "thismatrix2\n",
    "\n",
    "# Adding columns to the matrix\n",
    "thismatrix2 <- cbind(thismatrix2, c(\"Sony\", \"Telvion\", \"Infinix\", \"Tecno\"))\n",
    "thismatrix2\n",
    "dim(thismatrix2)  #stands for dimension i.e the rows and columns\n",
    "length(thismatrix2)"
   ]
  },
  {
   "cell_type": "code",
   "execution_count": null,
   "id": "6c39fb58",
   "metadata": {
    "vscode": {
     "languageId": "r"
    }
   },
   "outputs": [
    {
     "name": "stdout",
     "output_type": "stream",
     "text": [
      "[1] \"Dell\"\n",
      "[1] \"Samsung\"\n",
      "[1] \"Sony\"\n",
      "[1] \"Toshiba\"\n",
      "[1] \"Apple\"\n",
      "[1] \"Telvion\"\n",
      "[1] \"Hp\"\n",
      "[1] \"Phillips\"\n",
      "[1] \"Infinix\"\n",
      "[1] \"Grundig\"\n",
      "[1] \"Panasonic\"\n",
      "[1] \"Tecno\"\n"
     ]
    }
   ],
   "source": [
    "# nested for loop in matrix\n",
    "\n",
    "for (rows in 1:nrow(thismatrix2)){\n",
    "    for(columns in 1:ncol(thismatrix2)){\n",
    "            print(thismatrix2[rows,columns])\n",
    "    }\n",
    "}"
   ]
  },
  {
   "cell_type": "code",
   "execution_count": null,
   "id": "9b7ff25d",
   "metadata": {
    "vscode": {
     "languageId": "r"
    }
   },
   "outputs": [
    {
     "name": "stdout",
     "output_type": "stream",
     "text": [
      " [1]  1  2  3  4  5  6  7  8  9 10 11 12 13 14 15 16 17 18 19 20 21 22 23 24\n",
      ", , 1\n",
      "\n",
      "     [,1] [,2] [,3]\n",
      "[1,]    1    5    9\n",
      "[2,]    2    6   10\n",
      "[3,]    3    7   11\n",
      "[4,]    4    8   12\n",
      "\n",
      ", , 2\n",
      "\n",
      "     [,1] [,2] [,3]\n",
      "[1,]   13   17   21\n",
      "[2,]   14   18   55\n",
      "[3,]   15   19   23\n",
      "[4,]   16   20   24\n",
      "\n",
      "[1] 1 5 9\n",
      "     [,1] [,2]\n",
      "[1,]    1    9\n",
      "[2,]    2   10\n",
      "[3,]    3   11\n",
      "[4,]    4   12\n"
     ]
    },
    {
     "data": {
      "text/html": [
       "TRUE"
      ],
      "text/latex": [
       "TRUE"
      ],
      "text/markdown": [
       "TRUE"
      ],
      "text/plain": [
       "[1] TRUE"
      ]
     },
     "metadata": {},
     "output_type": "display_data"
    },
    {
     "data": {
      "text/html": [
       "FALSE"
      ],
      "text/latex": [
       "FALSE"
      ],
      "text/markdown": [
       "FALSE"
      ],
      "text/plain": [
       "[1] FALSE"
      ]
     },
     "metadata": {},
     "output_type": "display_data"
    },
    {
     "data": {
      "text/html": [
       "24"
      ],
      "text/latex": [
       "24"
      ],
      "text/markdown": [
       "24"
      ],
      "text/plain": [
       "[1] 24"
      ]
     },
     "metadata": {},
     "output_type": "display_data"
    },
    {
     "name": "stdout",
     "output_type": "stream",
     "text": [
      "[1] 1\n",
      "[1] 2\n",
      "[1] 3\n",
      "[1] 4\n",
      "[1] 5\n",
      "[1] 6\n",
      "[1] 7\n",
      "[1] 8\n",
      "[1] 9\n",
      "[1] 10\n",
      "[1] 11\n",
      "[1] 12\n",
      "[1] 13\n",
      "[1] 14\n",
      "[1] 15\n",
      "[1] 16\n",
      "[1] 17\n",
      "[1] 18\n",
      "[1] 19\n",
      "[1] 20\n",
      "[1] 21\n",
      "[1] 55\n",
      "[1] 23\n",
      "[1] 24\n"
     ]
    }
   ],
   "source": [
    "# Creating an Array\n",
    "\n",
    "thisarray <- c(1:24)\n",
    "print(thisarray)\n",
    "\n",
    "multiarray <- array(thisarray, dim = c(4,3,2))\n",
    "#print(multiarray)\n",
    "\n",
    "multiarray[2,3,2] <- 55  #changing a number in the row and column using the 3rd placement i.e no 2\n",
    "print(multiarray)\n",
    "\n",
    "#Accessing info from the first row\n",
    "print(multiarray[c(1),,1])\n",
    "# accessing info from column\n",
    "print(multiarray[,c(1,3),1])\n",
    "\n",
    "#checking if a number is contained in an array\n",
    "3 %in% multiarray\n",
    "30 %in% multiarray\n",
    "\n",
    "#knowing the length of an array\n",
    "length(multiarray)\n",
    "\n",
    "#looping through an array\n",
    "for(i in multiarray){\n",
    "    print(i);\n",
    "}"
   ]
  },
  {
   "cell_type": "code",
   "execution_count": null,
   "id": "640500f5",
   "metadata": {
    "vscode": {
     "languageId": "r"
    }
   },
   "outputs": [
    {
     "data": {
      "text/html": [
       "<table>\n",
       "<thead><tr><th scope=col>Training</th><th scope=col>Pulse</th><th scope=col>Duration</th></tr></thead>\n",
       "<tbody>\n",
       "\t<tr><td>Walking</td><td>100    </td><td>60     </td></tr>\n",
       "\t<tr><td>Running</td><td>150    </td><td>30     </td></tr>\n",
       "\t<tr><td>Jogging</td><td>140    </td><td>45     </td></tr>\n",
       "</tbody>\n",
       "</table>\n"
      ],
      "text/latex": [
       "\\begin{tabular}{r|lll}\n",
       " Training & Pulse & Duration\\\\\n",
       "\\hline\n",
       "\t Walking & 100     & 60     \\\\\n",
       "\t Running & 150     & 30     \\\\\n",
       "\t Jogging & 140     & 45     \\\\\n",
       "\\end{tabular}\n"
      ],
      "text/markdown": [
       "\n",
       "| Training | Pulse | Duration |\n",
       "|---|---|---|\n",
       "| Walking | 100     | 60      |\n",
       "| Running | 150     | 30      |\n",
       "| Jogging | 140     | 45      |\n",
       "\n"
      ],
      "text/plain": [
       "  Training Pulse Duration\n",
       "1 Walking  100   60      \n",
       "2 Running  150   30      \n",
       "3 Jogging  140   45      "
      ]
     },
     "metadata": {},
     "output_type": "display_data"
    },
    {
     "data": {
      "text/plain": [
       "    Training     Pulse        Duration   \n",
       " Jogging:1   Min.   :100   Min.   :30.0  \n",
       " Running:1   1st Qu.:120   1st Qu.:37.5  \n",
       " Walking:1   Median :140   Median :45.0  \n",
       "             Mean   :130   Mean   :45.0  \n",
       "             3rd Qu.:145   3rd Qu.:52.5  \n",
       "             Max.   :150   Max.   :60.0  "
      ]
     },
     "metadata": {},
     "output_type": "display_data"
    },
    {
     "data": {
      "text/html": [
       "<table>\n",
       "<thead><tr><th scope=col>Training</th></tr></thead>\n",
       "<tbody>\n",
       "\t<tr><td>Walking</td></tr>\n",
       "\t<tr><td>Running</td></tr>\n",
       "\t<tr><td>Jogging</td></tr>\n",
       "</tbody>\n",
       "</table>\n"
      ],
      "text/latex": [
       "\\begin{tabular}{r|l}\n",
       " Training\\\\\n",
       "\\hline\n",
       "\t Walking\\\\\n",
       "\t Running\\\\\n",
       "\t Jogging\\\\\n",
       "\\end{tabular}\n"
      ],
      "text/markdown": [
       "\n",
       "| Training |\n",
       "|---|\n",
       "| Walking |\n",
       "| Running |\n",
       "| Jogging |\n",
       "\n"
      ],
      "text/plain": [
       "  Training\n",
       "1 Walking \n",
       "2 Running \n",
       "3 Jogging "
      ]
     },
     "metadata": {},
     "output_type": "display_data"
    },
    {
     "data": {
      "text/html": [
       "<ol class=list-inline>\n",
       "\t<li>Walking</li>\n",
       "\t<li>Running</li>\n",
       "\t<li>Jogging</li>\n",
       "</ol>\n",
       "\n",
       "<details>\n",
       "\t<summary style=display:list-item;cursor:pointer>\n",
       "\t\t<strong>Levels</strong>:\n",
       "\t</summary>\n",
       "\t<ol class=list-inline>\n",
       "\t\t<li>'Jogging'</li>\n",
       "\t\t<li>'Running'</li>\n",
       "\t\t<li>'Walking'</li>\n",
       "\t</ol>\n",
       "</details>"
      ],
      "text/latex": [
       "\\begin{enumerate*}\n",
       "\\item Walking\n",
       "\\item Running\n",
       "\\item Jogging\n",
       "\\end{enumerate*}\n",
       "\n",
       "\\emph{Levels}: \\begin{enumerate*}\n",
       "\\item 'Jogging'\n",
       "\\item 'Running'\n",
       "\\item 'Walking'\n",
       "\\end{enumerate*}\n"
      ],
      "text/markdown": [
       "1. Walking\n",
       "2. Running\n",
       "3. Jogging\n",
       "\n",
       "\n",
       "\n",
       "**Levels**: 1. 'Jogging'\n",
       "2. 'Running'\n",
       "3. 'Walking'\n",
       "\n",
       "\n"
      ],
      "text/plain": [
       "[1] Walking Running Jogging\n",
       "Levels: Jogging Running Walking"
      ]
     },
     "metadata": {},
     "output_type": "display_data"
    },
    {
     "data": {
      "text/html": [
       "<ol class=list-inline>\n",
       "\t<li>Walking</li>\n",
       "\t<li>Running</li>\n",
       "\t<li>Jogging</li>\n",
       "</ol>\n",
       "\n",
       "<details>\n",
       "\t<summary style=display:list-item;cursor:pointer>\n",
       "\t\t<strong>Levels</strong>:\n",
       "\t</summary>\n",
       "\t<ol class=list-inline>\n",
       "\t\t<li>'Jogging'</li>\n",
       "\t\t<li>'Running'</li>\n",
       "\t\t<li>'Walking'</li>\n",
       "\t</ol>\n",
       "</details>"
      ],
      "text/latex": [
       "\\begin{enumerate*}\n",
       "\\item Walking\n",
       "\\item Running\n",
       "\\item Jogging\n",
       "\\end{enumerate*}\n",
       "\n",
       "\\emph{Levels}: \\begin{enumerate*}\n",
       "\\item 'Jogging'\n",
       "\\item 'Running'\n",
       "\\item 'Walking'\n",
       "\\end{enumerate*}\n"
      ],
      "text/markdown": [
       "1. Walking\n",
       "2. Running\n",
       "3. Jogging\n",
       "\n",
       "\n",
       "\n",
       "**Levels**: 1. 'Jogging'\n",
       "2. 'Running'\n",
       "3. 'Walking'\n",
       "\n",
       "\n"
      ],
      "text/plain": [
       "[1] Walking Running Jogging\n",
       "Levels: Jogging Running Walking"
      ]
     },
     "metadata": {},
     "output_type": "display_data"
    }
   ],
   "source": [
    "# Data Frame\n",
    "\n",
    "data_frame <- data.frame(\n",
    "    Training =c(\"Walking\", \"Running\", \"Jogging\"),\n",
    "    Pulse =c(100, 150, 140),\n",
    "    Duration =c(60, 30, 45)\n",
    "    #stringAsFactors = FALSE\n",
    ")\n",
    "\n",
    "data_frame\n",
    "summary(data_frame)\n",
    "data_frame[1]\n",
    "data_frame[[1]]\n",
    "data_frame[[\"Training\"]]"
   ]
  },
  {
   "cell_type": "code",
   "execution_count": null,
   "id": "feec9e1e",
   "metadata": {
    "vscode": {
     "languageId": "r"
    }
   },
   "outputs": [],
   "source": []
  },
  {
   "cell_type": "code",
   "execution_count": null,
   "id": "bcf1550d",
   "metadata": {
    "vscode": {
     "languageId": "r"
    }
   },
   "outputs": [
    {
     "name": "stdout",
     "output_type": "stream",
     "text": [
      "   Training Pulse Duration\n",
      "1   Walking   100       60\n",
      "2   Running   150       30\n",
      "3   Jogging   140       45\n",
      "4 Wrestling   110      130\n"
     ]
    },
    {
     "data": {
      "text/html": [
       "<table>\n",
       "<thead><tr><th scope=col>Training</th><th scope=col>Pulse</th><th scope=col>Duration</th><th scope=col>Steps</th></tr></thead>\n",
       "<tbody>\n",
       "\t<tr><td>Walking  </td><td>100      </td><td> 60      </td><td>1000     </td></tr>\n",
       "\t<tr><td>Running  </td><td>150      </td><td> 30      </td><td> 600     </td></tr>\n",
       "\t<tr><td>Jogging  </td><td>140      </td><td> 45      </td><td>2000     </td></tr>\n",
       "\t<tr><td>Wrestling</td><td>110      </td><td>130      </td><td> 150     </td></tr>\n",
       "</tbody>\n",
       "</table>\n"
      ],
      "text/latex": [
       "\\begin{tabular}{r|llll}\n",
       " Training & Pulse & Duration & Steps\\\\\n",
       "\\hline\n",
       "\t Walking   & 100       &  60       & 1000     \\\\\n",
       "\t Running   & 150       &  30       &  600     \\\\\n",
       "\t Jogging   & 140       &  45       & 2000     \\\\\n",
       "\t Wrestling & 110       & 130       &  150     \\\\\n",
       "\\end{tabular}\n"
      ],
      "text/markdown": [
       "\n",
       "| Training | Pulse | Duration | Steps |\n",
       "|---|---|---|---|\n",
       "| Walking   | 100       |  60       | 1000      |\n",
       "| Running   | 150       |  30       |  600      |\n",
       "| Jogging   | 140       |  45       | 2000      |\n",
       "| Wrestling | 110       | 130       |  150      |\n",
       "\n"
      ],
      "text/plain": [
       "  Training  Pulse Duration Steps\n",
       "1 Walking   100    60      1000 \n",
       "2 Running   150    30       600 \n",
       "3 Jogging   140    45      2000 \n",
       "4 Wrestling 110   130       150 "
      ]
     },
     "metadata": {},
     "output_type": "display_data"
    }
   ],
   "source": [
    "new_row_df <- rbind(data_frame, data.frame(Training=\"Wrestling\", Pulse=110, Duration=130))\n",
    "\n",
    "print(new_row_df)\n",
    "\n",
    "new_col_df <- cbind(new_row_df, Steps = c(1000, 600, 2000, 150))\n",
    "\n",
    "new_col_df"
   ]
  },
  {
   "cell_type": "code",
   "execution_count": null,
   "id": "abecfd64",
   "metadata": {
    "vscode": {
     "languageId": "r"
    }
   },
   "outputs": [
    {
     "name": "stdout",
     "output_type": "stream",
     "text": [
      "   Training Pulse Duration\n",
      "1   Walking   100       60\n",
      "2   Running   150       30\n",
      "3   Jogging   140       45\n",
      "4 Wrestling   110      130\n",
      "   Training Pulse\n",
      "1   Walking   100\n",
      "2   Running   150\n",
      "3   Jogging   140\n",
      "4 Wrestling   110\n"
     ]
    }
   ],
   "source": [
    "# Removing columns\n",
    "new_col_df$Steps <- NULL #one step\n",
    "print(new_col_df)\n",
    "\n",
    "\n",
    "# Another step to removing column\n",
    "data_frame_new <- new_col_df[, -c(3)]\n",
    "print(data_frame_new)"
   ]
  },
  {
   "cell_type": "code",
   "execution_count": null,
   "id": "c49d729f",
   "metadata": {
    "vscode": {
     "languageId": "r"
    }
   },
   "outputs": [
    {
     "name": "stdout",
     "output_type": "stream",
     "text": [
      "   Training Pulse Duration\n",
      "2   Running   150       30\n",
      "3   Jogging   140       45\n",
      "4 Wrestling   110      130\n",
      "   Training Pulse Duration\n",
      "3   Jogging   140       45\n",
      "4 Wrestling   110      130\n"
     ]
    }
   ],
   "source": [
    "# Removing a row\n",
    "data_frame_new <- new_row_df[-c(1),]\n",
    "print(data_frame_new)\n",
    "\n",
    "# another method for removing row\n",
    "data_frame_new <- data_frame_new[data_frame_new$Training != \"Running\", ]\n",
    "print(data_frame_new)"
   ]
  },
  {
   "cell_type": "code",
   "execution_count": null,
   "id": "fa5cf635",
   "metadata": {
    "vscode": {
     "languageId": "r"
    }
   },
   "outputs": [
    {
     "data": {
      "text/html": [
       "<ol class=list-inline>\n",
       "\t<li>2</li>\n",
       "\t<li>3</li>\n",
       "</ol>\n"
      ],
      "text/latex": [
       "\\begin{enumerate*}\n",
       "\\item 2\n",
       "\\item 3\n",
       "\\end{enumerate*}\n"
      ],
      "text/markdown": [
       "1. 2\n",
       "2. 3\n",
       "\n",
       "\n"
      ],
      "text/plain": [
       "[1] 2 3"
      ]
     },
     "metadata": {},
     "output_type": "display_data"
    },
    {
     "data": {
      "text/html": [
       "2"
      ],
      "text/latex": [
       "2"
      ],
      "text/markdown": [
       "2"
      ],
      "text/plain": [
       "[1] 2"
      ]
     },
     "metadata": {},
     "output_type": "display_data"
    },
    {
     "data": {
      "text/html": [
       "3"
      ],
      "text/latex": [
       "3"
      ],
      "text/markdown": [
       "3"
      ],
      "text/plain": [
       "[1] 3"
      ]
     },
     "metadata": {},
     "output_type": "display_data"
    }
   ],
   "source": [
    "# checkin for dimensions\n",
    "dim(data_frame_new)\n",
    "\n",
    "# Getting the number of rows\n",
    "\n",
    "nrow(data_frame_new)\n",
    "# Getting the number of columns\n",
    "ncol(data_frame_new)"
   ]
  },
  {
   "cell_type": "code",
   "execution_count": null,
   "id": "f1abf87d",
   "metadata": {
    "vscode": {
     "languageId": "r"
    }
   },
   "outputs": [
    {
     "data": {
      "image/png": "[encoded data removed]",
      "text/plain": [
       "Plot with title \"Line from (1, 8) to (8, 10)\""
      ]
     },
     "metadata": {},
     "output_type": "display_data"
    }
   ],
   "source": [
    "\n",
    "# Position (1, 3), (2, 7) (3, 8),(4, 9) and Position (5, 12)\n",
    "plot(c(1,2,3,4,5), c(3,7,8,9,12), col = \"red\", type = \"l\", lwd = 5,lty = 5, pch = 8, cex =2, xlab = \"X-axis\",\n",
    " ylab = \"Y-axis\", main = \"Line from (1, 8) to (8, 10)\")"
   ]
  },
  {
   "cell_type": "code",
   "execution_count": null,
   "id": "4900582e",
   "metadata": {
    "vscode": {
     "languageId": "r"
    }
   },
   "outputs": [
    {
     "data": {
      "image/png": "[encoded data removed]",
      "text/plain": [
       "Plot with title \"Tech Companies\""
      ]
     },
     "metadata": {},
     "output_type": "display_data"
    }
   ],
   "source": [
    "# Plotting a pie chart using R\n",
    "x <- c(10, 20, 30, 40)\n",
    "MyLabel <- c(\"Microsoft\", \"Apple\", \"Samsung\", \"Telsa\")\n",
    "colors <- c(\"blue\", \"yellow\", \"green\", \"red\")\n",
    "pie(x, init.angle = 90, labels = MyLabel, main = \"Tech Companies\", col = colors)\n",
    "\n",
    "# To display Legend\n",
    "legend(\"topright\", MyLabel, fill = colors)"
   ]
  },
  {
   "cell_type": "code",
   "execution_count": null,
   "id": "bce35e93",
   "metadata": {
    "vscode": {
     "languageId": "r"
    }
   },
   "outputs": [
    {
     "data": {
      "image/png": "[encoded data removed]",
      "text/plain": [
       "Plot with title \"Tech companies\""
      ]
     },
     "metadata": {},
     "output_type": "display_data"
    },
    {
     "ename": "",
     "evalue": "",
     "output_type": "error",
     "traceback": [
      "\u001b[1;31mThe Kernel crashed while executing code in the current cell or a previous cell. \n",
      "\u001b[1;31mPlease review the code in the cell(s) to identify a possible cause of the failure. \n",
      "\u001b[1;31mClick <a href='https://aka.ms/vscodeJupyterKernelCrash'>here</a> for more info. \n",
      "\u001b[1;31mView Jupyter <a href='command:jupyter.viewOutput'>log</a> for further details."
     ]
    }
   ],
   "source": [
    "# Plotting a bar chart\n",
    "\n",
    "x <- c(\"Microsoft\", \"Apple\", \"Samsung\", \"Telsa\")\n",
    "\n",
    "y <- c(10, 20, 30, 40)\n",
    "barplot(y, names.arg = x, main = \"Tech companies\", col = colors, horiz = FALSE, density = 40)"
   ]
  },
  {
   "cell_type": "code",
   "execution_count": 2,
   "id": "39fd27b4",
   "metadata": {
    "vscode": {
     "languageId": "r"
    }
   },
   "outputs": [
    {
     "name": "stderr",
     "output_type": "stream",
     "text": [
      "Warning message in data(package = .packages(all.available = TRUE)):\n",
      "\"datasets have been moved from package 'base' to package 'datasets'\"Warning message in data(package = .packages(all.available = TRUE)):\n",
      "\"datasets have been moved from package 'stats' to package 'datasets'\""
     ]
    },
    {
     "name": "stdout",
     "output_type": "stream",
     "text": [
      "Data sets in package 'datasets':\n",
      "\n",
      "AirPassengers           Monthly Airline Passenger Numbers 1949-1960\n",
      "BJsales                 Sales Data with Leading Indicator\n",
      "BJsales.lead (BJsales)\n",
      "                        Sales Data with Leading Indicator\n",
      "BOD                     Biochemical Oxygen Demand\n",
      "CO2                     Carbon Dioxide Uptake in Grass Plants\n",
      "ChickWeight             Weight versus age of chicks on different diets\n",
      "DNase                   Elisa assay of DNase\n",
      "EuStockMarkets          Daily Closing Prices of Major European Stock\n",
      "                        Indices, 1991-1998\n",
      "Formaldehyde            Determination of Formaldehyde\n",
      "HairEyeColor            Hair and Eye Color of Statistics Students\n",
      "Harman23.cor            Harman Example 2.3\n",
      "Harman74.cor            Harman Example 7.4\n",
      "Indometh                Pharmacokinetics of Indomethacin\n",
      "InsectSprays            Effectiveness of Insect Sprays\n",
      "JohnsonJohnson          Quarterly Earnings per Johnson & Johnson Share\n",
      "LakeHuron               Level of Lake Huron 1875-1972\n",
      "LifeCycleSavings        Intercountry Life-Cycle Savings Data\n",
      "Loblolly                Growth of Loblolly pine trees\n",
      "Nile                    Flow of the River Nile\n",
      "Orange                  Growth of Orange Trees\n",
      "OrchardSprays           Potency of Orchard Sprays\n",
      "PlantGrowth             Results from an Experiment on Plant Growth\n",
      "Puromycin               Reaction Velocity of an Enzymatic Reaction\n",
      "Seatbelts               Road Casualties in Great Britain 1969-84\n",
      "Theoph                  Pharmacokinetics of Theophylline\n",
      "Titanic                 Survival of passengers on the Titanic\n",
      "ToothGrowth             The Effect of Vitamin C on Tooth Growth in\n",
      "                        Guinea Pigs\n",
      "UCBAdmissions           Student Admissions at UC Berkeley\n",
      "UKDriverDeaths          Road Casualties in Great Britain 1969-84\n",
      "UKgas                   UK Quarterly Gas Consumption\n",
      "USAccDeaths             Accidental Deaths in the US 1973-1978\n",
      "USArrests               Violent Crime Rates by US State\n",
      "USJudgeRatings          Lawyers' Ratings of State Judges in the US\n",
      "                        Superior Court\n",
      "USPersonalExpenditure   Personal Expenditure Data\n",
      "UScitiesD               Distances Between European Cities and Between\n",
      "                        US Cities\n",
      "VADeaths                Death Rates in Virginia (1940)\n",
      "WWWusage                Internet Usage per Minute\n",
      "WorldPhones             The World's Telephones\n",
      "ability.cov             Ability and Intelligence Tests\n",
      "airmiles                Passenger Miles on Commercial US Airlines,\n",
      "                        1937-1960\n",
      "airquality              New York Air Quality Measurements\n",
      "anscombe                Anscombe's Quartet of 'Identical' Simple Linear\n",
      "                        Regressions\n",
      "attenu                  The Joyner-Boore Attenuation Data\n",
      "attitude                The Chatterjee-Price Attitude Data\n",
      "austres                 Quarterly Time Series of the Number of\n",
      "                        Australian Residents\n",
      "beaver1 (beavers)       Body Temperature Series of Two Beavers\n",
      "beaver2 (beavers)       Body Temperature Series of Two Beavers\n",
      "cars                    Speed and Stopping Distances of Cars\n",
      "chickwts                Chicken Weights by Feed Type\n",
      "co2                     Mauna Loa Atmospheric CO2 Concentration\n",
      "crimtab                 Student's 3000 Criminals Data\n",
      "discoveries             Yearly Numbers of Important Discoveries\n",
      "esoph                   Smoking, Alcohol and (O)esophageal Cancer\n",
      "euro                    Conversion Rates of Euro Currencies\n",
      "euro.cross (euro)       Conversion Rates of Euro Currencies\n",
      "eurodist                Distances Between European Cities and Between\n",
      "                        US Cities\n",
      "faithful                Old Faithful Geyser Data\n",
      "fdeaths (UKLungDeaths)\n",
      "                        Monthly Deaths from Lung Diseases in the UK\n",
      "freeny                  Freeny's Revenue Data\n",
      "freeny.x (freeny)       Freeny's Revenue Data\n",
      "freeny.y (freeny)       Freeny's Revenue Data\n",
      "infert                  Infertility after Spontaneous and Induced\n",
      "                        Abortion\n",
      "iris                    Edgar Anderson's Iris Data\n",
      "iris3                   Edgar Anderson's Iris Data\n",
      "islands                 Areas of the World's Major Landmasses\n",
      "ldeaths (UKLungDeaths)\n",
      "                        Monthly Deaths from Lung Diseases in the UK\n",
      "lh                      Luteinizing Hormone in Blood Samples\n",
      "longley                 Longley's Economic Regression Data\n",
      "lynx                    Annual Canadian Lynx trappings 1821-1934\n",
      "mdeaths (UKLungDeaths)\n",
      "                        Monthly Deaths from Lung Diseases in the UK\n",
      "morley                  Michelson Speed of Light Data\n",
      "mtcars                  Motor Trend Car Road Tests\n",
      "nhtemp                  Average Yearly Temperatures in New Haven\n",
      "nottem                  Average Monthly Temperatures at Nottingham,\n",
      "                        1920-1939\n",
      "npk                     Classical N, P, K Factorial Experiment\n",
      "occupationalStatus      Occupational Status of Fathers and their Sons\n",
      "precip                  Annual Precipitation in US Cities\n",
      "presidents              Quarterly Approval Ratings of US Presidents\n",
      "pressure                Vapor Pressure of Mercury as a Function of\n",
      "                        Temperature\n",
      "quakes                  Locations of Earthquakes off Fiji\n",
      "randu                   Random Numbers from Congruential Generator\n",
      "                        RANDU\n",
      "rivers                  Lengths of Major North American Rivers\n",
      "rock                    Measurements on Petroleum Rock Samples\n",
      "sleep                   Student's Sleep Data\n",
      "stack.loss (stackloss)\n",
      "                        Brownlee's Stack Loss Plant Data\n",
      "stack.x (stackloss)     Brownlee's Stack Loss Plant Data\n",
      "stackloss               Brownlee's Stack Loss Plant Data\n",
      "state.abb (state)       US State Facts and Figures\n",
      "state.area (state)      US State Facts and Figures\n",
      "state.center (state)    US State Facts and Figures\n",
      "state.division (state)\n",
      "                        US State Facts and Figures\n",
      "state.name (state)      US State Facts and Figures\n",
      "state.region (state)    US State Facts and Figures\n",
      "state.x77 (state)       US State Facts and Figures\n",
      "sunspot.month           Monthly Sunspot Data, from 1749 to \"Present\"\n",
      "sunspot.year            Yearly Sunspot Data, 1700-1988\n",
      "sunspots                Monthly Sunspot Numbers, 1749-1983\n",
      "swiss                   Swiss Fertility and Socioeconomic Indicators\n",
      "                        (1888) Data\n",
      "treering                Yearly Treering Data, -6000-1979\n",
      "trees                   Diameter, Height and Volume for Black Cherry\n",
      "                        Trees\n",
      "uspop                   Populations Recorded by the US Census\n",
      "volcano                 Topographic Information on Auckland's Maunga\n",
      "                        Whau Volcano\n",
      "warpbreaks              The Number of Breaks in Yarn during Weaving\n",
      "women                   Average Heights and Weights for American Women"
     ]
    }
   ],
   "source": [
    "data(package = .packages(all.available = TRUE)) "
   ]
  },
  {
   "cell_type": "code",
   "execution_count": 3,
   "id": "79d0831e",
   "metadata": {
    "vscode": {
     "languageId": "r"
    }
   },
   "outputs": [
    {
     "name": "stderr",
     "output_type": "stream",
     "text": [
      "Warning message in data(package = .packages(all.available = TRUE)):\n",
      "\"datasets have been moved from package 'base' to package 'datasets'\"Warning message in data(package = .packages(all.available = TRUE)):\n",
      "\"datasets have been moved from package 'stats' to package 'datasets'\""
     ]
    },
    {
     "data": {
      "text/html": [
       "104"
      ],
      "text/latex": [
       "104"
      ],
      "text/markdown": [
       "104"
      ],
      "text/plain": [
       "[1] 104"
      ]
     },
     "metadata": {},
     "output_type": "display_data"
    }
   ],
   "source": [
    "all_datasets <- data(package = .packages(all.available = TRUE))$results[, \"Item\"]\n",
    "length(all_datasets)"
   ]
  },
  {
   "cell_type": "code",
   "execution_count": null,
   "id": "8603f44b",
   "metadata": {
    "vscode": {
     "languageId": "r"
    }
   },
   "outputs": [
    {
     "data": {
      "text/html": [
       "<table>\n",
       "<thead><tr><th scope=col>Sepal.Length</th><th scope=col>Sepal.Width</th><th scope=col>Petal.Length</th><th scope=col>Petal.Width</th><th scope=col>Species</th></tr></thead>\n",
       "<tbody>\n",
       "\t<tr><td>5.1   </td><td>3.5   </td><td>1.4   </td><td>0.2   </td><td>setosa</td></tr>\n",
       "\t<tr><td>4.9   </td><td>3.0   </td><td>1.4   </td><td>0.2   </td><td>setosa</td></tr>\n",
       "\t<tr><td>4.7   </td><td>3.2   </td><td>1.3   </td><td>0.2   </td><td>setosa</td></tr>\n",
       "\t<tr><td>4.6   </td><td>3.1   </td><td>1.5   </td><td>0.2   </td><td>setosa</td></tr>\n",
       "\t<tr><td>5.0   </td><td>3.6   </td><td>1.4   </td><td>0.2   </td><td>setosa</td></tr>\n",
       "\t<tr><td>5.4   </td><td>3.9   </td><td>1.7   </td><td>0.4   </td><td>setosa</td></tr>\n",
       "\t<tr><td>4.6   </td><td>3.4   </td><td>1.4   </td><td>0.3   </td><td>setosa</td></tr>\n",
       "\t<tr><td>5.0   </td><td>3.4   </td><td>1.5   </td><td>0.2   </td><td>setosa</td></tr>\n",
       "\t<tr><td>4.4   </td><td>2.9   </td><td>1.4   </td><td>0.2   </td><td>setosa</td></tr>\n",
       "\t<tr><td>4.9   </td><td>3.1   </td><td>1.5   </td><td>0.1   </td><td>setosa</td></tr>\n",
       "\t<tr><td>5.4   </td><td>3.7   </td><td>1.5   </td><td>0.2   </td><td>setosa</td></tr>\n",
       "\t<tr><td>4.8   </td><td>3.4   </td><td>1.6   </td><td>0.2   </td><td>setosa</td></tr>\n",
       "\t<tr><td>4.8   </td><td>3.0   </td><td>1.4   </td><td>0.1   </td><td>setosa</td></tr>\n",
       "\t<tr><td>4.3   </td><td>3.0   </td><td>1.1   </td><td>0.1   </td><td>setosa</td></tr>\n",
       "\t<tr><td>5.8   </td><td>4.0   </td><td>1.2   </td><td>0.2   </td><td>setosa</td></tr>\n",
       "\t<tr><td>5.7   </td><td>4.4   </td><td>1.5   </td><td>0.4   </td><td>setosa</td></tr>\n",
       "\t<tr><td>5.4   </td><td>3.9   </td><td>1.3   </td><td>0.4   </td><td>setosa</td></tr>\n",
       "\t<tr><td>5.1   </td><td>3.5   </td><td>1.4   </td><td>0.3   </td><td>setosa</td></tr>\n",
       "\t<tr><td>5.7   </td><td>3.8   </td><td>1.7   </td><td>0.3   </td><td>setosa</td></tr>\n",
       "\t<tr><td>5.1   </td><td>3.8   </td><td>1.5   </td><td>0.3   </td><td>setosa</td></tr>\n",
       "\t<tr><td>5.4   </td><td>3.4   </td><td>1.7   </td><td>0.2   </td><td>setosa</td></tr>\n",
       "\t<tr><td>5.1   </td><td>3.7   </td><td>1.5   </td><td>0.4   </td><td>setosa</td></tr>\n",
       "\t<tr><td>4.6   </td><td>3.6   </td><td>1.0   </td><td>0.2   </td><td>setosa</td></tr>\n",
       "\t<tr><td>5.1   </td><td>3.3   </td><td>1.7   </td><td>0.5   </td><td>setosa</td></tr>\n",
       "\t<tr><td>4.8   </td><td>3.4   </td><td>1.9   </td><td>0.2   </td><td>setosa</td></tr>\n",
       "\t<tr><td>5.0   </td><td>3.0   </td><td>1.6   </td><td>0.2   </td><td>setosa</td></tr>\n",
       "\t<tr><td>5.0   </td><td>3.4   </td><td>1.6   </td><td>0.4   </td><td>setosa</td></tr>\n",
       "\t<tr><td>5.2   </td><td>3.5   </td><td>1.5   </td><td>0.2   </td><td>setosa</td></tr>\n",
       "\t<tr><td>5.2   </td><td>3.4   </td><td>1.4   </td><td>0.2   </td><td>setosa</td></tr>\n",
       "\t<tr><td>4.7   </td><td>3.2   </td><td>1.6   </td><td>0.2   </td><td>setosa</td></tr>\n",
       "\t<tr><td>...</td><td>...</td><td>...</td><td>...</td><td>...</td></tr>\n",
       "\t<tr><td>6.9      </td><td>3.2      </td><td>5.7      </td><td>2.3      </td><td>virginica</td></tr>\n",
       "\t<tr><td>5.6      </td><td>2.8      </td><td>4.9      </td><td>2.0      </td><td>virginica</td></tr>\n",
       "\t<tr><td>7.7      </td><td>2.8      </td><td>6.7      </td><td>2.0      </td><td>virginica</td></tr>\n",
       "\t<tr><td>6.3      </td><td>2.7      </td><td>4.9      </td><td>1.8      </td><td>virginica</td></tr>\n",
       "\t<tr><td>6.7      </td><td>3.3      </td><td>5.7      </td><td>2.1      </td><td>virginica</td></tr>\n",
       "\t<tr><td>7.2      </td><td>3.2      </td><td>6.0      </td><td>1.8      </td><td>virginica</td></tr>\n",
       "\t<tr><td>6.2      </td><td>2.8      </td><td>4.8      </td><td>1.8      </td><td>virginica</td></tr>\n",
       "\t<tr><td>6.1      </td><td>3.0      </td><td>4.9      </td><td>1.8      </td><td>virginica</td></tr>\n",
       "\t<tr><td>6.4      </td><td>2.8      </td><td>5.6      </td><td>2.1      </td><td>virginica</td></tr>\n",
       "\t<tr><td>7.2      </td><td>3.0      </td><td>5.8      </td><td>1.6      </td><td>virginica</td></tr>\n",
       "\t<tr><td>7.4      </td><td>2.8      </td><td>6.1      </td><td>1.9      </td><td>virginica</td></tr>\n",
       "\t<tr><td>7.9      </td><td>3.8      </td><td>6.4      </td><td>2.0      </td><td>virginica</td></tr>\n",
       "\t<tr><td>6.4      </td><td>2.8      </td><td>5.6      </td><td>2.2      </td><td>virginica</td></tr>\n",
       "\t<tr><td>6.3      </td><td>2.8      </td><td>5.1      </td><td>1.5      </td><td>virginica</td></tr>\n",
       "\t<tr><td>6.1      </td><td>2.6      </td><td>5.6      </td><td>1.4      </td><td>virginica</td></tr>\n",
       "\t<tr><td>7.7      </td><td>3.0      </td><td>6.1      </td><td>2.3      </td><td>virginica</td></tr>\n",
       "\t<tr><td>6.3      </td><td>3.4      </td><td>5.6      </td><td>2.4      </td><td>virginica</td></tr>\n",
       "\t<tr><td>6.4      </td><td>3.1      </td><td>5.5      </td><td>1.8      </td><td>virginica</td></tr>\n",
       "\t<tr><td>6.0      </td><td>3.0      </td><td>4.8      </td><td>1.8      </td><td>virginica</td></tr>\n",
       "\t<tr><td>6.9      </td><td>3.1      </td><td>5.4      </td><td>2.1      </td><td>virginica</td></tr>\n",
       "\t<tr><td>6.7      </td><td>3.1      </td><td>5.6      </td><td>2.4      </td><td>virginica</td></tr>\n",
       "\t<tr><td>6.9      </td><td>3.1      </td><td>5.1      </td><td>2.3      </td><td>virginica</td></tr>\n",
       "\t<tr><td>5.8      </td><td>2.7      </td><td>5.1      </td><td>1.9      </td><td>virginica</td></tr>\n",
       "\t<tr><td>6.8      </td><td>3.2      </td><td>5.9      </td><td>2.3      </td><td>virginica</td></tr>\n",
       "\t<tr><td>6.7      </td><td>3.3      </td><td>5.7      </td><td>2.5      </td><td>virginica</td></tr>\n",
       "\t<tr><td>6.7      </td><td>3.0      </td><td>5.2      </td><td>2.3      </td><td>virginica</td></tr>\n",
       "\t<tr><td>6.3      </td><td>2.5      </td><td>5.0      </td><td>1.9      </td><td>virginica</td></tr>\n",
       "\t<tr><td>6.5      </td><td>3.0      </td><td>5.2      </td><td>2.0      </td><td>virginica</td></tr>\n",
       "\t<tr><td>6.2      </td><td>3.4      </td><td>5.4      </td><td>2.3      </td><td>virginica</td></tr>\n",
       "\t<tr><td>5.9      </td><td>3.0      </td><td>5.1      </td><td>1.8      </td><td>virginica</td></tr>\n",
       "</tbody>\n",
       "</table>\n"
      ],
      "text/latex": [
       "\\begin{tabular}{r|lllll}\n",
       " Sepal.Length & Sepal.Width & Petal.Length & Petal.Width & Species\\\\\n",
       "\\hline\n",
       "\t 5.1    & 3.5    & 1.4    & 0.2    & setosa\\\\\n",
       "\t 4.9    & 3.0    & 1.4    & 0.2    & setosa\\\\\n",
       "\t 4.7    & 3.2    & 1.3    & 0.2    & setosa\\\\\n",
       "\t 4.6    & 3.1    & 1.5    & 0.2    & setosa\\\\\n",
       "\t 5.0    & 3.6    & 1.4    & 0.2    & setosa\\\\\n",
       "\t 5.4    & 3.9    & 1.7    & 0.4    & setosa\\\\\n",
       "\t 4.6    & 3.4    & 1.4    & 0.3    & setosa\\\\\n",
       "\t 5.0    & 3.4    & 1.5    & 0.2    & setosa\\\\\n",
       "\t 4.4    & 2.9    & 1.4    & 0.2    & setosa\\\\\n",
       "\t 4.9    & 3.1    & 1.5    & 0.1    & setosa\\\\\n",
       "\t 5.4    & 3.7    & 1.5    & 0.2    & setosa\\\\\n",
       "\t 4.8    & 3.4    & 1.6    & 0.2    & setosa\\\\\n",
       "\t 4.8    & 3.0    & 1.4    & 0.1    & setosa\\\\\n",
       "\t 4.3    & 3.0    & 1.1    & 0.1    & setosa\\\\\n",
       "\t 5.8    & 4.0    & 1.2    & 0.2    & setosa\\\\\n",
       "\t 5.7    & 4.4    & 1.5    & 0.4    & setosa\\\\\n",
       "\t 5.4    & 3.9    & 1.3    & 0.4    & setosa\\\\\n",
       "\t 5.1    & 3.5    & 1.4    & 0.3    & setosa\\\\\n",
       "\t 5.7    & 3.8    & 1.7    & 0.3    & setosa\\\\\n",
       "\t 5.1    & 3.8    & 1.5    & 0.3    & setosa\\\\\n",
       "\t 5.4    & 3.4    & 1.7    & 0.2    & setosa\\\\\n",
       "\t 5.1    & 3.7    & 1.5    & 0.4    & setosa\\\\\n",
       "\t 4.6    & 3.6    & 1.0    & 0.2    & setosa\\\\\n",
       "\t 5.1    & 3.3    & 1.7    & 0.5    & setosa\\\\\n",
       "\t 4.8    & 3.4    & 1.9    & 0.2    & setosa\\\\\n",
       "\t 5.0    & 3.0    & 1.6    & 0.2    & setosa\\\\\n",
       "\t 5.0    & 3.4    & 1.6    & 0.4    & setosa\\\\\n",
       "\t 5.2    & 3.5    & 1.5    & 0.2    & setosa\\\\\n",
       "\t 5.2    & 3.4    & 1.4    & 0.2    & setosa\\\\\n",
       "\t 4.7    & 3.2    & 1.6    & 0.2    & setosa\\\\\n",
       "\t ... & ... & ... & ... & ...\\\\\n",
       "\t 6.9       & 3.2       & 5.7       & 2.3       & virginica\\\\\n",
       "\t 5.6       & 2.8       & 4.9       & 2.0       & virginica\\\\\n",
       "\t 7.7       & 2.8       & 6.7       & 2.0       & virginica\\\\\n",
       "\t 6.3       & 2.7       & 4.9       & 1.8       & virginica\\\\\n",
       "\t 6.7       & 3.3       & 5.7       & 2.1       & virginica\\\\\n",
       "\t 7.2       & 3.2       & 6.0       & 1.8       & virginica\\\\\n",
       "\t 6.2       & 2.8       & 4.8       & 1.8       & virginica\\\\\n",
       "\t 6.1       & 3.0       & 4.9       & 1.8       & virginica\\\\\n",
       "\t 6.4       & 2.8       & 5.6       & 2.1       & virginica\\\\\n",
       "\t 7.2       & 3.0       & 5.8       & 1.6       & virginica\\\\\n",
       "\t 7.4       & 2.8       & 6.1       & 1.9       & virginica\\\\\n",
       "\t 7.9       & 3.8       & 6.4       & 2.0       & virginica\\\\\n",
       "\t 6.4       & 2.8       & 5.6       & 2.2       & virginica\\\\\n",
       "\t 6.3       & 2.8       & 5.1       & 1.5       & virginica\\\\\n",
       "\t 6.1       & 2.6       & 5.6       & 1.4       & virginica\\\\\n",
       "\t 7.7       & 3.0       & 6.1       & 2.3       & virginica\\\\\n",
       "\t 6.3       & 3.4       & 5.6       & 2.4       & virginica\\\\\n",
       "\t 6.4       & 3.1       & 5.5       & 1.8       & virginica\\\\\n",
       "\t 6.0       & 3.0       & 4.8       & 1.8       & virginica\\\\\n",
       "\t 6.9       & 3.1       & 5.4       & 2.1       & virginica\\\\\n",
       "\t 6.7       & 3.1       & 5.6       & 2.4       & virginica\\\\\n",
       "\t 6.9       & 3.1       & 5.1       & 2.3       & virginica\\\\\n",
       "\t 5.8       & 2.7       & 5.1       & 1.9       & virginica\\\\\n",
       "\t 6.8       & 3.2       & 5.9       & 2.3       & virginica\\\\\n",
       "\t 6.7       & 3.3       & 5.7       & 2.5       & virginica\\\\\n",
       "\t 6.7       & 3.0       & 5.2       & 2.3       & virginica\\\\\n",
       "\t 6.3       & 2.5       & 5.0       & 1.9       & virginica\\\\\n",
       "\t 6.5       & 3.0       & 5.2       & 2.0       & virginica\\\\\n",
       "\t 6.2       & 3.4       & 5.4       & 2.3       & virginica\\\\\n",
       "\t 5.9       & 3.0       & 5.1       & 1.8       & virginica\\\\\n",
       "\\end{tabular}\n"
      ],
      "text/markdown": [
       "\n",
       "| Sepal.Length | Sepal.Width | Petal.Length | Petal.Width | Species |\n",
       "|---|---|---|---|---|\n",
       "| 5.1    | 3.5    | 1.4    | 0.2    | setosa |\n",
       "| 4.9    | 3.0    | 1.4    | 0.2    | setosa |\n",
       "| 4.7    | 3.2    | 1.3    | 0.2    | setosa |\n",
       "| 4.6    | 3.1    | 1.5    | 0.2    | setosa |\n",
       "| 5.0    | 3.6    | 1.4    | 0.2    | setosa |\n",
       "| 5.4    | 3.9    | 1.7    | 0.4    | setosa |\n",
       "| 4.6    | 3.4    | 1.4    | 0.3    | setosa |\n",
       "| 5.0    | 3.4    | 1.5    | 0.2    | setosa |\n",
       "| 4.4    | 2.9    | 1.4    | 0.2    | setosa |\n",
       "| 4.9    | 3.1    | 1.5    | 0.1    | setosa |\n",
       "| 5.4    | 3.7    | 1.5    | 0.2    | setosa |\n",
       "| 4.8    | 3.4    | 1.6    | 0.2    | setosa |\n",
       "| 4.8    | 3.0    | 1.4    | 0.1    | setosa |\n",
       "| 4.3    | 3.0    | 1.1    | 0.1    | setosa |\n",
       "| 5.8    | 4.0    | 1.2    | 0.2    | setosa |\n",
       "| 5.7    | 4.4    | 1.5    | 0.4    | setosa |\n",
       "| 5.4    | 3.9    | 1.3    | 0.4    | setosa |\n",
       "| 5.1    | 3.5    | 1.4    | 0.3    | setosa |\n",
       "| 5.7    | 3.8    | 1.7    | 0.3    | setosa |\n",
       "| 5.1    | 3.8    | 1.5    | 0.3    | setosa |\n",
       "| 5.4    | 3.4    | 1.7    | 0.2    | setosa |\n",
       "| 5.1    | 3.7    | 1.5    | 0.4    | setosa |\n",
       "| 4.6    | 3.6    | 1.0    | 0.2    | setosa |\n",
       "| 5.1    | 3.3    | 1.7    | 0.5    | setosa |\n",
       "| 4.8    | 3.4    | 1.9    | 0.2    | setosa |\n",
       "| 5.0    | 3.0    | 1.6    | 0.2    | setosa |\n",
       "| 5.0    | 3.4    | 1.6    | 0.4    | setosa |\n",
       "| 5.2    | 3.5    | 1.5    | 0.2    | setosa |\n",
       "| 5.2    | 3.4    | 1.4    | 0.2    | setosa |\n",
       "| 4.7    | 3.2    | 1.6    | 0.2    | setosa |\n",
       "| ... | ... | ... | ... | ... |\n",
       "| 6.9       | 3.2       | 5.7       | 2.3       | virginica |\n",
       "| 5.6       | 2.8       | 4.9       | 2.0       | virginica |\n",
       "| 7.7       | 2.8       | 6.7       | 2.0       | virginica |\n",
       "| 6.3       | 2.7       | 4.9       | 1.8       | virginica |\n",
       "| 6.7       | 3.3       | 5.7       | 2.1       | virginica |\n",
       "| 7.2       | 3.2       | 6.0       | 1.8       | virginica |\n",
       "| 6.2       | 2.8       | 4.8       | 1.8       | virginica |\n",
       "| 6.1       | 3.0       | 4.9       | 1.8       | virginica |\n",
       "| 6.4       | 2.8       | 5.6       | 2.1       | virginica |\n",
       "| 7.2       | 3.0       | 5.8       | 1.6       | virginica |\n",
       "| 7.4       | 2.8       | 6.1       | 1.9       | virginica |\n",
       "| 7.9       | 3.8       | 6.4       | 2.0       | virginica |\n",
       "| 6.4       | 2.8       | 5.6       | 2.2       | virginica |\n",
       "| 6.3       | 2.8       | 5.1       | 1.5       | virginica |\n",
       "| 6.1       | 2.6       | 5.6       | 1.4       | virginica |\n",
       "| 7.7       | 3.0       | 6.1       | 2.3       | virginica |\n",
       "| 6.3       | 3.4       | 5.6       | 2.4       | virginica |\n",
       "| 6.4       | 3.1       | 5.5       | 1.8       | virginica |\n",
       "| 6.0       | 3.0       | 4.8       | 1.8       | virginica |\n",
       "| 6.9       | 3.1       | 5.4       | 2.1       | virginica |\n",
       "| 6.7       | 3.1       | 5.6       | 2.4       | virginica |\n",
       "| 6.9       | 3.1       | 5.1       | 2.3       | virginica |\n",
       "| 5.8       | 2.7       | 5.1       | 1.9       | virginica |\n",
       "| 6.8       | 3.2       | 5.9       | 2.3       | virginica |\n",
       "| 6.7       | 3.3       | 5.7       | 2.5       | virginica |\n",
       "| 6.7       | 3.0       | 5.2       | 2.3       | virginica |\n",
       "| 6.3       | 2.5       | 5.0       | 1.9       | virginica |\n",
       "| 6.5       | 3.0       | 5.2       | 2.0       | virginica |\n",
       "| 6.2       | 3.4       | 5.4       | 2.3       | virginica |\n",
       "| 5.9       | 3.0       | 5.1       | 1.8       | virginica |\n",
       "\n"
      ],
      "text/plain": [
       "    Sepal.Length Sepal.Width Petal.Length Petal.Width Species  \n",
       "1   5.1          3.5         1.4          0.2         setosa   \n",
       "2   4.9          3.0         1.4          0.2         setosa   \n",
       "3   4.7          3.2         1.3          0.2         setosa   \n",
       "4   4.6          3.1         1.5          0.2         setosa   \n",
       "5   5.0          3.6         1.4          0.2         setosa   \n",
       "6   5.4          3.9         1.7          0.4         setosa   \n",
       "7   4.6          3.4         1.4          0.3         setosa   \n",
       "8   5.0          3.4         1.5          0.2         setosa   \n",
       "9   4.4          2.9         1.4          0.2         setosa   \n",
       "10  4.9          3.1         1.5          0.1         setosa   \n",
       "11  5.4          3.7         1.5          0.2         setosa   \n",
       "12  4.8          3.4         1.6          0.2         setosa   \n",
       "13  4.8          3.0         1.4          0.1         setosa   \n",
       "14  4.3          3.0         1.1          0.1         setosa   \n",
       "15  5.8          4.0         1.2          0.2         setosa   \n",
       "16  5.7          4.4         1.5          0.4         setosa   \n",
       "17  5.4          3.9         1.3          0.4         setosa   \n",
       "18  5.1          3.5         1.4          0.3         setosa   \n",
       "19  5.7          3.8         1.7          0.3         setosa   \n",
       "20  5.1          3.8         1.5          0.3         setosa   \n",
       "21  5.4          3.4         1.7          0.2         setosa   \n",
       "22  5.1          3.7         1.5          0.4         setosa   \n",
       "23  4.6          3.6         1.0          0.2         setosa   \n",
       "24  5.1          3.3         1.7          0.5         setosa   \n",
       "25  4.8          3.4         1.9          0.2         setosa   \n",
       "26  5.0          3.0         1.6          0.2         setosa   \n",
       "27  5.0          3.4         1.6          0.4         setosa   \n",
       "28  5.2          3.5         1.5          0.2         setosa   \n",
       "29  5.2          3.4         1.4          0.2         setosa   \n",
       "30  4.7          3.2         1.6          0.2         setosa   \n",
       "... ...          ...         ...          ...         ...      \n",
       "121 6.9          3.2         5.7          2.3         virginica\n",
       "122 5.6          2.8         4.9          2.0         virginica\n",
       "123 7.7          2.8         6.7          2.0         virginica\n",
       "124 6.3          2.7         4.9          1.8         virginica\n",
       "125 6.7          3.3         5.7          2.1         virginica\n",
       "126 7.2          3.2         6.0          1.8         virginica\n",
       "127 6.2          2.8         4.8          1.8         virginica\n",
       "128 6.1          3.0         4.9          1.8         virginica\n",
       "129 6.4          2.8         5.6          2.1         virginica\n",
       "130 7.2          3.0         5.8          1.6         virginica\n",
       "131 7.4          2.8         6.1          1.9         virginica\n",
       "132 7.9          3.8         6.4          2.0         virginica\n",
       "133 6.4          2.8         5.6          2.2         virginica\n",
       "134 6.3          2.8         5.1          1.5         virginica\n",
       "135 6.1          2.6         5.6          1.4         virginica\n",
       "136 7.7          3.0         6.1          2.3         virginica\n",
       "137 6.3          3.4         5.6          2.4         virginica\n",
       "138 6.4          3.1         5.5          1.8         virginica\n",
       "139 6.0          3.0         4.8          1.8         virginica\n",
       "140 6.9          3.1         5.4          2.1         virginica\n",
       "141 6.7          3.1         5.6          2.4         virginica\n",
       "142 6.9          3.1         5.1          2.3         virginica\n",
       "143 5.8          2.7         5.1          1.9         virginica\n",
       "144 6.8          3.2         5.9          2.3         virginica\n",
       "145 6.7          3.3         5.7          2.5         virginica\n",
       "146 6.7          3.0         5.2          2.3         virginica\n",
       "147 6.3          2.5         5.0          1.9         virginica\n",
       "148 6.5          3.0         5.2          2.0         virginica\n",
       "149 6.2          3.4         5.4          2.3         virginica\n",
       "150 5.9          3.0         5.1          1.8         virginica"
      ]
     },
     "metadata": {},
     "output_type": "display_data"
    },
    {
     "data": {
      "text/html": [
       "<ol class=list-inline>\n",
       "\t<li>setosa</li>\n",
       "\t<li>versicolor</li>\n",
       "\t<li>virginica</li>\n",
       "</ol>\n",
       "\n",
       "<details>\n",
       "\t<summary style=display:list-item;cursor:pointer>\n",
       "\t\t<strong>Levels</strong>:\n",
       "\t</summary>\n",
       "\t<ol class=list-inline>\n",
       "\t\t<li>'setosa'</li>\n",
       "\t\t<li>'versicolor'</li>\n",
       "\t\t<li>'virginica'</li>\n",
       "\t</ol>\n",
       "</details>"
      ],
      "text/latex": [
       "\\begin{enumerate*}\n",
       "\\item setosa\n",
       "\\item versicolor\n",
       "\\item virginica\n",
       "\\end{enumerate*}\n",
       "\n",
       "\\emph{Levels}: \\begin{enumerate*}\n",
       "\\item 'setosa'\n",
       "\\item 'versicolor'\n",
       "\\item 'virginica'\n",
       "\\end{enumerate*}\n"
      ],
      "text/markdown": [
       "1. setosa\n",
       "2. versicolor\n",
       "3. virginica\n",
       "\n",
       "\n",
       "\n",
       "**Levels**: 1. 'setosa'\n",
       "2. 'versicolor'\n",
       "3. 'virginica'\n",
       "\n",
       "\n"
      ],
      "text/plain": [
       "[1] setosa     versicolor virginica \n",
       "Levels: setosa versicolor virginica"
      ]
     },
     "metadata": {},
     "output_type": "display_data"
    },
    {
     "ename": "",
     "evalue": "",
     "output_type": "error",
     "traceback": [
      "\u001b[1;31mThe Kernel crashed while executing code in the current cell or a previous cell. \n",
      "\u001b[1;31mPlease review the code in the cell(s) to identify a possible cause of the failure. \n",
      "\u001b[1;31mClick <a href='https://aka.ms/vscodeJupyterKernelCrash'>here</a> for more info. \n",
      "\u001b[1;31mView Jupyter <a href='command:jupyter.viewOutput'>log</a> for further details."
     ]
    }
   ],
   "source": [
    "data(iris)\n",
    "iris\n",
    "# Unique Values\n",
    "dflower <- iris\n",
    "unique(dflower$Species)"
   ]
  },
  {
   "cell_type": "code",
   "execution_count": 1,
   "id": "07a46ad1",
   "metadata": {
    "vscode": {
     "languageId": "r"
    }
   },
   "outputs": [
    {
     "data": {
      "text/html": [
       "<table>\n",
       "<thead><tr><th></th><th scope=col>mpg</th><th scope=col>cyl</th><th scope=col>disp</th><th scope=col>hp</th><th scope=col>drat</th><th scope=col>wt</th><th scope=col>qsec</th><th scope=col>vs</th><th scope=col>am</th><th scope=col>gear</th><th scope=col>carb</th></tr></thead>\n",
       "<tbody>\n",
       "\t<tr><th scope=row>Mazda RX4</th><td>21.0 </td><td>6    </td><td>160  </td><td>110  </td><td>3.90 </td><td>2.620</td><td>16.46</td><td>0    </td><td>1    </td><td>4    </td><td>4    </td></tr>\n",
       "\t<tr><th scope=row>Mazda RX4 Wag</th><td>21.0 </td><td>6    </td><td>160  </td><td>110  </td><td>3.90 </td><td>2.875</td><td>17.02</td><td>0    </td><td>1    </td><td>4    </td><td>4    </td></tr>\n",
       "\t<tr><th scope=row>Datsun 710</th><td>22.8 </td><td>4    </td><td>108  </td><td> 93  </td><td>3.85 </td><td>2.320</td><td>18.61</td><td>1    </td><td>1    </td><td>4    </td><td>1    </td></tr>\n",
       "\t<tr><th scope=row>Hornet 4 Drive</th><td>21.4 </td><td>6    </td><td>258  </td><td>110  </td><td>3.08 </td><td>3.215</td><td>19.44</td><td>1    </td><td>0    </td><td>3    </td><td>1    </td></tr>\n",
       "\t<tr><th scope=row>Hornet Sportabout</th><td>18.7 </td><td>8    </td><td>360  </td><td>175  </td><td>3.15 </td><td>3.440</td><td>17.02</td><td>0    </td><td>0    </td><td>3    </td><td>2    </td></tr>\n",
       "\t<tr><th scope=row>Valiant</th><td>18.1 </td><td>6    </td><td>225  </td><td>105  </td><td>2.76 </td><td>3.460</td><td>20.22</td><td>1    </td><td>0    </td><td>3    </td><td>1    </td></tr>\n",
       "</tbody>\n",
       "</table>\n"
      ],
      "text/latex": [
       "\\begin{tabular}{r|lllllllllll}\n",
       "  & mpg & cyl & disp & hp & drat & wt & qsec & vs & am & gear & carb\\\\\n",
       "\\hline\n",
       "\tMazda RX4 & 21.0  & 6     & 160   & 110   & 3.90  & 2.620 & 16.46 & 0     & 1     & 4     & 4    \\\\\n",
       "\tMazda RX4 Wag & 21.0  & 6     & 160   & 110   & 3.90  & 2.875 & 17.02 & 0     & 1     & 4     & 4    \\\\\n",
       "\tDatsun 710 & 22.8  & 4     & 108   &  93   & 3.85  & 2.320 & 18.61 & 1     & 1     & 4     & 1    \\\\\n",
       "\tHornet 4 Drive & 21.4  & 6     & 258   & 110   & 3.08  & 3.215 & 19.44 & 1     & 0     & 3     & 1    \\\\\n",
       "\tHornet Sportabout & 18.7  & 8     & 360   & 175   & 3.15  & 3.440 & 17.02 & 0     & 0     & 3     & 2    \\\\\n",
       "\tValiant & 18.1  & 6     & 225   & 105   & 2.76  & 3.460 & 20.22 & 1     & 0     & 3     & 1    \\\\\n",
       "\\end{tabular}\n"
      ],
      "text/markdown": [
       "\n",
       "| <!--/--> | mpg | cyl | disp | hp | drat | wt | qsec | vs | am | gear | carb |\n",
       "|---|---|---|---|---|---|---|---|---|---|---|---|\n",
       "| Mazda RX4 | 21.0  | 6     | 160   | 110   | 3.90  | 2.620 | 16.46 | 0     | 1     | 4     | 4     |\n",
       "| Mazda RX4 Wag | 21.0  | 6     | 160   | 110   | 3.90  | 2.875 | 17.02 | 0     | 1     | 4     | 4     |\n",
       "| Datsun 710 | 22.8  | 4     | 108   |  93   | 3.85  | 2.320 | 18.61 | 1     | 1     | 4     | 1     |\n",
       "| Hornet 4 Drive | 21.4  | 6     | 258   | 110   | 3.08  | 3.215 | 19.44 | 1     | 0     | 3     | 1     |\n",
       "| Hornet Sportabout | 18.7  | 8     | 360   | 175   | 3.15  | 3.440 | 17.02 | 0     | 0     | 3     | 2     |\n",
       "| Valiant | 18.1  | 6     | 225   | 105   | 2.76  | 3.460 | 20.22 | 1     | 0     | 3     | 1     |\n",
       "\n"
      ],
      "text/plain": [
       "                  mpg  cyl disp hp  drat wt    qsec  vs am gear carb\n",
       "Mazda RX4         21.0 6   160  110 3.90 2.620 16.46 0  1  4    4   \n",
       "Mazda RX4 Wag     21.0 6   160  110 3.90 2.875 17.02 0  1  4    4   \n",
       "Datsun 710        22.8 4   108   93 3.85 2.320 18.61 1  1  4    1   \n",
       "Hornet 4 Drive    21.4 6   258  110 3.08 3.215 19.44 1  0  3    1   \n",
       "Hornet Sportabout 18.7 8   360  175 3.15 3.440 17.02 0  0  3    2   \n",
       "Valiant           18.1 6   225  105 2.76 3.460 20.22 1  0  3    1   "
      ]
     },
     "metadata": {},
     "output_type": "display_data"
    },
    {
     "name": "stdout",
     "output_type": "stream",
     "text": [
      "mtcars                package:datasets                 R Documentation\n",
      "\n",
      "_\bM_\bo_\bt_\bo_\br _\bT_\br_\be_\bn_\bd _\bC_\ba_\br _\bR_\bo_\ba_\bd _\bT_\be_\bs_\bt_\bs\n",
      "\n",
      "_\bD_\be_\bs_\bc_\br_\bi_\bp_\bt_\bi_\bo_\bn:\n",
      "\n",
      "     The data was extracted from the 1974 _Motor Trend_ US magazine,\n",
      "     and comprises fuel consumption and 10 aspects of automobile design\n",
      "     and performance for 32 automobiles (1973-74 models).\n",
      "\n",
      "_\bU_\bs_\ba_\bg_\be:\n",
      "\n",
      "     mtcars\n",
      "     \n",
      "_\bF_\bo_\br_\bm_\ba_\bt:\n",
      "\n",
      "     A data frame with 32 observations on 11 (numeric) variables.\n",
      "\n",
      "       [, 1]  mpg   Miles/(US) gallon                        \n",
      "       [, 2]  cyl   Number of cylinders                      \n",
      "       [, 3]  disp  Displacement (cu.in.)                    \n",
      "       [, 4]  hp    Gross horsepower                         \n",
      "       [, 5]  drat  Rear axle ratio                          \n",
      "       [, 6]  wt    Weight (1000 lbs)                        \n",
      "       [, 7]  qsec  1/4 mile time                            \n",
      "       [, 8]  vs    Engine (0 = V-shaped, 1 = straight)      \n",
      "       [, 9]  am    Transmission (0 = automatic, 1 = manual) \n",
      "       [,10]  gear  Number of forward gears                  \n",
      "       [,11]  carb  Number of carburetors                    \n",
      "      \n",
      "_\bN_\bo_\bt_\be:\n",
      "\n",
      "     Henderson and Velleman (1981) comment in a footnote to Table 1:\n",
      "     'Hocking [original transcriber]'s noncrucial coding of the Mazda's\n",
      "     rotary engine as a straight six-cylinder engine and the Porsche's\n",
      "     flat engine as a V engine, as well as the inclusion of the diesel\n",
      "     Mercedes 240D, have been retained to enable direct comparisons to\n",
      "     be made with previous analyses.'\n",
      "\n",
      "_\bS_\bo_\bu_\br_\bc_\be:\n",
      "\n",
      "     Henderson and Velleman (1981), Building multiple regression models\n",
      "     interactively.  _Biometrics_, *37*, 391-411.\n",
      "\n",
      "_\bE_\bx_\ba_\bm_\bp_\bl_\be_\bs:\n",
      "\n",
      "     require(graphics)\n",
      "     pairs(mtcars, main = \"mtcars data\", gap = 1/4)\n",
      "     coplot(mpg ~ disp | as.factor(cyl), data = mtcars,\n",
      "            panel = panel.smooth, rows = 1)\n",
      "     ## possibly more meaningful, e.g., for summary() or bivariate plots:\n",
      "     mtcars2 <- within(mtcars, {\n",
      "        vs <- factor(vs, labels = c(\"V\", \"S\"))\n",
      "        am <- factor(am, labels = c(\"automatic\", \"manual\"))\n",
      "        cyl  <- ordered(cyl)\n",
      "        gear <- ordered(gear)\n",
      "        carb <- ordered(carb)\n",
      "     })\n",
      "     summary(mtcars2)\n",
      "     "
     ]
    }
   ],
   "source": [
    "data(mtcars)\n",
    "head(mtcars)\n",
    "?mtcars"
   ]
  },
  {
   "cell_type": "code",
   "execution_count": 2,
   "id": "83e9322b",
   "metadata": {
    "vscode": {
     "languageId": "r"
    }
   },
   "outputs": [
    {
     "name": "stdout",
     "output_type": "stream",
     "text": [
      "iris                 package:datasets                  R Documentation\n",
      "\n",
      "_\bE_\bd_\bg_\ba_\br _\bA_\bn_\bd_\be_\br_\bs_\bo_\bn'_\bs _\bI_\br_\bi_\bs _\bD_\ba_\bt_\ba\n",
      "\n",
      "_\bD_\be_\bs_\bc_\br_\bi_\bp_\bt_\bi_\bo_\bn:\n",
      "\n",
      "     This famous (Fisher's or Anderson's) iris data set gives the\n",
      "     measurements in centimeters of the variables sepal length and\n",
      "     width and petal length and width, respectively, for 50 flowers\n",
      "     from each of 3 species of iris.  The species are _Iris setosa_,\n",
      "     _versicolor_, and _virginica_.\n",
      "\n",
      "_\bU_\bs_\ba_\bg_\be:\n",
      "\n",
      "     iris\n",
      "     iris3\n",
      "     \n",
      "_\bF_\bo_\br_\bm_\ba_\bt:\n",
      "\n",
      "     'iris' is a data frame with 150 cases (rows) and 5 variables\n",
      "     (columns) named 'Sepal.Length', 'Sepal.Width', 'Petal.Length',\n",
      "     'Petal.Width', and 'Species'.\n",
      "\n",
      "     'iris3' gives the same data arranged as a 3-dimensional array of\n",
      "     size 50 by 4 by 3, as represented by S-PLUS.  The first dimension\n",
      "     gives the case number within the species subsample, the second the\n",
      "     measurements with names 'Sepal L.', 'Sepal W.', 'Petal L.', and\n",
      "     'Petal W.', and the third the species.\n",
      "\n",
      "_\bS_\bo_\bu_\br_\bc_\be:\n",
      "\n",
      "     Fisher, R. A. (1936) The use of multiple measurements in taxonomic\n",
      "     problems.  _Annals of Eugenics_, *7*, Part II, 179-188.\n",
      "\n",
      "     The data were collected by Anderson, Edgar (1935).  The irises of\n",
      "     the Gaspe Peninsula, _Bulletin of the American Iris Society_,\n",
      "     *59*, 2-5.\n",
      "\n",
      "_\bR_\be_\bf_\be_\br_\be_\bn_\bc_\be_\bs:\n",
      "\n",
      "     Becker, R. A., Chambers, J. M. and Wilks, A. R. (1988) _The New S\n",
      "     Language_.  Wadsworth & Brooks/Cole. (has 'iris3' as 'iris'.)\n",
      "\n",
      "_\bS_\be_\be _\bA_\bl_\bs_\bo:\n",
      "\n",
      "     'matplot' some examples of which use 'iris'.\n",
      "\n",
      "_\bE_\bx_\ba_\bm_\bp_\bl_\be_\bs:\n",
      "\n",
      "     dni3 <- dimnames(iris3)\n",
      "     ii <- data.frame(matrix(aperm(iris3, c(1,3,2)), ncol = 4,\n",
      "                             dimnames = list(NULL, sub(\" L.\",\".Length\",\n",
      "                                             sub(\" W.\",\".Width\", dni3[[2]])))),\n",
      "         Species = gl(3, 50, labels = sub(\"S\", \"s\", sub(\"V\", \"v\", dni3[[3]]))))\n",
      "     all.equal(ii, iris) # TRUE\n",
      "     "
     ]
    }
   ],
   "source": [
    "?iris"
   ]
  },
  {
   "cell_type": "code",
   "execution_count": 3,
   "id": "5432f196",
   "metadata": {
    "vscode": {
     "languageId": "r"
    }
   },
   "outputs": [
    {
     "data": {
      "text/html": [
       "<ol class=list-inline>\n",
       "\t<li>150</li>\n",
       "\t<li>5</li>\n",
       "</ol>\n"
      ],
      "text/latex": [
       "\\begin{enumerate*}\n",
       "\\item 150\n",
       "\\item 5\n",
       "\\end{enumerate*}\n"
      ],
      "text/markdown": [
       "1. 150\n",
       "2. 5\n",
       "\n",
       "\n"
      ],
      "text/plain": [
       "[1] 150   5"
      ]
     },
     "metadata": {},
     "output_type": "display_data"
    },
    {
     "data": {
      "text/html": [
       "<ol class=list-inline>\n",
       "\t<li>'Sepal.Length'</li>\n",
       "\t<li>'Sepal.Width'</li>\n",
       "\t<li>'Petal.Length'</li>\n",
       "\t<li>'Petal.Width'</li>\n",
       "\t<li>'Species'</li>\n",
       "</ol>\n"
      ],
      "text/latex": [
       "\\begin{enumerate*}\n",
       "\\item 'Sepal.Length'\n",
       "\\item 'Sepal.Width'\n",
       "\\item 'Petal.Length'\n",
       "\\item 'Petal.Width'\n",
       "\\item 'Species'\n",
       "\\end{enumerate*}\n"
      ],
      "text/markdown": [
       "1. 'Sepal.Length'\n",
       "2. 'Sepal.Width'\n",
       "3. 'Petal.Length'\n",
       "4. 'Petal.Width'\n",
       "5. 'Species'\n",
       "\n",
       "\n"
      ],
      "text/plain": [
       "[1] \"Sepal.Length\" \"Sepal.Width\"  \"Petal.Length\" \"Petal.Width\"  \"Species\"     "
      ]
     },
     "metadata": {},
     "output_type": "display_data"
    },
    {
     "data": {
      "text/html": [
       "<ol class=list-inline>\n",
       "\t<li>'1'</li>\n",
       "\t<li>'2'</li>\n",
       "\t<li>'3'</li>\n",
       "\t<li>'4'</li>\n",
       "\t<li>'5'</li>\n",
       "\t<li>'6'</li>\n",
       "\t<li>'7'</li>\n",
       "\t<li>'8'</li>\n",
       "\t<li>'9'</li>\n",
       "\t<li>'10'</li>\n",
       "\t<li>'11'</li>\n",
       "\t<li>'12'</li>\n",
       "\t<li>'13'</li>\n",
       "\t<li>'14'</li>\n",
       "\t<li>'15'</li>\n",
       "\t<li>'16'</li>\n",
       "\t<li>'17'</li>\n",
       "\t<li>'18'</li>\n",
       "\t<li>'19'</li>\n",
       "\t<li>'20'</li>\n",
       "\t<li>'21'</li>\n",
       "\t<li>'22'</li>\n",
       "\t<li>'23'</li>\n",
       "\t<li>'24'</li>\n",
       "\t<li>'25'</li>\n",
       "\t<li>'26'</li>\n",
       "\t<li>'27'</li>\n",
       "\t<li>'28'</li>\n",
       "\t<li>'29'</li>\n",
       "\t<li>'30'</li>\n",
       "\t<li>'31'</li>\n",
       "\t<li>'32'</li>\n",
       "\t<li>'33'</li>\n",
       "\t<li>'34'</li>\n",
       "\t<li>'35'</li>\n",
       "\t<li>'36'</li>\n",
       "\t<li>'37'</li>\n",
       "\t<li>'38'</li>\n",
       "\t<li>'39'</li>\n",
       "\t<li>'40'</li>\n",
       "\t<li>'41'</li>\n",
       "\t<li>'42'</li>\n",
       "\t<li>'43'</li>\n",
       "\t<li>'44'</li>\n",
       "\t<li>'45'</li>\n",
       "\t<li>'46'</li>\n",
       "\t<li>'47'</li>\n",
       "\t<li>'48'</li>\n",
       "\t<li>'49'</li>\n",
       "\t<li>'50'</li>\n",
       "\t<li>'51'</li>\n",
       "\t<li>'52'</li>\n",
       "\t<li>'53'</li>\n",
       "\t<li>'54'</li>\n",
       "\t<li>'55'</li>\n",
       "\t<li>'56'</li>\n",
       "\t<li>'57'</li>\n",
       "\t<li>'58'</li>\n",
       "\t<li>'59'</li>\n",
       "\t<li>'60'</li>\n",
       "\t<li>'61'</li>\n",
       "\t<li>'62'</li>\n",
       "\t<li>'63'</li>\n",
       "\t<li>'64'</li>\n",
       "\t<li>'65'</li>\n",
       "\t<li>'66'</li>\n",
       "\t<li>'67'</li>\n",
       "\t<li>'68'</li>\n",
       "\t<li>'69'</li>\n",
       "\t<li>'70'</li>\n",
       "\t<li>'71'</li>\n",
       "\t<li>'72'</li>\n",
       "\t<li>'73'</li>\n",
       "\t<li>'74'</li>\n",
       "\t<li>'75'</li>\n",
       "\t<li>'76'</li>\n",
       "\t<li>'77'</li>\n",
       "\t<li>'78'</li>\n",
       "\t<li>'79'</li>\n",
       "\t<li>'80'</li>\n",
       "\t<li>'81'</li>\n",
       "\t<li>'82'</li>\n",
       "\t<li>'83'</li>\n",
       "\t<li>'84'</li>\n",
       "\t<li>'85'</li>\n",
       "\t<li>'86'</li>\n",
       "\t<li>'87'</li>\n",
       "\t<li>'88'</li>\n",
       "\t<li>'89'</li>\n",
       "\t<li>'90'</li>\n",
       "\t<li>'91'</li>\n",
       "\t<li>'92'</li>\n",
       "\t<li>'93'</li>\n",
       "\t<li>'94'</li>\n",
       "\t<li>'95'</li>\n",
       "\t<li>'96'</li>\n",
       "\t<li>'97'</li>\n",
       "\t<li>'98'</li>\n",
       "\t<li>'99'</li>\n",
       "\t<li>'100'</li>\n",
       "\t<li>'101'</li>\n",
       "\t<li>'102'</li>\n",
       "\t<li>'103'</li>\n",
       "\t<li>'104'</li>\n",
       "\t<li>'105'</li>\n",
       "\t<li>'106'</li>\n",
       "\t<li>'107'</li>\n",
       "\t<li>'108'</li>\n",
       "\t<li>'109'</li>\n",
       "\t<li>'110'</li>\n",
       "\t<li>'111'</li>\n",
       "\t<li>'112'</li>\n",
       "\t<li>'113'</li>\n",
       "\t<li>'114'</li>\n",
       "\t<li>'115'</li>\n",
       "\t<li>'116'</li>\n",
       "\t<li>'117'</li>\n",
       "\t<li>'118'</li>\n",
       "\t<li>'119'</li>\n",
       "\t<li>'120'</li>\n",
       "\t<li>'121'</li>\n",
       "\t<li>'122'</li>\n",
       "\t<li>'123'</li>\n",
       "\t<li>'124'</li>\n",
       "\t<li>'125'</li>\n",
       "\t<li>'126'</li>\n",
       "\t<li>'127'</li>\n",
       "\t<li>'128'</li>\n",
       "\t<li>'129'</li>\n",
       "\t<li>'130'</li>\n",
       "\t<li>'131'</li>\n",
       "\t<li>'132'</li>\n",
       "\t<li>'133'</li>\n",
       "\t<li>'134'</li>\n",
       "\t<li>'135'</li>\n",
       "\t<li>'136'</li>\n",
       "\t<li>'137'</li>\n",
       "\t<li>'138'</li>\n",
       "\t<li>'139'</li>\n",
       "\t<li>'140'</li>\n",
       "\t<li>'141'</li>\n",
       "\t<li>'142'</li>\n",
       "\t<li>'143'</li>\n",
       "\t<li>'144'</li>\n",
       "\t<li>'145'</li>\n",
       "\t<li>'146'</li>\n",
       "\t<li>'147'</li>\n",
       "\t<li>'148'</li>\n",
       "\t<li>'149'</li>\n",
       "\t<li>'150'</li>\n",
       "</ol>\n"
      ],
      "text/latex": [
       "\\begin{enumerate*}\n",
       "\\item '1'\n",
       "\\item '2'\n",
       "\\item '3'\n",
       "\\item '4'\n",
       "\\item '5'\n",
       "\\item '6'\n",
       "\\item '7'\n",
       "\\item '8'\n",
       "\\item '9'\n",
       "\\item '10'\n",
       "\\item '11'\n",
       "\\item '12'\n",
       "\\item '13'\n",
       "\\item '14'\n",
       "\\item '15'\n",
       "\\item '16'\n",
       "\\item '17'\n",
       "\\item '18'\n",
       "\\item '19'\n",
       "\\item '20'\n",
       "\\item '21'\n",
       "\\item '22'\n",
       "\\item '23'\n",
       "\\item '24'\n",
       "\\item '25'\n",
       "\\item '26'\n",
       "\\item '27'\n",
       "\\item '28'\n",
       "\\item '29'\n",
       "\\item '30'\n",
       "\\item '31'\n",
       "\\item '32'\n",
       "\\item '33'\n",
       "\\item '34'\n",
       "\\item '35'\n",
       "\\item '36'\n",
       "\\item '37'\n",
       "\\item '38'\n",
       "\\item '39'\n",
       "\\item '40'\n",
       "\\item '41'\n",
       "\\item '42'\n",
       "\\item '43'\n",
       "\\item '44'\n",
       "\\item '45'\n",
       "\\item '46'\n",
       "\\item '47'\n",
       "\\item '48'\n",
       "\\item '49'\n",
       "\\item '50'\n",
       "\\item '51'\n",
       "\\item '52'\n",
       "\\item '53'\n",
       "\\item '54'\n",
       "\\item '55'\n",
       "\\item '56'\n",
       "\\item '57'\n",
       "\\item '58'\n",
       "\\item '59'\n",
       "\\item '60'\n",
       "\\item '61'\n",
       "\\item '62'\n",
       "\\item '63'\n",
       "\\item '64'\n",
       "\\item '65'\n",
       "\\item '66'\n",
       "\\item '67'\n",
       "\\item '68'\n",
       "\\item '69'\n",
       "\\item '70'\n",
       "\\item '71'\n",
       "\\item '72'\n",
       "\\item '73'\n",
       "\\item '74'\n",
       "\\item '75'\n",
       "\\item '76'\n",
       "\\item '77'\n",
       "\\item '78'\n",
       "\\item '79'\n",
       "\\item '80'\n",
       "\\item '81'\n",
       "\\item '82'\n",
       "\\item '83'\n",
       "\\item '84'\n",
       "\\item '85'\n",
       "\\item '86'\n",
       "\\item '87'\n",
       "\\item '88'\n",
       "\\item '89'\n",
       "\\item '90'\n",
       "\\item '91'\n",
       "\\item '92'\n",
       "\\item '93'\n",
       "\\item '94'\n",
       "\\item '95'\n",
       "\\item '96'\n",
       "\\item '97'\n",
       "\\item '98'\n",
       "\\item '99'\n",
       "\\item '100'\n",
       "\\item '101'\n",
       "\\item '102'\n",
       "\\item '103'\n",
       "\\item '104'\n",
       "\\item '105'\n",
       "\\item '106'\n",
       "\\item '107'\n",
       "\\item '108'\n",
       "\\item '109'\n",
       "\\item '110'\n",
       "\\item '111'\n",
       "\\item '112'\n",
       "\\item '113'\n",
       "\\item '114'\n",
       "\\item '115'\n",
       "\\item '116'\n",
       "\\item '117'\n",
       "\\item '118'\n",
       "\\item '119'\n",
       "\\item '120'\n",
       "\\item '121'\n",
       "\\item '122'\n",
       "\\item '123'\n",
       "\\item '124'\n",
       "\\item '125'\n",
       "\\item '126'\n",
       "\\item '127'\n",
       "\\item '128'\n",
       "\\item '129'\n",
       "\\item '130'\n",
       "\\item '131'\n",
       "\\item '132'\n",
       "\\item '133'\n",
       "\\item '134'\n",
       "\\item '135'\n",
       "\\item '136'\n",
       "\\item '137'\n",
       "\\item '138'\n",
       "\\item '139'\n",
       "\\item '140'\n",
       "\\item '141'\n",
       "\\item '142'\n",
       "\\item '143'\n",
       "\\item '144'\n",
       "\\item '145'\n",
       "\\item '146'\n",
       "\\item '147'\n",
       "\\item '148'\n",
       "\\item '149'\n",
       "\\item '150'\n",
       "\\end{enumerate*}\n"
      ],
      "text/markdown": [
       "1. '1'\n",
       "2. '2'\n",
       "3. '3'\n",
       "4. '4'\n",
       "5. '5'\n",
       "6. '6'\n",
       "7. '7'\n",
       "8. '8'\n",
       "9. '9'\n",
       "10. '10'\n",
       "11. '11'\n",
       "12. '12'\n",
       "13. '13'\n",
       "14. '14'\n",
       "15. '15'\n",
       "16. '16'\n",
       "17. '17'\n",
       "18. '18'\n",
       "19. '19'\n",
       "20. '20'\n",
       "21. '21'\n",
       "22. '22'\n",
       "23. '23'\n",
       "24. '24'\n",
       "25. '25'\n",
       "26. '26'\n",
       "27. '27'\n",
       "28. '28'\n",
       "29. '29'\n",
       "30. '30'\n",
       "31. '31'\n",
       "32. '32'\n",
       "33. '33'\n",
       "34. '34'\n",
       "35. '35'\n",
       "36. '36'\n",
       "37. '37'\n",
       "38. '38'\n",
       "39. '39'\n",
       "40. '40'\n",
       "41. '41'\n",
       "42. '42'\n",
       "43. '43'\n",
       "44. '44'\n",
       "45. '45'\n",
       "46. '46'\n",
       "47. '47'\n",
       "48. '48'\n",
       "49. '49'\n",
       "50. '50'\n",
       "51. '51'\n",
       "52. '52'\n",
       "53. '53'\n",
       "54. '54'\n",
       "55. '55'\n",
       "56. '56'\n",
       "57. '57'\n",
       "58. '58'\n",
       "59. '59'\n",
       "60. '60'\n",
       "61. '61'\n",
       "62. '62'\n",
       "63. '63'\n",
       "64. '64'\n",
       "65. '65'\n",
       "66. '66'\n",
       "67. '67'\n",
       "68. '68'\n",
       "69. '69'\n",
       "70. '70'\n",
       "71. '71'\n",
       "72. '72'\n",
       "73. '73'\n",
       "74. '74'\n",
       "75. '75'\n",
       "76. '76'\n",
       "77. '77'\n",
       "78. '78'\n",
       "79. '79'\n",
       "80. '80'\n",
       "81. '81'\n",
       "82. '82'\n",
       "83. '83'\n",
       "84. '84'\n",
       "85. '85'\n",
       "86. '86'\n",
       "87. '87'\n",
       "88. '88'\n",
       "89. '89'\n",
       "90. '90'\n",
       "91. '91'\n",
       "92. '92'\n",
       "93. '93'\n",
       "94. '94'\n",
       "95. '95'\n",
       "96. '96'\n",
       "97. '97'\n",
       "98. '98'\n",
       "99. '99'\n",
       "100. '100'\n",
       "101. '101'\n",
       "102. '102'\n",
       "103. '103'\n",
       "104. '104'\n",
       "105. '105'\n",
       "106. '106'\n",
       "107. '107'\n",
       "108. '108'\n",
       "109. '109'\n",
       "110. '110'\n",
       "111. '111'\n",
       "112. '112'\n",
       "113. '113'\n",
       "114. '114'\n",
       "115. '115'\n",
       "116. '116'\n",
       "117. '117'\n",
       "118. '118'\n",
       "119. '119'\n",
       "120. '120'\n",
       "121. '121'\n",
       "122. '122'\n",
       "123. '123'\n",
       "124. '124'\n",
       "125. '125'\n",
       "126. '126'\n",
       "127. '127'\n",
       "128. '128'\n",
       "129. '129'\n",
       "130. '130'\n",
       "131. '131'\n",
       "132. '132'\n",
       "133. '133'\n",
       "134. '134'\n",
       "135. '135'\n",
       "136. '136'\n",
       "137. '137'\n",
       "138. '138'\n",
       "139. '139'\n",
       "140. '140'\n",
       "141. '141'\n",
       "142. '142'\n",
       "143. '143'\n",
       "144. '144'\n",
       "145. '145'\n",
       "146. '146'\n",
       "147. '147'\n",
       "148. '148'\n",
       "149. '149'\n",
       "150. '150'\n",
       "\n",
       "\n"
      ],
      "text/plain": [
       "  [1] \"1\"   \"2\"   \"3\"   \"4\"   \"5\"   \"6\"   \"7\"   \"8\"   \"9\"   \"10\"  \"11\"  \"12\" \n",
       " [13] \"13\"  \"14\"  \"15\"  \"16\"  \"17\"  \"18\"  \"19\"  \"20\"  \"21\"  \"22\"  \"23\"  \"24\" \n",
       " [25] \"25\"  \"26\"  \"27\"  \"28\"  \"29\"  \"30\"  \"31\"  \"32\"  \"33\"  \"34\"  \"35\"  \"36\" \n",
       " [37] \"37\"  \"38\"  \"39\"  \"40\"  \"41\"  \"42\"  \"43\"  \"44\"  \"45\"  \"46\"  \"47\"  \"48\" \n",
       " [49] \"49\"  \"50\"  \"51\"  \"52\"  \"53\"  \"54\"  \"55\"  \"56\"  \"57\"  \"58\"  \"59\"  \"60\" \n",
       " [61] \"61\"  \"62\"  \"63\"  \"64\"  \"65\"  \"66\"  \"67\"  \"68\"  \"69\"  \"70\"  \"71\"  \"72\" \n",
       " [73] \"73\"  \"74\"  \"75\"  \"76\"  \"77\"  \"78\"  \"79\"  \"80\"  \"81\"  \"82\"  \"83\"  \"84\" \n",
       " [85] \"85\"  \"86\"  \"87\"  \"88\"  \"89\"  \"90\"  \"91\"  \"92\"  \"93\"  \"94\"  \"95\"  \"96\" \n",
       " [97] \"97\"  \"98\"  \"99\"  \"100\" \"101\" \"102\" \"103\" \"104\" \"105\" \"106\" \"107\" \"108\"\n",
       "[109] \"109\" \"110\" \"111\" \"112\" \"113\" \"114\" \"115\" \"116\" \"117\" \"118\" \"119\" \"120\"\n",
       "[121] \"121\" \"122\" \"123\" \"124\" \"125\" \"126\" \"127\" \"128\" \"129\" \"130\" \"131\" \"132\"\n",
       "[133] \"133\" \"134\" \"135\" \"136\" \"137\" \"138\" \"139\" \"140\" \"141\" \"142\" \"143\" \"144\"\n",
       "[145] \"145\" \"146\" \"147\" \"148\" \"149\" \"150\""
      ]
     },
     "metadata": {},
     "output_type": "display_data"
    }
   ],
   "source": [
    "data_flower <- iris\n",
    "dim(data_flower) # Dimension of the dataset ie no of rows and columns\n",
    "names(data_flower) #column names of the dataset\n",
    "rownames(data_flower) # row names of the dataset"
   ]
  },
  {
   "cell_type": "code",
   "execution_count": 4,
   "id": "6e362df9",
   "metadata": {
    "vscode": {
     "languageId": "r"
    }
   },
   "outputs": [
    {
     "data": {
      "text/html": [
       "<ol class=list-inline>\n",
       "\t<li>5.1</li>\n",
       "\t<li>4.9</li>\n",
       "\t<li>4.7</li>\n",
       "\t<li>4.6</li>\n",
       "\t<li>5</li>\n",
       "\t<li>5.4</li>\n",
       "\t<li>4.6</li>\n",
       "\t<li>5</li>\n",
       "\t<li>4.4</li>\n",
       "\t<li>4.9</li>\n",
       "\t<li>5.4</li>\n",
       "\t<li>4.8</li>\n",
       "\t<li>4.8</li>\n",
       "\t<li>4.3</li>\n",
       "\t<li>5.8</li>\n",
       "\t<li>5.7</li>\n",
       "\t<li>5.4</li>\n",
       "\t<li>5.1</li>\n",
       "\t<li>5.7</li>\n",
       "\t<li>5.1</li>\n",
       "\t<li>5.4</li>\n",
       "\t<li>5.1</li>\n",
       "\t<li>4.6</li>\n",
       "\t<li>5.1</li>\n",
       "\t<li>4.8</li>\n",
       "\t<li>5</li>\n",
       "\t<li>5</li>\n",
       "\t<li>5.2</li>\n",
       "\t<li>5.2</li>\n",
       "\t<li>4.7</li>\n",
       "\t<li>4.8</li>\n",
       "\t<li>5.4</li>\n",
       "\t<li>5.2</li>\n",
       "\t<li>5.5</li>\n",
       "\t<li>4.9</li>\n",
       "\t<li>5</li>\n",
       "\t<li>5.5</li>\n",
       "\t<li>4.9</li>\n",
       "\t<li>4.4</li>\n",
       "\t<li>5.1</li>\n",
       "\t<li>5</li>\n",
       "\t<li>4.5</li>\n",
       "\t<li>4.4</li>\n",
       "\t<li>5</li>\n",
       "\t<li>5.1</li>\n",
       "\t<li>4.8</li>\n",
       "\t<li>5.1</li>\n",
       "\t<li>4.6</li>\n",
       "\t<li>5.3</li>\n",
       "\t<li>5</li>\n",
       "\t<li>7</li>\n",
       "\t<li>6.4</li>\n",
       "\t<li>6.9</li>\n",
       "\t<li>5.5</li>\n",
       "\t<li>6.5</li>\n",
       "\t<li>5.7</li>\n",
       "\t<li>6.3</li>\n",
       "\t<li>4.9</li>\n",
       "\t<li>6.6</li>\n",
       "\t<li>5.2</li>\n",
       "\t<li>5</li>\n",
       "\t<li>5.9</li>\n",
       "\t<li>6</li>\n",
       "\t<li>6.1</li>\n",
       "\t<li>5.6</li>\n",
       "\t<li>6.7</li>\n",
       "\t<li>5.6</li>\n",
       "\t<li>5.8</li>\n",
       "\t<li>6.2</li>\n",
       "\t<li>5.6</li>\n",
       "\t<li>5.9</li>\n",
       "\t<li>6.1</li>\n",
       "\t<li>6.3</li>\n",
       "\t<li>6.1</li>\n",
       "\t<li>6.4</li>\n",
       "\t<li>6.6</li>\n",
       "\t<li>6.8</li>\n",
       "\t<li>6.7</li>\n",
       "\t<li>6</li>\n",
       "\t<li>5.7</li>\n",
       "\t<li>5.5</li>\n",
       "\t<li>5.5</li>\n",
       "\t<li>5.8</li>\n",
       "\t<li>6</li>\n",
       "\t<li>5.4</li>\n",
       "\t<li>6</li>\n",
       "\t<li>6.7</li>\n",
       "\t<li>6.3</li>\n",
       "\t<li>5.6</li>\n",
       "\t<li>5.5</li>\n",
       "\t<li>5.5</li>\n",
       "\t<li>6.1</li>\n",
       "\t<li>5.8</li>\n",
       "\t<li>5</li>\n",
       "\t<li>5.6</li>\n",
       "\t<li>5.7</li>\n",
       "\t<li>5.7</li>\n",
       "\t<li>6.2</li>\n",
       "\t<li>5.1</li>\n",
       "\t<li>5.7</li>\n",
       "\t<li>6.3</li>\n",
       "\t<li>5.8</li>\n",
       "\t<li>7.1</li>\n",
       "\t<li>6.3</li>\n",
       "\t<li>6.5</li>\n",
       "\t<li>7.6</li>\n",
       "\t<li>4.9</li>\n",
       "\t<li>7.3</li>\n",
       "\t<li>6.7</li>\n",
       "\t<li>7.2</li>\n",
       "\t<li>6.5</li>\n",
       "\t<li>6.4</li>\n",
       "\t<li>6.8</li>\n",
       "\t<li>5.7</li>\n",
       "\t<li>5.8</li>\n",
       "\t<li>6.4</li>\n",
       "\t<li>6.5</li>\n",
       "\t<li>7.7</li>\n",
       "\t<li>7.7</li>\n",
       "\t<li>6</li>\n",
       "\t<li>6.9</li>\n",
       "\t<li>5.6</li>\n",
       "\t<li>7.7</li>\n",
       "\t<li>6.3</li>\n",
       "\t<li>6.7</li>\n",
       "\t<li>7.2</li>\n",
       "\t<li>6.2</li>\n",
       "\t<li>6.1</li>\n",
       "\t<li>6.4</li>\n",
       "\t<li>7.2</li>\n",
       "\t<li>7.4</li>\n",
       "\t<li>7.9</li>\n",
       "\t<li>6.4</li>\n",
       "\t<li>6.3</li>\n",
       "\t<li>6.1</li>\n",
       "\t<li>7.7</li>\n",
       "\t<li>6.3</li>\n",
       "\t<li>6.4</li>\n",
       "\t<li>6</li>\n",
       "\t<li>6.9</li>\n",
       "\t<li>6.7</li>\n",
       "\t<li>6.9</li>\n",
       "\t<li>5.8</li>\n",
       "\t<li>6.8</li>\n",
       "\t<li>6.7</li>\n",
       "\t<li>6.7</li>\n",
       "\t<li>6.3</li>\n",
       "\t<li>6.5</li>\n",
       "\t<li>6.2</li>\n",
       "\t<li>5.9</li>\n",
       "</ol>\n"
      ],
      "text/latex": [
       "\\begin{enumerate*}\n",
       "\\item 5.1\n",
       "\\item 4.9\n",
       "\\item 4.7\n",
       "\\item 4.6\n",
       "\\item 5\n",
       "\\item 5.4\n",
       "\\item 4.6\n",
       "\\item 5\n",
       "\\item 4.4\n",
       "\\item 4.9\n",
       "\\item 5.4\n",
       "\\item 4.8\n",
       "\\item 4.8\n",
       "\\item 4.3\n",
       "\\item 5.8\n",
       "\\item 5.7\n",
       "\\item 5.4\n",
       "\\item 5.1\n",
       "\\item 5.7\n",
       "\\item 5.1\n",
       "\\item 5.4\n",
       "\\item 5.1\n",
       "\\item 4.6\n",
       "\\item 5.1\n",
       "\\item 4.8\n",
       "\\item 5\n",
       "\\item 5\n",
       "\\item 5.2\n",
       "\\item 5.2\n",
       "\\item 4.7\n",
       "\\item 4.8\n",
       "\\item 5.4\n",
       "\\item 5.2\n",
       "\\item 5.5\n",
       "\\item 4.9\n",
       "\\item 5\n",
       "\\item 5.5\n",
       "\\item 4.9\n",
       "\\item 4.4\n",
       "\\item 5.1\n",
       "\\item 5\n",
       "\\item 4.5\n",
       "\\item 4.4\n",
       "\\item 5\n",
       "\\item 5.1\n",
       "\\item 4.8\n",
       "\\item 5.1\n",
       "\\item 4.6\n",
       "\\item 5.3\n",
       "\\item 5\n",
       "\\item 7\n",
       "\\item 6.4\n",
       "\\item 6.9\n",
       "\\item 5.5\n",
       "\\item 6.5\n",
       "\\item 5.7\n",
       "\\item 6.3\n",
       "\\item 4.9\n",
       "\\item 6.6\n",
       "\\item 5.2\n",
       "\\item 5\n",
       "\\item 5.9\n",
       "\\item 6\n",
       "\\item 6.1\n",
       "\\item 5.6\n",
       "\\item 6.7\n",
       "\\item 5.6\n",
       "\\item 5.8\n",
       "\\item 6.2\n",
       "\\item 5.6\n",
       "\\item 5.9\n",
       "\\item 6.1\n",
       "\\item 6.3\n",
       "\\item 6.1\n",
       "\\item 6.4\n",
       "\\item 6.6\n",
       "\\item 6.8\n",
       "\\item 6.7\n",
       "\\item 6\n",
       "\\item 5.7\n",
       "\\item 5.5\n",
       "\\item 5.5\n",
       "\\item 5.8\n",
       "\\item 6\n",
       "\\item 5.4\n",
       "\\item 6\n",
       "\\item 6.7\n",
       "\\item 6.3\n",
       "\\item 5.6\n",
       "\\item 5.5\n",
       "\\item 5.5\n",
       "\\item 6.1\n",
       "\\item 5.8\n",
       "\\item 5\n",
       "\\item 5.6\n",
       "\\item 5.7\n",
       "\\item 5.7\n",
       "\\item 6.2\n",
       "\\item 5.1\n",
       "\\item 5.7\n",
       "\\item 6.3\n",
       "\\item 5.8\n",
       "\\item 7.1\n",
       "\\item 6.3\n",
       "\\item 6.5\n",
       "\\item 7.6\n",
       "\\item 4.9\n",
       "\\item 7.3\n",
       "\\item 6.7\n",
       "\\item 7.2\n",
       "\\item 6.5\n",
       "\\item 6.4\n",
       "\\item 6.8\n",
       "\\item 5.7\n",
       "\\item 5.8\n",
       "\\item 6.4\n",
       "\\item 6.5\n",
       "\\item 7.7\n",
       "\\item 7.7\n",
       "\\item 6\n",
       "\\item 6.9\n",
       "\\item 5.6\n",
       "\\item 7.7\n",
       "\\item 6.3\n",
       "\\item 6.7\n",
       "\\item 7.2\n",
       "\\item 6.2\n",
       "\\item 6.1\n",
       "\\item 6.4\n",
       "\\item 7.2\n",
       "\\item 7.4\n",
       "\\item 7.9\n",
       "\\item 6.4\n",
       "\\item 6.3\n",
       "\\item 6.1\n",
       "\\item 7.7\n",
       "\\item 6.3\n",
       "\\item 6.4\n",
       "\\item 6\n",
       "\\item 6.9\n",
       "\\item 6.7\n",
       "\\item 6.9\n",
       "\\item 5.8\n",
       "\\item 6.8\n",
       "\\item 6.7\n",
       "\\item 6.7\n",
       "\\item 6.3\n",
       "\\item 6.5\n",
       "\\item 6.2\n",
       "\\item 5.9\n",
       "\\end{enumerate*}\n"
      ],
      "text/markdown": [
       "1. 5.1\n",
       "2. 4.9\n",
       "3. 4.7\n",
       "4. 4.6\n",
       "5. 5\n",
       "6. 5.4\n",
       "7. 4.6\n",
       "8. 5\n",
       "9. 4.4\n",
       "10. 4.9\n",
       "11. 5.4\n",
       "12. 4.8\n",
       "13. 4.8\n",
       "14. 4.3\n",
       "15. 5.8\n",
       "16. 5.7\n",
       "17. 5.4\n",
       "18. 5.1\n",
       "19. 5.7\n",
       "20. 5.1\n",
       "21. 5.4\n",
       "22. 5.1\n",
       "23. 4.6\n",
       "24. 5.1\n",
       "25. 4.8\n",
       "26. 5\n",
       "27. 5\n",
       "28. 5.2\n",
       "29. 5.2\n",
       "30. 4.7\n",
       "31. 4.8\n",
       "32. 5.4\n",
       "33. 5.2\n",
       "34. 5.5\n",
       "35. 4.9\n",
       "36. 5\n",
       "37. 5.5\n",
       "38. 4.9\n",
       "39. 4.4\n",
       "40. 5.1\n",
       "41. 5\n",
       "42. 4.5\n",
       "43. 4.4\n",
       "44. 5\n",
       "45. 5.1\n",
       "46. 4.8\n",
       "47. 5.1\n",
       "48. 4.6\n",
       "49. 5.3\n",
       "50. 5\n",
       "51. 7\n",
       "52. 6.4\n",
       "53. 6.9\n",
       "54. 5.5\n",
       "55. 6.5\n",
       "56. 5.7\n",
       "57. 6.3\n",
       "58. 4.9\n",
       "59. 6.6\n",
       "60. 5.2\n",
       "61. 5\n",
       "62. 5.9\n",
       "63. 6\n",
       "64. 6.1\n",
       "65. 5.6\n",
       "66. 6.7\n",
       "67. 5.6\n",
       "68. 5.8\n",
       "69. 6.2\n",
       "70. 5.6\n",
       "71. 5.9\n",
       "72. 6.1\n",
       "73. 6.3\n",
       "74. 6.1\n",
       "75. 6.4\n",
       "76. 6.6\n",
       "77. 6.8\n",
       "78. 6.7\n",
       "79. 6\n",
       "80. 5.7\n",
       "81. 5.5\n",
       "82. 5.5\n",
       "83. 5.8\n",
       "84. 6\n",
       "85. 5.4\n",
       "86. 6\n",
       "87. 6.7\n",
       "88. 6.3\n",
       "89. 5.6\n",
       "90. 5.5\n",
       "91. 5.5\n",
       "92. 6.1\n",
       "93. 5.8\n",
       "94. 5\n",
       "95. 5.6\n",
       "96. 5.7\n",
       "97. 5.7\n",
       "98. 6.2\n",
       "99. 5.1\n",
       "100. 5.7\n",
       "101. 6.3\n",
       "102. 5.8\n",
       "103. 7.1\n",
       "104. 6.3\n",
       "105. 6.5\n",
       "106. 7.6\n",
       "107. 4.9\n",
       "108. 7.3\n",
       "109. 6.7\n",
       "110. 7.2\n",
       "111. 6.5\n",
       "112. 6.4\n",
       "113. 6.8\n",
       "114. 5.7\n",
       "115. 5.8\n",
       "116. 6.4\n",
       "117. 6.5\n",
       "118. 7.7\n",
       "119. 7.7\n",
       "120. 6\n",
       "121. 6.9\n",
       "122. 5.6\n",
       "123. 7.7\n",
       "124. 6.3\n",
       "125. 6.7\n",
       "126. 7.2\n",
       "127. 6.2\n",
       "128. 6.1\n",
       "129. 6.4\n",
       "130. 7.2\n",
       "131. 7.4\n",
       "132. 7.9\n",
       "133. 6.4\n",
       "134. 6.3\n",
       "135. 6.1\n",
       "136. 7.7\n",
       "137. 6.3\n",
       "138. 6.4\n",
       "139. 6\n",
       "140. 6.9\n",
       "141. 6.7\n",
       "142. 6.9\n",
       "143. 5.8\n",
       "144. 6.8\n",
       "145. 6.7\n",
       "146. 6.7\n",
       "147. 6.3\n",
       "148. 6.5\n",
       "149. 6.2\n",
       "150. 5.9\n",
       "\n",
       "\n"
      ],
      "text/plain": [
       "  [1] 5.1 4.9 4.7 4.6 5.0 5.4 4.6 5.0 4.4 4.9 5.4 4.8 4.8 4.3 5.8 5.7 5.4 5.1\n",
       " [19] 5.7 5.1 5.4 5.1 4.6 5.1 4.8 5.0 5.0 5.2 5.2 4.7 4.8 5.4 5.2 5.5 4.9 5.0\n",
       " [37] 5.5 4.9 4.4 5.1 5.0 4.5 4.4 5.0 5.1 4.8 5.1 4.6 5.3 5.0 7.0 6.4 6.9 5.5\n",
       " [55] 6.5 5.7 6.3 4.9 6.6 5.2 5.0 5.9 6.0 6.1 5.6 6.7 5.6 5.8 6.2 5.6 5.9 6.1\n",
       " [73] 6.3 6.1 6.4 6.6 6.8 6.7 6.0 5.7 5.5 5.5 5.8 6.0 5.4 6.0 6.7 6.3 5.6 5.5\n",
       " [91] 5.5 6.1 5.8 5.0 5.6 5.7 5.7 6.2 5.1 5.7 6.3 5.8 7.1 6.3 6.5 7.6 4.9 7.3\n",
       "[109] 6.7 7.2 6.5 6.4 6.8 5.7 5.8 6.4 6.5 7.7 7.7 6.0 6.9 5.6 7.7 6.3 6.7 7.2\n",
       "[127] 6.2 6.1 6.4 7.2 7.4 7.9 6.4 6.3 6.1 7.7 6.3 6.4 6.0 6.9 6.7 6.9 5.8 6.8\n",
       "[145] 6.7 6.7 6.3 6.5 6.2 5.9"
      ]
     },
     "metadata": {},
     "output_type": "display_data"
    },
    {
     "data": {
      "text/html": [
       "<ol class=list-inline>\n",
       "\t<li>4.3</li>\n",
       "\t<li>4.4</li>\n",
       "\t<li>4.4</li>\n",
       "\t<li>4.4</li>\n",
       "\t<li>4.5</li>\n",
       "\t<li>4.6</li>\n",
       "\t<li>4.6</li>\n",
       "\t<li>4.6</li>\n",
       "\t<li>4.6</li>\n",
       "\t<li>4.7</li>\n",
       "\t<li>4.7</li>\n",
       "\t<li>4.8</li>\n",
       "\t<li>4.8</li>\n",
       "\t<li>4.8</li>\n",
       "\t<li>4.8</li>\n",
       "\t<li>4.8</li>\n",
       "\t<li>4.9</li>\n",
       "\t<li>4.9</li>\n",
       "\t<li>4.9</li>\n",
       "\t<li>4.9</li>\n",
       "\t<li>4.9</li>\n",
       "\t<li>4.9</li>\n",
       "\t<li>5</li>\n",
       "\t<li>5</li>\n",
       "\t<li>5</li>\n",
       "\t<li>5</li>\n",
       "\t<li>5</li>\n",
       "\t<li>5</li>\n",
       "\t<li>5</li>\n",
       "\t<li>5</li>\n",
       "\t<li>5</li>\n",
       "\t<li>5</li>\n",
       "\t<li>5.1</li>\n",
       "\t<li>5.1</li>\n",
       "\t<li>5.1</li>\n",
       "\t<li>5.1</li>\n",
       "\t<li>5.1</li>\n",
       "\t<li>5.1</li>\n",
       "\t<li>5.1</li>\n",
       "\t<li>5.1</li>\n",
       "\t<li>5.1</li>\n",
       "\t<li>5.2</li>\n",
       "\t<li>5.2</li>\n",
       "\t<li>5.2</li>\n",
       "\t<li>5.2</li>\n",
       "\t<li>5.3</li>\n",
       "\t<li>5.4</li>\n",
       "\t<li>5.4</li>\n",
       "\t<li>5.4</li>\n",
       "\t<li>5.4</li>\n",
       "\t<li>5.4</li>\n",
       "\t<li>5.4</li>\n",
       "\t<li>5.5</li>\n",
       "\t<li>5.5</li>\n",
       "\t<li>5.5</li>\n",
       "\t<li>5.5</li>\n",
       "\t<li>5.5</li>\n",
       "\t<li>5.5</li>\n",
       "\t<li>5.5</li>\n",
       "\t<li>5.6</li>\n",
       "\t<li>5.6</li>\n",
       "\t<li>5.6</li>\n",
       "\t<li>5.6</li>\n",
       "\t<li>5.6</li>\n",
       "\t<li>5.6</li>\n",
       "\t<li>5.7</li>\n",
       "\t<li>5.7</li>\n",
       "\t<li>5.7</li>\n",
       "\t<li>5.7</li>\n",
       "\t<li>5.7</li>\n",
       "\t<li>5.7</li>\n",
       "\t<li>5.7</li>\n",
       "\t<li>5.7</li>\n",
       "\t<li>5.8</li>\n",
       "\t<li>5.8</li>\n",
       "\t<li>5.8</li>\n",
       "\t<li>5.8</li>\n",
       "\t<li>5.8</li>\n",
       "\t<li>5.8</li>\n",
       "\t<li>5.8</li>\n",
       "\t<li>5.9</li>\n",
       "\t<li>5.9</li>\n",
       "\t<li>5.9</li>\n",
       "\t<li>6</li>\n",
       "\t<li>6</li>\n",
       "\t<li>6</li>\n",
       "\t<li>6</li>\n",
       "\t<li>6</li>\n",
       "\t<li>6</li>\n",
       "\t<li>6.1</li>\n",
       "\t<li>6.1</li>\n",
       "\t<li>6.1</li>\n",
       "\t<li>6.1</li>\n",
       "\t<li>6.1</li>\n",
       "\t<li>6.1</li>\n",
       "\t<li>6.2</li>\n",
       "\t<li>6.2</li>\n",
       "\t<li>6.2</li>\n",
       "\t<li>6.2</li>\n",
       "\t<li>6.3</li>\n",
       "\t<li>6.3</li>\n",
       "\t<li>6.3</li>\n",
       "\t<li>6.3</li>\n",
       "\t<li>6.3</li>\n",
       "\t<li>6.3</li>\n",
       "\t<li>6.3</li>\n",
       "\t<li>6.3</li>\n",
       "\t<li>6.3</li>\n",
       "\t<li>6.4</li>\n",
       "\t<li>6.4</li>\n",
       "\t<li>6.4</li>\n",
       "\t<li>6.4</li>\n",
       "\t<li>6.4</li>\n",
       "\t<li>6.4</li>\n",
       "\t<li>6.4</li>\n",
       "\t<li>6.5</li>\n",
       "\t<li>6.5</li>\n",
       "\t<li>6.5</li>\n",
       "\t<li>6.5</li>\n",
       "\t<li>6.5</li>\n",
       "\t<li>6.6</li>\n",
       "\t<li>6.6</li>\n",
       "\t<li>6.7</li>\n",
       "\t<li>6.7</li>\n",
       "\t<li>6.7</li>\n",
       "\t<li>6.7</li>\n",
       "\t<li>6.7</li>\n",
       "\t<li>6.7</li>\n",
       "\t<li>6.7</li>\n",
       "\t<li>6.7</li>\n",
       "\t<li>6.8</li>\n",
       "\t<li>6.8</li>\n",
       "\t<li>6.8</li>\n",
       "\t<li>6.9</li>\n",
       "\t<li>6.9</li>\n",
       "\t<li>6.9</li>\n",
       "\t<li>6.9</li>\n",
       "\t<li>7</li>\n",
       "\t<li>7.1</li>\n",
       "\t<li>7.2</li>\n",
       "\t<li>7.2</li>\n",
       "\t<li>7.2</li>\n",
       "\t<li>7.3</li>\n",
       "\t<li>7.4</li>\n",
       "\t<li>7.6</li>\n",
       "\t<li>7.7</li>\n",
       "\t<li>7.7</li>\n",
       "\t<li>7.7</li>\n",
       "\t<li>7.7</li>\n",
       "\t<li>7.9</li>\n",
       "</ol>\n"
      ],
      "text/latex": [
       "\\begin{enumerate*}\n",
       "\\item 4.3\n",
       "\\item 4.4\n",
       "\\item 4.4\n",
       "\\item 4.4\n",
       "\\item 4.5\n",
       "\\item 4.6\n",
       "\\item 4.6\n",
       "\\item 4.6\n",
       "\\item 4.6\n",
       "\\item 4.7\n",
       "\\item 4.7\n",
       "\\item 4.8\n",
       "\\item 4.8\n",
       "\\item 4.8\n",
       "\\item 4.8\n",
       "\\item 4.8\n",
       "\\item 4.9\n",
       "\\item 4.9\n",
       "\\item 4.9\n",
       "\\item 4.9\n",
       "\\item 4.9\n",
       "\\item 4.9\n",
       "\\item 5\n",
       "\\item 5\n",
       "\\item 5\n",
       "\\item 5\n",
       "\\item 5\n",
       "\\item 5\n",
       "\\item 5\n",
       "\\item 5\n",
       "\\item 5\n",
       "\\item 5\n",
       "\\item 5.1\n",
       "\\item 5.1\n",
       "\\item 5.1\n",
       "\\item 5.1\n",
       "\\item 5.1\n",
       "\\item 5.1\n",
       "\\item 5.1\n",
       "\\item 5.1\n",
       "\\item 5.1\n",
       "\\item 5.2\n",
       "\\item 5.2\n",
       "\\item 5.2\n",
       "\\item 5.2\n",
       "\\item 5.3\n",
       "\\item 5.4\n",
       "\\item 5.4\n",
       "\\item 5.4\n",
       "\\item 5.4\n",
       "\\item 5.4\n",
       "\\item 5.4\n",
       "\\item 5.5\n",
       "\\item 5.5\n",
       "\\item 5.5\n",
       "\\item 5.5\n",
       "\\item 5.5\n",
       "\\item 5.5\n",
       "\\item 5.5\n",
       "\\item 5.6\n",
       "\\item 5.6\n",
       "\\item 5.6\n",
       "\\item 5.6\n",
       "\\item 5.6\n",
       "\\item 5.6\n",
       "\\item 5.7\n",
       "\\item 5.7\n",
       "\\item 5.7\n",
       "\\item 5.7\n",
       "\\item 5.7\n",
       "\\item 5.7\n",
       "\\item 5.7\n",
       "\\item 5.7\n",
       "\\item 5.8\n",
       "\\item 5.8\n",
       "\\item 5.8\n",
       "\\item 5.8\n",
       "\\item 5.8\n",
       "\\item 5.8\n",
       "\\item 5.8\n",
       "\\item 5.9\n",
       "\\item 5.9\n",
       "\\item 5.9\n",
       "\\item 6\n",
       "\\item 6\n",
       "\\item 6\n",
       "\\item 6\n",
       "\\item 6\n",
       "\\item 6\n",
       "\\item 6.1\n",
       "\\item 6.1\n",
       "\\item 6.1\n",
       "\\item 6.1\n",
       "\\item 6.1\n",
       "\\item 6.1\n",
       "\\item 6.2\n",
       "\\item 6.2\n",
       "\\item 6.2\n",
       "\\item 6.2\n",
       "\\item 6.3\n",
       "\\item 6.3\n",
       "\\item 6.3\n",
       "\\item 6.3\n",
       "\\item 6.3\n",
       "\\item 6.3\n",
       "\\item 6.3\n",
       "\\item 6.3\n",
       "\\item 6.3\n",
       "\\item 6.4\n",
       "\\item 6.4\n",
       "\\item 6.4\n",
       "\\item 6.4\n",
       "\\item 6.4\n",
       "\\item 6.4\n",
       "\\item 6.4\n",
       "\\item 6.5\n",
       "\\item 6.5\n",
       "\\item 6.5\n",
       "\\item 6.5\n",
       "\\item 6.5\n",
       "\\item 6.6\n",
       "\\item 6.6\n",
       "\\item 6.7\n",
       "\\item 6.7\n",
       "\\item 6.7\n",
       "\\item 6.7\n",
       "\\item 6.7\n",
       "\\item 6.7\n",
       "\\item 6.7\n",
       "\\item 6.7\n",
       "\\item 6.8\n",
       "\\item 6.8\n",
       "\\item 6.8\n",
       "\\item 6.9\n",
       "\\item 6.9\n",
       "\\item 6.9\n",
       "\\item 6.9\n",
       "\\item 7\n",
       "\\item 7.1\n",
       "\\item 7.2\n",
       "\\item 7.2\n",
       "\\item 7.2\n",
       "\\item 7.3\n",
       "\\item 7.4\n",
       "\\item 7.6\n",
       "\\item 7.7\n",
       "\\item 7.7\n",
       "\\item 7.7\n",
       "\\item 7.7\n",
       "\\item 7.9\n",
       "\\end{enumerate*}\n"
      ],
      "text/markdown": [
       "1. 4.3\n",
       "2. 4.4\n",
       "3. 4.4\n",
       "4. 4.4\n",
       "5. 4.5\n",
       "6. 4.6\n",
       "7. 4.6\n",
       "8. 4.6\n",
       "9. 4.6\n",
       "10. 4.7\n",
       "11. 4.7\n",
       "12. 4.8\n",
       "13. 4.8\n",
       "14. 4.8\n",
       "15. 4.8\n",
       "16. 4.8\n",
       "17. 4.9\n",
       "18. 4.9\n",
       "19. 4.9\n",
       "20. 4.9\n",
       "21. 4.9\n",
       "22. 4.9\n",
       "23. 5\n",
       "24. 5\n",
       "25. 5\n",
       "26. 5\n",
       "27. 5\n",
       "28. 5\n",
       "29. 5\n",
       "30. 5\n",
       "31. 5\n",
       "32. 5\n",
       "33. 5.1\n",
       "34. 5.1\n",
       "35. 5.1\n",
       "36. 5.1\n",
       "37. 5.1\n",
       "38. 5.1\n",
       "39. 5.1\n",
       "40. 5.1\n",
       "41. 5.1\n",
       "42. 5.2\n",
       "43. 5.2\n",
       "44. 5.2\n",
       "45. 5.2\n",
       "46. 5.3\n",
       "47. 5.4\n",
       "48. 5.4\n",
       "49. 5.4\n",
       "50. 5.4\n",
       "51. 5.4\n",
       "52. 5.4\n",
       "53. 5.5\n",
       "54. 5.5\n",
       "55. 5.5\n",
       "56. 5.5\n",
       "57. 5.5\n",
       "58. 5.5\n",
       "59. 5.5\n",
       "60. 5.6\n",
       "61. 5.6\n",
       "62. 5.6\n",
       "63. 5.6\n",
       "64. 5.6\n",
       "65. 5.6\n",
       "66. 5.7\n",
       "67. 5.7\n",
       "68. 5.7\n",
       "69. 5.7\n",
       "70. 5.7\n",
       "71. 5.7\n",
       "72. 5.7\n",
       "73. 5.7\n",
       "74. 5.8\n",
       "75. 5.8\n",
       "76. 5.8\n",
       "77. 5.8\n",
       "78. 5.8\n",
       "79. 5.8\n",
       "80. 5.8\n",
       "81. 5.9\n",
       "82. 5.9\n",
       "83. 5.9\n",
       "84. 6\n",
       "85. 6\n",
       "86. 6\n",
       "87. 6\n",
       "88. 6\n",
       "89. 6\n",
       "90. 6.1\n",
       "91. 6.1\n",
       "92. 6.1\n",
       "93. 6.1\n",
       "94. 6.1\n",
       "95. 6.1\n",
       "96. 6.2\n",
       "97. 6.2\n",
       "98. 6.2\n",
       "99. 6.2\n",
       "100. 6.3\n",
       "101. 6.3\n",
       "102. 6.3\n",
       "103. 6.3\n",
       "104. 6.3\n",
       "105. 6.3\n",
       "106. 6.3\n",
       "107. 6.3\n",
       "108. 6.3\n",
       "109. 6.4\n",
       "110. 6.4\n",
       "111. 6.4\n",
       "112. 6.4\n",
       "113. 6.4\n",
       "114. 6.4\n",
       "115. 6.4\n",
       "116. 6.5\n",
       "117. 6.5\n",
       "118. 6.5\n",
       "119. 6.5\n",
       "120. 6.5\n",
       "121. 6.6\n",
       "122. 6.6\n",
       "123. 6.7\n",
       "124. 6.7\n",
       "125. 6.7\n",
       "126. 6.7\n",
       "127. 6.7\n",
       "128. 6.7\n",
       "129. 6.7\n",
       "130. 6.7\n",
       "131. 6.8\n",
       "132. 6.8\n",
       "133. 6.8\n",
       "134. 6.9\n",
       "135. 6.9\n",
       "136. 6.9\n",
       "137. 6.9\n",
       "138. 7\n",
       "139. 7.1\n",
       "140. 7.2\n",
       "141. 7.2\n",
       "142. 7.2\n",
       "143. 7.3\n",
       "144. 7.4\n",
       "145. 7.6\n",
       "146. 7.7\n",
       "147. 7.7\n",
       "148. 7.7\n",
       "149. 7.7\n",
       "150. 7.9\n",
       "\n",
       "\n"
      ],
      "text/plain": [
       "  [1] 4.3 4.4 4.4 4.4 4.5 4.6 4.6 4.6 4.6 4.7 4.7 4.8 4.8 4.8 4.8 4.8 4.9 4.9\n",
       " [19] 4.9 4.9 4.9 4.9 5.0 5.0 5.0 5.0 5.0 5.0 5.0 5.0 5.0 5.0 5.1 5.1 5.1 5.1\n",
       " [37] 5.1 5.1 5.1 5.1 5.1 5.2 5.2 5.2 5.2 5.3 5.4 5.4 5.4 5.4 5.4 5.4 5.5 5.5\n",
       " [55] 5.5 5.5 5.5 5.5 5.5 5.6 5.6 5.6 5.6 5.6 5.6 5.7 5.7 5.7 5.7 5.7 5.7 5.7\n",
       " [73] 5.7 5.8 5.8 5.8 5.8 5.8 5.8 5.8 5.9 5.9 5.9 6.0 6.0 6.0 6.0 6.0 6.0 6.1\n",
       " [91] 6.1 6.1 6.1 6.1 6.1 6.2 6.2 6.2 6.2 6.3 6.3 6.3 6.3 6.3 6.3 6.3 6.3 6.3\n",
       "[109] 6.4 6.4 6.4 6.4 6.4 6.4 6.4 6.5 6.5 6.5 6.5 6.5 6.6 6.6 6.7 6.7 6.7 6.7\n",
       "[127] 6.7 6.7 6.7 6.7 6.8 6.8 6.8 6.9 6.9 6.9 6.9 7.0 7.1 7.2 7.2 7.2 7.3 7.4\n",
       "[145] 7.6 7.7 7.7 7.7 7.7 7.9"
      ]
     },
     "metadata": {},
     "output_type": "display_data"
    }
   ],
   "source": [
    "data_flower$Sepal.Length\n",
    "\n",
    "sort(data_flower$Sepal.Length)\n",
    "\n",
    "# streamlit and pickle"
   ]
  },
  {
   "cell_type": "code",
   "execution_count": 5,
   "id": "b34fdba3",
   "metadata": {
    "vscode": {
     "languageId": "r"
    }
   },
   "outputs": [
    {
     "data": {
      "text/plain": [
       "  Sepal.Length    Sepal.Width     Petal.Length    Petal.Width   \n",
       " Min.   :4.300   Min.   :2.000   Min.   :1.000   Min.   :0.100  \n",
       " 1st Qu.:5.100   1st Qu.:2.800   1st Qu.:1.600   1st Qu.:0.300  \n",
       " Median :5.800   Median :3.000   Median :4.350   Median :1.300  \n",
       " Mean   :5.843   Mean   :3.057   Mean   :3.758   Mean   :1.199  \n",
       " 3rd Qu.:6.400   3rd Qu.:3.300   3rd Qu.:5.100   3rd Qu.:1.800  \n",
       " Max.   :7.900   Max.   :4.400   Max.   :6.900   Max.   :2.500  \n",
       "       Species  \n",
       " setosa    :50  \n",
       " versicolor:50  \n",
       " virginica :50  \n",
       "                \n",
       "                \n",
       "                "
      ]
     },
     "metadata": {},
     "output_type": "display_data"
    },
    {
     "data": {
      "text/html": [
       "1"
      ],
      "text/latex": [
       "1"
      ],
      "text/markdown": [
       "1"
      ],
      "text/plain": [
       "[1] 1"
      ]
     },
     "metadata": {},
     "output_type": "display_data"
    }
   ],
   "source": [
    "summary(data_flower)\n",
    "\n",
    "min(3,5,6,8,1,18)"
   ]
  },
  {
   "cell_type": "code",
   "execution_count": 7,
   "id": "e7583339",
   "metadata": {
    "vscode": {
     "languageId": "r"
    }
   },
   "outputs": [
    {
     "data": {
      "text/html": [
       "6.9"
      ],
      "text/latex": [
       "6.9"
      ],
      "text/markdown": [
       "6.9"
      ],
      "text/plain": [
       "[1] 6.9"
      ]
     },
     "metadata": {},
     "output_type": "display_data"
    },
    {
     "data": {
      "text/html": [
       "4.3"
      ],
      "text/latex": [
       "4.3"
      ],
      "text/markdown": [
       "4.3"
      ],
      "text/plain": [
       "[1] 4.3"
      ]
     },
     "metadata": {},
     "output_type": "display_data"
    },
    {
     "data": {
      "text/html": [
       "119"
      ],
      "text/latex": [
       "119"
      ],
      "text/markdown": [
       "119"
      ],
      "text/plain": [
       "[1] 119"
      ]
     },
     "metadata": {},
     "output_type": "display_data"
    },
    {
     "data": {
      "text/html": [
       "5.84333333333333"
      ],
      "text/latex": [
       "5.84333333333333"
      ],
      "text/markdown": [
       "5.84333333333333"
      ],
      "text/plain": [
       "[1] 5.843333"
      ]
     },
     "metadata": {},
     "output_type": "display_data"
    },
    {
     "data": {
      "text/html": [
       "5.8"
      ],
      "text/latex": [
       "5.8"
      ],
      "text/markdown": [
       "5.8"
      ],
      "text/plain": [
       "[1] 5.8"
      ]
     },
     "metadata": {},
     "output_type": "display_data"
    },
    {
     "data": {
      "text/html": [
       "'5.7'"
      ],
      "text/latex": [
       "'5.7'"
      ],
      "text/markdown": [
       "'5.7'"
      ],
      "text/plain": [
       "[1] \"5.7\""
      ]
     },
     "metadata": {},
     "output_type": "display_data"
    }
   ],
   "source": [
    "max(data_flower$Petal.Length)\n",
    "min(data_flower$Sepal.Length)\n",
    "\n",
    "which.max(data_flower$Petal.Length) # To get the position of the row\n",
    "\n",
    "mean(data_flower$Sepal.Length)\n",
    "median(data_flower$Sepal.Length)\n",
    "names(sort(-table(data_flower$Sepal.Length)))[4]"
   ]
  },
  {
   "cell_type": "code",
   "execution_count": 8,
   "id": "d3665f84",
   "metadata": {
    "vscode": {
     "languageId": "r"
    }
   },
   "outputs": [
    {
     "data": {
      "text/html": [
       "-0.42844010433054"
      ],
      "text/latex": [
       "-0.42844010433054"
      ],
      "text/markdown": [
       "-0.42844010433054"
      ],
      "text/plain": [
       "[1] -0.4284401"
      ]
     },
     "metadata": {},
     "output_type": "display_data"
    },
    {
     "data": {
      "image/png": "[encoded data removed]",
      "text/plain": [
       "Plot with title \"Histogram of data_flower$Sepal.Length\""
      ]
     },
     "metadata": {},
     "output_type": "display_data"
    }
   ],
   "source": [
    "hist(data_flower$Sepal.Length)\n",
    "cor(data_flower$Sepal.Width, data_flower$Petal.Length)"
   ]
  },
  {
   "cell_type": "code",
   "execution_count": 4,
   "id": "c52e0e6b",
   "metadata": {
    "vscode": {
     "languageId": "r"
    }
   },
   "outputs": [
    {
     "data": {
      "text/html": [
       "<table>\n",
       "<thead><tr><th scope=col>PassengerId</th><th scope=col>Survived</th><th scope=col>Pclass</th><th scope=col>Name</th><th scope=col>Sex</th><th scope=col>Age</th><th scope=col>SibSp</th><th scope=col>Parch</th><th scope=col>Ticket</th><th scope=col>Fare</th><th scope=col>Cabin</th><th scope=col>Embarked</th></tr></thead>\n",
       "<tbody>\n",
       "\t<tr><td>892                                                    </td><td>0                                                      </td><td>3                                                      </td><td>Kelly, Mr. James                                       </td><td>male                                                   </td><td>34.5                                                   </td><td>0                                                      </td><td>0                                                      </td><td>330911                                                 </td><td>  7.8292                                               </td><td>                                                       </td><td>Q                                                      </td></tr>\n",
       "\t<tr><td>893                                                    </td><td>1                                                      </td><td>3                                                      </td><td>Wilkes, Mrs. James (Ellen Needs)                       </td><td>female                                                 </td><td>47.0                                                   </td><td>1                                                      </td><td>0                                                      </td><td>363272                                                 </td><td>  7.0000                                               </td><td>                                                       </td><td>S                                                      </td></tr>\n",
       "\t<tr><td>894                                                    </td><td>0                                                      </td><td>2                                                      </td><td>Myles, Mr. Thomas Francis                              </td><td>male                                                   </td><td>62.0                                                   </td><td>0                                                      </td><td>0                                                      </td><td>240276                                                 </td><td>  9.6875                                               </td><td>                                                       </td><td>Q                                                      </td></tr>\n",
       "\t<tr><td>895                                                    </td><td>0                                                      </td><td>3                                                      </td><td>Wirz, Mr. Albert                                       </td><td>male                                                   </td><td>27.0                                                   </td><td>0                                                      </td><td>0                                                      </td><td>315154                                                 </td><td>  8.6625                                               </td><td>                                                       </td><td>S                                                      </td></tr>\n",
       "\t<tr><td>896                                                    </td><td>1                                                      </td><td>3                                                      </td><td>Hirvonen, Mrs. Alexander (Helga E Lindqvist)           </td><td>female                                                 </td><td>22.0                                                   </td><td>1                                                      </td><td>1                                                      </td><td>3101298                                                </td><td> 12.2875                                               </td><td>                                                       </td><td>S                                                      </td></tr>\n",
       "\t<tr><td>897                                                    </td><td>0                                                      </td><td>3                                                      </td><td>Svensson, Mr. Johan Cervin                             </td><td>male                                                   </td><td>14.0                                                   </td><td>0                                                      </td><td>0                                                      </td><td>7538                                                   </td><td>  9.2250                                               </td><td>                                                       </td><td>S                                                      </td></tr>\n",
       "\t<tr><td>898                                                    </td><td>1                                                      </td><td>3                                                      </td><td>Connolly, Miss. Kate                                   </td><td>female                                                 </td><td>30.0                                                   </td><td>0                                                      </td><td>0                                                      </td><td>330972                                                 </td><td>  7.6292                                               </td><td>                                                       </td><td>Q                                                      </td></tr>\n",
       "\t<tr><td>899                                                    </td><td>0                                                      </td><td>2                                                      </td><td>Caldwell, Mr. Albert Francis                           </td><td>male                                                   </td><td>26.0                                                   </td><td>1                                                      </td><td>1                                                      </td><td>248738                                                 </td><td> 29.0000                                               </td><td>                                                       </td><td>S                                                      </td></tr>\n",
       "\t<tr><td>900                                                    </td><td>1                                                      </td><td>3                                                      </td><td>Abrahim, Mrs. Joseph (Sophie Halaut Easu)              </td><td>female                                                 </td><td>18.0                                                   </td><td>0                                                      </td><td>0                                                      </td><td>2657                                                   </td><td>  7.2292                                               </td><td>                                                       </td><td>C                                                      </td></tr>\n",
       "\t<tr><td>901                                                    </td><td>0                                                      </td><td>3                                                      </td><td>Davies, Mr. John Samuel                                </td><td>male                                                   </td><td>21.0                                                   </td><td>2                                                      </td><td>0                                                      </td><td>A/4 48871                                              </td><td> 24.1500                                               </td><td>                                                       </td><td>S                                                      </td></tr>\n",
       "\t<tr><td>902                                                    </td><td>0                                                      </td><td>3                                                      </td><td>Ilieff, Mr. Ylio                                       </td><td>male                                                   </td><td>  NA                                                   </td><td>0                                                      </td><td>0                                                      </td><td>349220                                                 </td><td>  7.8958                                               </td><td>                                                       </td><td>S                                                      </td></tr>\n",
       "\t<tr><td>903                                                    </td><td>0                                                      </td><td>1                                                      </td><td>Jones, Mr. Charles Cresson                             </td><td>male                                                   </td><td>46.0                                                   </td><td>0                                                      </td><td>0                                                      </td><td>694                                                    </td><td> 26.0000                                               </td><td>                                                       </td><td>S                                                      </td></tr>\n",
       "\t<tr><td>904                                                    </td><td>1                                                      </td><td>1                                                      </td><td>Snyder, Mrs. John Pillsbury (Nelle Stevenson)          </td><td>female                                                 </td><td>23.0                                                   </td><td>1                                                      </td><td>0                                                      </td><td>21228                                                  </td><td> 82.2667                                               </td><td>B45                                                    </td><td>S                                                      </td></tr>\n",
       "\t<tr><td>905                                                    </td><td>0                                                      </td><td>2                                                      </td><td>Howard, Mr. Benjamin                                   </td><td>male                                                   </td><td>63.0                                                   </td><td>1                                                      </td><td>0                                                      </td><td>24065                                                  </td><td> 26.0000                                               </td><td>                                                       </td><td>S                                                      </td></tr>\n",
       "\t<tr><td>906                                                    </td><td>1                                                      </td><td>1                                                      </td><td>Chaffee, Mrs. Herbert Fuller (Carrie Constance Toogood)</td><td>female                                                 </td><td>47.0                                                   </td><td>1                                                      </td><td>0                                                      </td><td>W.E.P. 5734                                            </td><td> 61.1750                                               </td><td>E31                                                    </td><td>S                                                      </td></tr>\n",
       "\t<tr><td>907                                                    </td><td>1                                                      </td><td>2                                                      </td><td>del Carlo, Mrs. Sebastiano (Argenia Genovesi)          </td><td>female                                                 </td><td>24.0                                                   </td><td>1                                                      </td><td>0                                                      </td><td>SC/PARIS 2167                                          </td><td> 27.7208                                               </td><td>                                                       </td><td>C                                                      </td></tr>\n",
       "\t<tr><td>908                                                    </td><td>0                                                      </td><td>2                                                      </td><td>Keane, Mr. Daniel                                      </td><td>male                                                   </td><td>35.0                                                   </td><td>0                                                      </td><td>0                                                      </td><td>233734                                                 </td><td> 12.3500                                               </td><td>                                                       </td><td>Q                                                      </td></tr>\n",
       "\t<tr><td>909                                                    </td><td>0                                                      </td><td>3                                                      </td><td>Assaf, Mr. Gerios                                      </td><td>male                                                   </td><td>21.0                                                   </td><td>0                                                      </td><td>0                                                      </td><td>2692                                                   </td><td>  7.2250                                               </td><td>                                                       </td><td>C                                                      </td></tr>\n",
       "\t<tr><td>910                                                    </td><td>1                                                      </td><td>3                                                      </td><td>Ilmakangas, Miss. Ida Livija                           </td><td>female                                                 </td><td>27.0                                                   </td><td>1                                                      </td><td>0                                                      </td><td>STON/O2. 3101270                                       </td><td>  7.9250                                               </td><td>                                                       </td><td>S                                                      </td></tr>\n",
       "\t<tr><td>911                                                    </td><td>1                                                      </td><td>3                                                      </td><td>Assaf Khalil, Mrs. Mariana (Miriam\")\"                  </td><td>female                                                 </td><td>45.0                                                   </td><td>0                                                      </td><td>0                                                      </td><td>2696                                                   </td><td>  7.2250                                               </td><td>                                                       </td><td>C                                                      </td></tr>\n",
       "\t<tr><td>912                                                    </td><td>0                                                      </td><td>1                                                      </td><td>Rothschild, Mr. Martin                                 </td><td>male                                                   </td><td>55.0                                                   </td><td>1                                                      </td><td>0                                                      </td><td>PC 17603                                               </td><td> 59.4000                                               </td><td>                                                       </td><td>C                                                      </td></tr>\n",
       "\t<tr><td>913                                                    </td><td>0                                                      </td><td>3                                                      </td><td>Olsen, Master. Artur Karl                              </td><td>male                                                   </td><td> 9.0                                                   </td><td>0                                                      </td><td>1                                                      </td><td>C 17368                                                </td><td>  3.1708                                               </td><td>                                                       </td><td>S                                                      </td></tr>\n",
       "\t<tr><td>914                                                    </td><td>1                                                      </td><td>1                                                      </td><td>Flegenheim, Mrs. Alfred (Antoinette)                   </td><td>female                                                 </td><td>  NA                                                   </td><td>0                                                      </td><td>0                                                      </td><td>PC 17598                                               </td><td> 31.6833                                               </td><td>                                                       </td><td>S                                                      </td></tr>\n",
       "\t<tr><td>915                                                    </td><td>0                                                      </td><td>1                                                      </td><td>Williams, Mr. Richard Norris II                        </td><td>male                                                   </td><td>21.0                                                   </td><td>0                                                      </td><td>1                                                      </td><td>PC 17597                                               </td><td> 61.3792                                               </td><td>                                                       </td><td>C                                                      </td></tr>\n",
       "\t<tr><td>916                                                    </td><td>1                                                      </td><td>1                                                      </td><td>Ryerson, Mrs. Arthur Larned (Emily Maria Borie)        </td><td>female                                                 </td><td>48.0                                                   </td><td>1                                                      </td><td>3                                                      </td><td>PC 17608                                               </td><td>262.3750                                               </td><td>B57 B59 B63 B66                                        </td><td>C                                                      </td></tr>\n",
       "\t<tr><td>917                                                    </td><td>0                                                      </td><td>3                                                      </td><td>Robins, Mr. Alexander A                                </td><td>male                                                   </td><td>50.0                                                   </td><td>1                                                      </td><td>0                                                      </td><td>A/5. 3337                                              </td><td> 14.5000                                               </td><td>                                                       </td><td>S                                                      </td></tr>\n",
       "\t<tr><td>918                                                    </td><td>1                                                      </td><td>1                                                      </td><td>Ostby, Miss. Helene Ragnhild                           </td><td>female                                                 </td><td>22.0                                                   </td><td>0                                                      </td><td>1                                                      </td><td>113509                                                 </td><td> 61.9792                                               </td><td>B36                                                    </td><td>C                                                      </td></tr>\n",
       "\t<tr><td>919                                                    </td><td>0                                                      </td><td>3                                                      </td><td>Daher, Mr. Shedid                                      </td><td>male                                                   </td><td>22.5                                                   </td><td>0                                                      </td><td>0                                                      </td><td>2698                                                   </td><td>  7.2250                                               </td><td>                                                       </td><td>C                                                      </td></tr>\n",
       "\t<tr><td>920                                                    </td><td>0                                                      </td><td>1                                                      </td><td>Brady, Mr. John Bertram                                </td><td>male                                                   </td><td>41.0                                                   </td><td>0                                                      </td><td>0                                                      </td><td>113054                                                 </td><td> 30.5000                                               </td><td>A21                                                    </td><td>S                                                      </td></tr>\n",
       "\t<tr><td>921                                                    </td><td>0                                                      </td><td>3                                                      </td><td>Samaan, Mr. Elias                                      </td><td>male                                                   </td><td>  NA                                                   </td><td>2                                                      </td><td>0                                                      </td><td>2662                                                   </td><td> 21.6792                                               </td><td>                                                       </td><td>C                                                      </td></tr>\n",
       "\t<tr><td>...</td><td>...</td><td>...</td><td>...</td><td>...</td><td>...</td><td>...</td><td>...</td><td>...</td><td>...</td><td>...</td><td>...</td></tr>\n",
       "\t<tr><td>1280                                                           </td><td>0                                                              </td><td>3                                                              </td><td>Canavan, Mr. Patrick                                           </td><td>male                                                           </td><td>21.0                                                           </td><td>0                                                              </td><td>0                                                              </td><td>364858                                                         </td><td>  7.7500                                                       </td><td>                                                               </td><td>Q                                                              </td></tr>\n",
       "\t<tr><td>1281                                                           </td><td>0                                                              </td><td>3                                                              </td><td>Palsson, Master. Paul Folke                                    </td><td>male                                                           </td><td> 6.0                                                           </td><td>3                                                              </td><td>1                                                              </td><td>349909                                                         </td><td> 21.0750                                                       </td><td>                                                               </td><td>S                                                              </td></tr>\n",
       "\t<tr><td>1282                                                           </td><td>0                                                              </td><td>1                                                              </td><td>Payne, Mr. Vivian Ponsonby                                     </td><td>male                                                           </td><td>23.0                                                           </td><td>0                                                              </td><td>0                                                              </td><td>12749                                                          </td><td> 93.5000                                                       </td><td>B24                                                            </td><td>S                                                              </td></tr>\n",
       "\t<tr><td>1283                                                           </td><td>1                                                              </td><td>1                                                              </td><td>Lines, Mrs. Ernest H (Elizabeth Lindsey James)                 </td><td>female                                                         </td><td>51.0                                                           </td><td>0                                                              </td><td>1                                                              </td><td>PC 17592                                                       </td><td> 39.4000                                                       </td><td>D28                                                            </td><td>S                                                              </td></tr>\n",
       "\t<tr><td>1284                                                           </td><td>0                                                              </td><td>3                                                              </td><td>Abbott, Master. Eugene Joseph                                  </td><td>male                                                           </td><td>13.0                                                           </td><td>0                                                              </td><td>2                                                              </td><td>C.A. 2673                                                      </td><td> 20.2500                                                       </td><td>                                                               </td><td>S                                                              </td></tr>\n",
       "\t<tr><td>1285                                                           </td><td>0                                                              </td><td>2                                                              </td><td>Gilbert, Mr. William                                           </td><td>male                                                           </td><td>47.0                                                           </td><td>0                                                              </td><td>0                                                              </td><td>C.A. 30769                                                     </td><td> 10.5000                                                       </td><td>                                                               </td><td>S                                                              </td></tr>\n",
       "\t<tr><td>1286                                                           </td><td>0                                                              </td><td>3                                                              </td><td>Kink-Heilmann, Mr. Anton                                       </td><td>male                                                           </td><td>29.0                                                           </td><td>3                                                              </td><td>1                                                              </td><td>315153                                                         </td><td> 22.0250                                                       </td><td>                                                               </td><td>S                                                              </td></tr>\n",
       "\t<tr><td>1287                                                           </td><td>1                                                              </td><td>1                                                              </td><td>Smith, Mrs. Lucien Philip (Mary Eloise Hughes)                 </td><td>female                                                         </td><td>18.0                                                           </td><td>1                                                              </td><td>0                                                              </td><td>13695                                                          </td><td> 60.0000                                                       </td><td>C31                                                            </td><td>S                                                              </td></tr>\n",
       "\t<tr><td>1288                                                           </td><td>0                                                              </td><td>3                                                              </td><td>Colbert, Mr. Patrick                                           </td><td>male                                                           </td><td>24.0                                                           </td><td>0                                                              </td><td>0                                                              </td><td>371109                                                         </td><td>  7.2500                                                       </td><td>                                                               </td><td>Q                                                              </td></tr>\n",
       "\t<tr><td>1289                                                           </td><td>1                                                              </td><td>1                                                              </td><td>Frolicher-Stehli, Mrs. Maxmillian (Margaretha Emerentia Stehli)</td><td>female                                                         </td><td>48.0                                                           </td><td>1                                                              </td><td>1                                                              </td><td>13567                                                          </td><td> 79.2000                                                       </td><td>B41                                                            </td><td>C                                                              </td></tr>\n",
       "\t<tr><td>1290                                                           </td><td>0                                                              </td><td>3                                                              </td><td>Larsson-Rondberg, Mr. Edvard A                                 </td><td>male                                                           </td><td>22.0                                                           </td><td>0                                                              </td><td>0                                                              </td><td>347065                                                         </td><td>  7.7750                                                       </td><td>                                                               </td><td>S                                                              </td></tr>\n",
       "\t<tr><td>1291                                                           </td><td>0                                                              </td><td>3                                                              </td><td>Conlon, Mr. Thomas Henry                                       </td><td>male                                                           </td><td>31.0                                                           </td><td>0                                                              </td><td>0                                                              </td><td>21332                                                          </td><td>  7.7333                                                       </td><td>                                                               </td><td>Q                                                              </td></tr>\n",
       "\t<tr><td>1292                                                           </td><td>1                                                              </td><td>1                                                              </td><td>Bonnell, Miss. Caroline                                        </td><td>female                                                         </td><td>30.0                                                           </td><td>0                                                              </td><td>0                                                              </td><td>36928                                                          </td><td>164.8667                                                       </td><td>C7                                                             </td><td>S                                                              </td></tr>\n",
       "\t<tr><td>1293                                                           </td><td>0                                                              </td><td>2                                                              </td><td>Gale, Mr. Harry                                                </td><td>male                                                           </td><td>38.0                                                           </td><td>1                                                              </td><td>0                                                              </td><td>28664                                                          </td><td> 21.0000                                                       </td><td>                                                               </td><td>S                                                              </td></tr>\n",
       "\t<tr><td>1294                                                           </td><td>1                                                              </td><td>1                                                              </td><td>Gibson, Miss. Dorothy Winifred                                 </td><td>female                                                         </td><td>22.0                                                           </td><td>0                                                              </td><td>1                                                              </td><td>112378                                                         </td><td> 59.4000                                                       </td><td>                                                               </td><td>C                                                              </td></tr>\n",
       "\t<tr><td>1295                                                           </td><td>0                                                              </td><td>1                                                              </td><td>Carrau, Mr. Jose Pedro                                         </td><td>male                                                           </td><td>17.0                                                           </td><td>0                                                              </td><td>0                                                              </td><td>113059                                                         </td><td> 47.1000                                                       </td><td>                                                               </td><td>S                                                              </td></tr>\n",
       "\t<tr><td>1296                                                           </td><td>0                                                              </td><td>1                                                              </td><td>Frauenthal, Mr. Isaac Gerald                                   </td><td>male                                                           </td><td>43.0                                                           </td><td>1                                                              </td><td>0                                                              </td><td>17765                                                          </td><td> 27.7208                                                       </td><td>D40                                                            </td><td>C                                                              </td></tr>\n",
       "\t<tr><td>1297                                                           </td><td>0                                                              </td><td>2                                                              </td><td>Nourney, Mr. Alfred (Baron von Drachstedt\")\"                   </td><td>male                                                           </td><td>20.0                                                           </td><td>0                                                              </td><td>0                                                              </td><td>SC/PARIS 2166                                                  </td><td> 13.8625                                                       </td><td>D38                                                            </td><td>C                                                              </td></tr>\n",
       "\t<tr><td>1298                                                           </td><td>0                                                              </td><td>2                                                              </td><td>Ware, Mr. William Jeffery                                      </td><td>male                                                           </td><td>23.0                                                           </td><td>1                                                              </td><td>0                                                              </td><td>28666                                                          </td><td> 10.5000                                                       </td><td>                                                               </td><td>S                                                              </td></tr>\n",
       "\t<tr><td>1299                                                           </td><td>0                                                              </td><td>1                                                              </td><td>Widener, Mr. George Dunton                                     </td><td>male                                                           </td><td>50.0                                                           </td><td>1                                                              </td><td>1                                                              </td><td>113503                                                         </td><td>211.5000                                                       </td><td>C80                                                            </td><td>C                                                              </td></tr>\n",
       "\t<tr><td>1300                                                           </td><td>1                                                              </td><td>3                                                              </td><td>Riordan, Miss. Johanna Hannah\"\"                                </td><td>female                                                         </td><td>  NA                                                           </td><td>0                                                              </td><td>0                                                              </td><td>334915                                                         </td><td>  7.7208                                                       </td><td>                                                               </td><td>Q                                                              </td></tr>\n",
       "\t<tr><td>1301                                                           </td><td>1                                                              </td><td>3                                                              </td><td>Peacock, Miss. Treasteall                                      </td><td>female                                                         </td><td> 3.0                                                           </td><td>1                                                              </td><td>1                                                              </td><td>SOTON/O.Q. 3101315                                             </td><td> 13.7750                                                       </td><td>                                                               </td><td>S                                                              </td></tr>\n",
       "\t<tr><td>1302                                                           </td><td>1                                                              </td><td>3                                                              </td><td>Naughton, Miss. Hannah                                         </td><td>female                                                         </td><td>  NA                                                           </td><td>0                                                              </td><td>0                                                              </td><td>365237                                                         </td><td>  7.7500                                                       </td><td>                                                               </td><td>Q                                                              </td></tr>\n",
       "\t<tr><td>1303                                                           </td><td>1                                                              </td><td>1                                                              </td><td>Minahan, Mrs. William Edward (Lillian E Thorpe)                </td><td>female                                                         </td><td>37.0                                                           </td><td>1                                                              </td><td>0                                                              </td><td>19928                                                          </td><td> 90.0000                                                       </td><td>C78                                                            </td><td>Q                                                              </td></tr>\n",
       "\t<tr><td>1304                                                           </td><td>1                                                              </td><td>3                                                              </td><td>Henriksson, Miss. Jenny Lovisa                                 </td><td>female                                                         </td><td>28.0                                                           </td><td>0                                                              </td><td>0                                                              </td><td>347086                                                         </td><td>  7.7750                                                       </td><td>                                                               </td><td>S                                                              </td></tr>\n",
       "\t<tr><td>1305                                                           </td><td>0                                                              </td><td>3                                                              </td><td>Spector, Mr. Woolf                                             </td><td>male                                                           </td><td>  NA                                                           </td><td>0                                                              </td><td>0                                                              </td><td>A.5. 3236                                                      </td><td>  8.0500                                                       </td><td>                                                               </td><td>S                                                              </td></tr>\n",
       "\t<tr><td>1306                                                           </td><td>1                                                              </td><td>1                                                              </td><td>Oliva y Ocana, Dona. Fermina                                   </td><td>female                                                         </td><td>39.0                                                           </td><td>0                                                              </td><td>0                                                              </td><td>PC 17758                                                       </td><td>108.9000                                                       </td><td>C105                                                           </td><td>C                                                              </td></tr>\n",
       "\t<tr><td>1307                                                           </td><td>0                                                              </td><td>3                                                              </td><td>Saether, Mr. Simon Sivertsen                                   </td><td>male                                                           </td><td>38.5                                                           </td><td>0                                                              </td><td>0                                                              </td><td>SOTON/O.Q. 3101262                                             </td><td>  7.2500                                                       </td><td>                                                               </td><td>S                                                              </td></tr>\n",
       "\t<tr><td>1308                                                           </td><td>0                                                              </td><td>3                                                              </td><td>Ware, Mr. Frederick                                            </td><td>male                                                           </td><td>  NA                                                           </td><td>0                                                              </td><td>0                                                              </td><td>359309                                                         </td><td>  8.0500                                                       </td><td>                                                               </td><td>S                                                              </td></tr>\n",
       "\t<tr><td>1309                                                           </td><td>0                                                              </td><td>3                                                              </td><td>Peter, Master. Michael J                                       </td><td>male                                                           </td><td>  NA                                                           </td><td>1                                                              </td><td>1                                                              </td><td>2668                                                           </td><td> 22.3583                                                       </td><td>                                                               </td><td>C                                                              </td></tr>\n",
       "</tbody>\n",
       "</table>\n"
      ],
      "text/latex": [
       "\\begin{tabular}{r|llllllllllll}\n",
       " PassengerId & Survived & Pclass & Name & Sex & Age & SibSp & Parch & Ticket & Fare & Cabin & Embarked\\\\\n",
       "\\hline\n",
       "\t 892                                                     & 0                                                       & 3                                                       & Kelly, Mr. James                                        & male                                                    & 34.5                                                    & 0                                                       & 0                                                       & 330911                                                  &   7.8292                                                &                                                         & Q                                                      \\\\\n",
       "\t 893                                                     & 1                                                       & 3                                                       & Wilkes, Mrs. James (Ellen Needs)                        & female                                                  & 47.0                                                    & 1                                                       & 0                                                       & 363272                                                  &   7.0000                                                &                                                         & S                                                      \\\\\n",
       "\t 894                                                     & 0                                                       & 2                                                       & Myles, Mr. Thomas Francis                               & male                                                    & 62.0                                                    & 0                                                       & 0                                                       & 240276                                                  &   9.6875                                                &                                                         & Q                                                      \\\\\n",
       "\t 895                                                     & 0                                                       & 3                                                       & Wirz, Mr. Albert                                        & male                                                    & 27.0                                                    & 0                                                       & 0                                                       & 315154                                                  &   8.6625                                                &                                                         & S                                                      \\\\\n",
       "\t 896                                                     & 1                                                       & 3                                                       & Hirvonen, Mrs. Alexander (Helga E Lindqvist)            & female                                                  & 22.0                                                    & 1                                                       & 1                                                       & 3101298                                                 &  12.2875                                                &                                                         & S                                                      \\\\\n",
       "\t 897                                                     & 0                                                       & 3                                                       & Svensson, Mr. Johan Cervin                              & male                                                    & 14.0                                                    & 0                                                       & 0                                                       & 7538                                                    &   9.2250                                                &                                                         & S                                                      \\\\\n",
       "\t 898                                                     & 1                                                       & 3                                                       & Connolly, Miss. Kate                                    & female                                                  & 30.0                                                    & 0                                                       & 0                                                       & 330972                                                  &   7.6292                                                &                                                         & Q                                                      \\\\\n",
       "\t 899                                                     & 0                                                       & 2                                                       & Caldwell, Mr. Albert Francis                            & male                                                    & 26.0                                                    & 1                                                       & 1                                                       & 248738                                                  &  29.0000                                                &                                                         & S                                                      \\\\\n",
       "\t 900                                                     & 1                                                       & 3                                                       & Abrahim, Mrs. Joseph (Sophie Halaut Easu)               & female                                                  & 18.0                                                    & 0                                                       & 0                                                       & 2657                                                    &   7.2292                                                &                                                         & C                                                      \\\\\n",
       "\t 901                                                     & 0                                                       & 3                                                       & Davies, Mr. John Samuel                                 & male                                                    & 21.0                                                    & 2                                                       & 0                                                       & A/4 48871                                               &  24.1500                                                &                                                         & S                                                      \\\\\n",
       "\t 902                                                     & 0                                                       & 3                                                       & Ilieff, Mr. Ylio                                        & male                                                    &   NA                                                    & 0                                                       & 0                                                       & 349220                                                  &   7.8958                                                &                                                         & S                                                      \\\\\n",
       "\t 903                                                     & 0                                                       & 1                                                       & Jones, Mr. Charles Cresson                              & male                                                    & 46.0                                                    & 0                                                       & 0                                                       & 694                                                     &  26.0000                                                &                                                         & S                                                      \\\\\n",
       "\t 904                                                     & 1                                                       & 1                                                       & Snyder, Mrs. John Pillsbury (Nelle Stevenson)           & female                                                  & 23.0                                                    & 1                                                       & 0                                                       & 21228                                                   &  82.2667                                                & B45                                                     & S                                                      \\\\\n",
       "\t 905                                                     & 0                                                       & 2                                                       & Howard, Mr. Benjamin                                    & male                                                    & 63.0                                                    & 1                                                       & 0                                                       & 24065                                                   &  26.0000                                                &                                                         & S                                                      \\\\\n",
       "\t 906                                                     & 1                                                       & 1                                                       & Chaffee, Mrs. Herbert Fuller (Carrie Constance Toogood) & female                                                  & 47.0                                                    & 1                                                       & 0                                                       & W.E.P. 5734                                             &  61.1750                                                & E31                                                     & S                                                      \\\\\n",
       "\t 907                                                     & 1                                                       & 2                                                       & del Carlo, Mrs. Sebastiano (Argenia Genovesi)           & female                                                  & 24.0                                                    & 1                                                       & 0                                                       & SC/PARIS 2167                                           &  27.7208                                                &                                                         & C                                                      \\\\\n",
       "\t 908                                                     & 0                                                       & 2                                                       & Keane, Mr. Daniel                                       & male                                                    & 35.0                                                    & 0                                                       & 0                                                       & 233734                                                  &  12.3500                                                &                                                         & Q                                                      \\\\\n",
       "\t 909                                                     & 0                                                       & 3                                                       & Assaf, Mr. Gerios                                       & male                                                    & 21.0                                                    & 0                                                       & 0                                                       & 2692                                                    &   7.2250                                                &                                                         & C                                                      \\\\\n",
       "\t 910                                                     & 1                                                       & 3                                                       & Ilmakangas, Miss. Ida Livija                            & female                                                  & 27.0                                                    & 1                                                       & 0                                                       & STON/O2. 3101270                                        &   7.9250                                                &                                                         & S                                                      \\\\\n",
       "\t 911                                                     & 1                                                       & 3                                                       & Assaf Khalil, Mrs. Mariana (Miriam\")\"                   & female                                                  & 45.0                                                    & 0                                                       & 0                                                       & 2696                                                    &   7.2250                                                &                                                         & C                                                      \\\\\n",
       "\t 912                                                     & 0                                                       & 1                                                       & Rothschild, Mr. Martin                                  & male                                                    & 55.0                                                    & 1                                                       & 0                                                       & PC 17603                                                &  59.4000                                                &                                                         & C                                                      \\\\\n",
       "\t 913                                                     & 0                                                       & 3                                                       & Olsen, Master. Artur Karl                               & male                                                    &  9.0                                                    & 0                                                       & 1                                                       & C 17368                                                 &   3.1708                                                &                                                         & S                                                      \\\\\n",
       "\t 914                                                     & 1                                                       & 1                                                       & Flegenheim, Mrs. Alfred (Antoinette)                    & female                                                  &   NA                                                    & 0                                                       & 0                                                       & PC 17598                                                &  31.6833                                                &                                                         & S                                                      \\\\\n",
       "\t 915                                                     & 0                                                       & 1                                                       & Williams, Mr. Richard Norris II                         & male                                                    & 21.0                                                    & 0                                                       & 1                                                       & PC 17597                                                &  61.3792                                                &                                                         & C                                                      \\\\\n",
       "\t 916                                                     & 1                                                       & 1                                                       & Ryerson, Mrs. Arthur Larned (Emily Maria Borie)         & female                                                  & 48.0                                                    & 1                                                       & 3                                                       & PC 17608                                                & 262.3750                                                & B57 B59 B63 B66                                         & C                                                      \\\\\n",
       "\t 917                                                     & 0                                                       & 3                                                       & Robins, Mr. Alexander A                                 & male                                                    & 50.0                                                    & 1                                                       & 0                                                       & A/5. 3337                                               &  14.5000                                                &                                                         & S                                                      \\\\\n",
       "\t 918                                                     & 1                                                       & 1                                                       & Ostby, Miss. Helene Ragnhild                            & female                                                  & 22.0                                                    & 0                                                       & 1                                                       & 113509                                                  &  61.9792                                                & B36                                                     & C                                                      \\\\\n",
       "\t 919                                                     & 0                                                       & 3                                                       & Daher, Mr. Shedid                                       & male                                                    & 22.5                                                    & 0                                                       & 0                                                       & 2698                                                    &   7.2250                                                &                                                         & C                                                      \\\\\n",
       "\t 920                                                     & 0                                                       & 1                                                       & Brady, Mr. John Bertram                                 & male                                                    & 41.0                                                    & 0                                                       & 0                                                       & 113054                                                  &  30.5000                                                & A21                                                     & S                                                      \\\\\n",
       "\t 921                                                     & 0                                                       & 3                                                       & Samaan, Mr. Elias                                       & male                                                    &   NA                                                    & 2                                                       & 0                                                       & 2662                                                    &  21.6792                                                &                                                         & C                                                      \\\\\n",
       "\t ... & ... & ... & ... & ... & ... & ... & ... & ... & ... & ... & ...\\\\\n",
       "\t 1280                                                            & 0                                                               & 3                                                               & Canavan, Mr. Patrick                                            & male                                                            & 21.0                                                            & 0                                                               & 0                                                               & 364858                                                          &   7.7500                                                        &                                                                 & Q                                                              \\\\\n",
       "\t 1281                                                            & 0                                                               & 3                                                               & Palsson, Master. Paul Folke                                     & male                                                            &  6.0                                                            & 3                                                               & 1                                                               & 349909                                                          &  21.0750                                                        &                                                                 & S                                                              \\\\\n",
       "\t 1282                                                            & 0                                                               & 1                                                               & Payne, Mr. Vivian Ponsonby                                      & male                                                            & 23.0                                                            & 0                                                               & 0                                                               & 12749                                                           &  93.5000                                                        & B24                                                             & S                                                              \\\\\n",
       "\t 1283                                                            & 1                                                               & 1                                                               & Lines, Mrs. Ernest H (Elizabeth Lindsey James)                  & female                                                          & 51.0                                                            & 0                                                               & 1                                                               & PC 17592                                                        &  39.4000                                                        & D28                                                             & S                                                              \\\\\n",
       "\t 1284                                                            & 0                                                               & 3                                                               & Abbott, Master. Eugene Joseph                                   & male                                                            & 13.0                                                            & 0                                                               & 2                                                               & C.A. 2673                                                       &  20.2500                                                        &                                                                 & S                                                              \\\\\n",
       "\t 1285                                                            & 0                                                               & 2                                                               & Gilbert, Mr. William                                            & male                                                            & 47.0                                                            & 0                                                               & 0                                                               & C.A. 30769                                                      &  10.5000                                                        &                                                                 & S                                                              \\\\\n",
       "\t 1286                                                            & 0                                                               & 3                                                               & Kink-Heilmann, Mr. Anton                                        & male                                                            & 29.0                                                            & 3                                                               & 1                                                               & 315153                                                          &  22.0250                                                        &                                                                 & S                                                              \\\\\n",
       "\t 1287                                                            & 1                                                               & 1                                                               & Smith, Mrs. Lucien Philip (Mary Eloise Hughes)                  & female                                                          & 18.0                                                            & 1                                                               & 0                                                               & 13695                                                           &  60.0000                                                        & C31                                                             & S                                                              \\\\\n",
       "\t 1288                                                            & 0                                                               & 3                                                               & Colbert, Mr. Patrick                                            & male                                                            & 24.0                                                            & 0                                                               & 0                                                               & 371109                                                          &   7.2500                                                        &                                                                 & Q                                                              \\\\\n",
       "\t 1289                                                            & 1                                                               & 1                                                               & Frolicher-Stehli, Mrs. Maxmillian (Margaretha Emerentia Stehli) & female                                                          & 48.0                                                            & 1                                                               & 1                                                               & 13567                                                           &  79.2000                                                        & B41                                                             & C                                                              \\\\\n",
       "\t 1290                                                            & 0                                                               & 3                                                               & Larsson-Rondberg, Mr. Edvard A                                  & male                                                            & 22.0                                                            & 0                                                               & 0                                                               & 347065                                                          &   7.7750                                                        &                                                                 & S                                                              \\\\\n",
       "\t 1291                                                            & 0                                                               & 3                                                               & Conlon, Mr. Thomas Henry                                        & male                                                            & 31.0                                                            & 0                                                               & 0                                                               & 21332                                                           &   7.7333                                                        &                                                                 & Q                                                              \\\\\n",
       "\t 1292                                                            & 1                                                               & 1                                                               & Bonnell, Miss. Caroline                                         & female                                                          & 30.0                                                            & 0                                                               & 0                                                               & 36928                                                           & 164.8667                                                        & C7                                                              & S                                                              \\\\\n",
       "\t 1293                                                            & 0                                                               & 2                                                               & Gale, Mr. Harry                                                 & male                                                            & 38.0                                                            & 1                                                               & 0                                                               & 28664                                                           &  21.0000                                                        &                                                                 & S                                                              \\\\\n",
       "\t 1294                                                            & 1                                                               & 1                                                               & Gibson, Miss. Dorothy Winifred                                  & female                                                          & 22.0                                                            & 0                                                               & 1                                                               & 112378                                                          &  59.4000                                                        &                                                                 & C                                                              \\\\\n",
       "\t 1295                                                            & 0                                                               & 1                                                               & Carrau, Mr. Jose Pedro                                          & male                                                            & 17.0                                                            & 0                                                               & 0                                                               & 113059                                                          &  47.1000                                                        &                                                                 & S                                                              \\\\\n",
       "\t 1296                                                            & 0                                                               & 1                                                               & Frauenthal, Mr. Isaac Gerald                                    & male                                                            & 43.0                                                            & 1                                                               & 0                                                               & 17765                                                           &  27.7208                                                        & D40                                                             & C                                                              \\\\\n",
       "\t 1297                                                            & 0                                                               & 2                                                               & Nourney, Mr. Alfred (Baron von Drachstedt\")\"                    & male                                                            & 20.0                                                            & 0                                                               & 0                                                               & SC/PARIS 2166                                                   &  13.8625                                                        & D38                                                             & C                                                              \\\\\n",
       "\t 1298                                                            & 0                                                               & 2                                                               & Ware, Mr. William Jeffery                                       & male                                                            & 23.0                                                            & 1                                                               & 0                                                               & 28666                                                           &  10.5000                                                        &                                                                 & S                                                              \\\\\n",
       "\t 1299                                                            & 0                                                               & 1                                                               & Widener, Mr. George Dunton                                      & male                                                            & 50.0                                                            & 1                                                               & 1                                                               & 113503                                                          & 211.5000                                                        & C80                                                             & C                                                              \\\\\n",
       "\t 1300                                                            & 1                                                               & 3                                                               & Riordan, Miss. Johanna Hannah\"\"                                 & female                                                          &   NA                                                            & 0                                                               & 0                                                               & 334915                                                          &   7.7208                                                        &                                                                 & Q                                                              \\\\\n",
       "\t 1301                                                            & 1                                                               & 3                                                               & Peacock, Miss. Treasteall                                       & female                                                          &  3.0                                                            & 1                                                               & 1                                                               & SOTON/O.Q. 3101315                                              &  13.7750                                                        &                                                                 & S                                                              \\\\\n",
       "\t 1302                                                            & 1                                                               & 3                                                               & Naughton, Miss. Hannah                                          & female                                                          &   NA                                                            & 0                                                               & 0                                                               & 365237                                                          &   7.7500                                                        &                                                                 & Q                                                              \\\\\n",
       "\t 1303                                                            & 1                                                               & 1                                                               & Minahan, Mrs. William Edward (Lillian E Thorpe)                 & female                                                          & 37.0                                                            & 1                                                               & 0                                                               & 19928                                                           &  90.0000                                                        & C78                                                             & Q                                                              \\\\\n",
       "\t 1304                                                            & 1                                                               & 3                                                               & Henriksson, Miss. Jenny Lovisa                                  & female                                                          & 28.0                                                            & 0                                                               & 0                                                               & 347086                                                          &   7.7750                                                        &                                                                 & S                                                              \\\\\n",
       "\t 1305                                                            & 0                                                               & 3                                                               & Spector, Mr. Woolf                                              & male                                                            &   NA                                                            & 0                                                               & 0                                                               & A.5. 3236                                                       &   8.0500                                                        &                                                                 & S                                                              \\\\\n",
       "\t 1306                                                            & 1                                                               & 1                                                               & Oliva y Ocana, Dona. Fermina                                    & female                                                          & 39.0                                                            & 0                                                               & 0                                                               & PC 17758                                                        & 108.9000                                                        & C105                                                            & C                                                              \\\\\n",
       "\t 1307                                                            & 0                                                               & 3                                                               & Saether, Mr. Simon Sivertsen                                    & male                                                            & 38.5                                                            & 0                                                               & 0                                                               & SOTON/O.Q. 3101262                                              &   7.2500                                                        &                                                                 & S                                                              \\\\\n",
       "\t 1308                                                            & 0                                                               & 3                                                               & Ware, Mr. Frederick                                             & male                                                            &   NA                                                            & 0                                                               & 0                                                               & 359309                                                          &   8.0500                                                        &                                                                 & S                                                              \\\\\n",
       "\t 1309                                                            & 0                                                               & 3                                                               & Peter, Master. Michael J                                        & male                                                            &   NA                                                            & 1                                                               & 1                                                               & 2668                                                            &  22.3583                                                        &                                                                 & C                                                              \\\\\n",
       "\\end{tabular}\n"
      ],
      "text/markdown": [
       "\n",
       "| PassengerId | Survived | Pclass | Name | Sex | Age | SibSp | Parch | Ticket | Fare | Cabin | Embarked |\n",
       "|---|---|---|---|---|---|---|---|---|---|---|---|\n",
       "| 892                                                     | 0                                                       | 3                                                       | Kelly, Mr. James                                        | male                                                    | 34.5                                                    | 0                                                       | 0                                                       | 330911                                                  |   7.8292                                                |                                                         | Q                                                       |\n",
       "| 893                                                     | 1                                                       | 3                                                       | Wilkes, Mrs. James (Ellen Needs)                        | female                                                  | 47.0                                                    | 1                                                       | 0                                                       | 363272                                                  |   7.0000                                                |                                                         | S                                                       |\n",
       "| 894                                                     | 0                                                       | 2                                                       | Myles, Mr. Thomas Francis                               | male                                                    | 62.0                                                    | 0                                                       | 0                                                       | 240276                                                  |   9.6875                                                |                                                         | Q                                                       |\n",
       "| 895                                                     | 0                                                       | 3                                                       | Wirz, Mr. Albert                                        | male                                                    | 27.0                                                    | 0                                                       | 0                                                       | 315154                                                  |   8.6625                                                |                                                         | S                                                       |\n",
       "| 896                                                     | 1                                                       | 3                                                       | Hirvonen, Mrs. Alexander (Helga E Lindqvist)            | female                                                  | 22.0                                                    | 1                                                       | 1                                                       | 3101298                                                 |  12.2875                                                |                                                         | S                                                       |\n",
       "| 897                                                     | 0                                                       | 3                                                       | Svensson, Mr. Johan Cervin                              | male                                                    | 14.0                                                    | 0                                                       | 0                                                       | 7538                                                    |   9.2250                                                |                                                         | S                                                       |\n",
       "| 898                                                     | 1                                                       | 3                                                       | Connolly, Miss. Kate                                    | female                                                  | 30.0                                                    | 0                                                       | 0                                                       | 330972                                                  |   7.6292                                                |                                                         | Q                                                       |\n",
       "| 899                                                     | 0                                                       | 2                                                       | Caldwell, Mr. Albert Francis                            | male                                                    | 26.0                                                    | 1                                                       | 1                                                       | 248738                                                  |  29.0000                                                |                                                         | S                                                       |\n",
       "| 900                                                     | 1                                                       | 3                                                       | Abrahim, Mrs. Joseph (Sophie Halaut Easu)               | female                                                  | 18.0                                                    | 0                                                       | 0                                                       | 2657                                                    |   7.2292                                                |                                                         | C                                                       |\n",
       "| 901                                                     | 0                                                       | 3                                                       | Davies, Mr. John Samuel                                 | male                                                    | 21.0                                                    | 2                                                       | 0                                                       | A/4 48871                                               |  24.1500                                                |                                                         | S                                                       |\n",
       "| 902                                                     | 0                                                       | 3                                                       | Ilieff, Mr. Ylio                                        | male                                                    |   NA                                                    | 0                                                       | 0                                                       | 349220                                                  |   7.8958                                                |                                                         | S                                                       |\n",
       "| 903                                                     | 0                                                       | 1                                                       | Jones, Mr. Charles Cresson                              | male                                                    | 46.0                                                    | 0                                                       | 0                                                       | 694                                                     |  26.0000                                                |                                                         | S                                                       |\n",
       "| 904                                                     | 1                                                       | 1                                                       | Snyder, Mrs. John Pillsbury (Nelle Stevenson)           | female                                                  | 23.0                                                    | 1                                                       | 0                                                       | 21228                                                   |  82.2667                                                | B45                                                     | S                                                       |\n",
       "| 905                                                     | 0                                                       | 2                                                       | Howard, Mr. Benjamin                                    | male                                                    | 63.0                                                    | 1                                                       | 0                                                       | 24065                                                   |  26.0000                                                |                                                         | S                                                       |\n",
       "| 906                                                     | 1                                                       | 1                                                       | Chaffee, Mrs. Herbert Fuller (Carrie Constance Toogood) | female                                                  | 47.0                                                    | 1                                                       | 0                                                       | W.E.P. 5734                                             |  61.1750                                                | E31                                                     | S                                                       |\n",
       "| 907                                                     | 1                                                       | 2                                                       | del Carlo, Mrs. Sebastiano (Argenia Genovesi)           | female                                                  | 24.0                                                    | 1                                                       | 0                                                       | SC/PARIS 2167                                           |  27.7208                                                |                                                         | C                                                       |\n",
       "| 908                                                     | 0                                                       | 2                                                       | Keane, Mr. Daniel                                       | male                                                    | 35.0                                                    | 0                                                       | 0                                                       | 233734                                                  |  12.3500                                                |                                                         | Q                                                       |\n",
       "| 909                                                     | 0                                                       | 3                                                       | Assaf, Mr. Gerios                                       | male                                                    | 21.0                                                    | 0                                                       | 0                                                       | 2692                                                    |   7.2250                                                |                                                         | C                                                       |\n",
       "| 910                                                     | 1                                                       | 3                                                       | Ilmakangas, Miss. Ida Livija                            | female                                                  | 27.0                                                    | 1                                                       | 0                                                       | STON/O2. 3101270                                        |   7.9250                                                |                                                         | S                                                       |\n",
       "| 911                                                     | 1                                                       | 3                                                       | Assaf Khalil, Mrs. Mariana (Miriam\")\"                   | female                                                  | 45.0                                                    | 0                                                       | 0                                                       | 2696                                                    |   7.2250                                                |                                                         | C                                                       |\n",
       "| 912                                                     | 0                                                       | 1                                                       | Rothschild, Mr. Martin                                  | male                                                    | 55.0                                                    | 1                                                       | 0                                                       | PC 17603                                                |  59.4000                                                |                                                         | C                                                       |\n",
       "| 913                                                     | 0                                                       | 3                                                       | Olsen, Master. Artur Karl                               | male                                                    |  9.0                                                    | 0                                                       | 1                                                       | C 17368                                                 |   3.1708                                                |                                                         | S                                                       |\n",
       "| 914                                                     | 1                                                       | 1                                                       | Flegenheim, Mrs. Alfred (Antoinette)                    | female                                                  |   NA                                                    | 0                                                       | 0                                                       | PC 17598                                                |  31.6833                                                |                                                         | S                                                       |\n",
       "| 915                                                     | 0                                                       | 1                                                       | Williams, Mr. Richard Norris II                         | male                                                    | 21.0                                                    | 0                                                       | 1                                                       | PC 17597                                                |  61.3792                                                |                                                         | C                                                       |\n",
       "| 916                                                     | 1                                                       | 1                                                       | Ryerson, Mrs. Arthur Larned (Emily Maria Borie)         | female                                                  | 48.0                                                    | 1                                                       | 3                                                       | PC 17608                                                | 262.3750                                                | B57 B59 B63 B66                                         | C                                                       |\n",
       "| 917                                                     | 0                                                       | 3                                                       | Robins, Mr. Alexander A                                 | male                                                    | 50.0                                                    | 1                                                       | 0                                                       | A/5. 3337                                               |  14.5000                                                |                                                         | S                                                       |\n",
       "| 918                                                     | 1                                                       | 1                                                       | Ostby, Miss. Helene Ragnhild                            | female                                                  | 22.0                                                    | 0                                                       | 1                                                       | 113509                                                  |  61.9792                                                | B36                                                     | C                                                       |\n",
       "| 919                                                     | 0                                                       | 3                                                       | Daher, Mr. Shedid                                       | male                                                    | 22.5                                                    | 0                                                       | 0                                                       | 2698                                                    |   7.2250                                                |                                                         | C                                                       |\n",
       "| 920                                                     | 0                                                       | 1                                                       | Brady, Mr. John Bertram                                 | male                                                    | 41.0                                                    | 0                                                       | 0                                                       | 113054                                                  |  30.5000                                                | A21                                                     | S                                                       |\n",
       "| 921                                                     | 0                                                       | 3                                                       | Samaan, Mr. Elias                                       | male                                                    |   NA                                                    | 2                                                       | 0                                                       | 2662                                                    |  21.6792                                                |                                                         | C                                                       |\n",
       "| ... | ... | ... | ... | ... | ... | ... | ... | ... | ... | ... | ... |\n",
       "| 1280                                                            | 0                                                               | 3                                                               | Canavan, Mr. Patrick                                            | male                                                            | 21.0                                                            | 0                                                               | 0                                                               | 364858                                                          |   7.7500                                                        |                                                                 | Q                                                               |\n",
       "| 1281                                                            | 0                                                               | 3                                                               | Palsson, Master. Paul Folke                                     | male                                                            |  6.0                                                            | 3                                                               | 1                                                               | 349909                                                          |  21.0750                                                        |                                                                 | S                                                               |\n",
       "| 1282                                                            | 0                                                               | 1                                                               | Payne, Mr. Vivian Ponsonby                                      | male                                                            | 23.0                                                            | 0                                                               | 0                                                               | 12749                                                           |  93.5000                                                        | B24                                                             | S                                                               |\n",
       "| 1283                                                            | 1                                                               | 1                                                               | Lines, Mrs. Ernest H (Elizabeth Lindsey James)                  | female                                                          | 51.0                                                            | 0                                                               | 1                                                               | PC 17592                                                        |  39.4000                                                        | D28                                                             | S                                                               |\n",
       "| 1284                                                            | 0                                                               | 3                                                               | Abbott, Master. Eugene Joseph                                   | male                                                            | 13.0                                                            | 0                                                               | 2                                                               | C.A. 2673                                                       |  20.2500                                                        |                                                                 | S                                                               |\n",
       "| 1285                                                            | 0                                                               | 2                                                               | Gilbert, Mr. William                                            | male                                                            | 47.0                                                            | 0                                                               | 0                                                               | C.A. 30769                                                      |  10.5000                                                        |                                                                 | S                                                               |\n",
       "| 1286                                                            | 0                                                               | 3                                                               | Kink-Heilmann, Mr. Anton                                        | male                                                            | 29.0                                                            | 3                                                               | 1                                                               | 315153                                                          |  22.0250                                                        |                                                                 | S                                                               |\n",
       "| 1287                                                            | 1                                                               | 1                                                               | Smith, Mrs. Lucien Philip (Mary Eloise Hughes)                  | female                                                          | 18.0                                                            | 1                                                               | 0                                                               | 13695                                                           |  60.0000                                                        | C31                                                             | S                                                               |\n",
       "| 1288                                                            | 0                                                               | 3                                                               | Colbert, Mr. Patrick                                            | male                                                            | 24.0                                                            | 0                                                               | 0                                                               | 371109                                                          |   7.2500                                                        |                                                                 | Q                                                               |\n",
       "| 1289                                                            | 1                                                               | 1                                                               | Frolicher-Stehli, Mrs. Maxmillian (Margaretha Emerentia Stehli) | female                                                          | 48.0                                                            | 1                                                               | 1                                                               | 13567                                                           |  79.2000                                                        | B41                                                             | C                                                               |\n",
       "| 1290                                                            | 0                                                               | 3                                                               | Larsson-Rondberg, Mr. Edvard A                                  | male                                                            | 22.0                                                            | 0                                                               | 0                                                               | 347065                                                          |   7.7750                                                        |                                                                 | S                                                               |\n",
       "| 1291                                                            | 0                                                               | 3                                                               | Conlon, Mr. Thomas Henry                                        | male                                                            | 31.0                                                            | 0                                                               | 0                                                               | 21332                                                           |   7.7333                                                        |                                                                 | Q                                                               |\n",
       "| 1292                                                            | 1                                                               | 1                                                               | Bonnell, Miss. Caroline                                         | female                                                          | 30.0                                                            | 0                                                               | 0                                                               | 36928                                                           | 164.8667                                                        | C7                                                              | S                                                               |\n",
       "| 1293                                                            | 0                                                               | 2                                                               | Gale, Mr. Harry                                                 | male                                                            | 38.0                                                            | 1                                                               | 0                                                               | 28664                                                           |  21.0000                                                        |                                                                 | S                                                               |\n",
       "| 1294                                                            | 1                                                               | 1                                                               | Gibson, Miss. Dorothy Winifred                                  | female                                                          | 22.0                                                            | 0                                                               | 1                                                               | 112378                                                          |  59.4000                                                        |                                                                 | C                                                               |\n",
       "| 1295                                                            | 0                                                               | 1                                                               | Carrau, Mr. Jose Pedro                                          | male                                                            | 17.0                                                            | 0                                                               | 0                                                               | 113059                                                          |  47.1000                                                        |                                                                 | S                                                               |\n",
       "| 1296                                                            | 0                                                               | 1                                                               | Frauenthal, Mr. Isaac Gerald                                    | male                                                            | 43.0                                                            | 1                                                               | 0                                                               | 17765                                                           |  27.7208                                                        | D40                                                             | C                                                               |\n",
       "| 1297                                                            | 0                                                               | 2                                                               | Nourney, Mr. Alfred (Baron von Drachstedt\")\"                    | male                                                            | 20.0                                                            | 0                                                               | 0                                                               | SC/PARIS 2166                                                   |  13.8625                                                        | D38                                                             | C                                                               |\n",
       "| 1298                                                            | 0                                                               | 2                                                               | Ware, Mr. William Jeffery                                       | male                                                            | 23.0                                                            | 1                                                               | 0                                                               | 28666                                                           |  10.5000                                                        |                                                                 | S                                                               |\n",
       "| 1299                                                            | 0                                                               | 1                                                               | Widener, Mr. George Dunton                                      | male                                                            | 50.0                                                            | 1                                                               | 1                                                               | 113503                                                          | 211.5000                                                        | C80                                                             | C                                                               |\n",
       "| 1300                                                            | 1                                                               | 3                                                               | Riordan, Miss. Johanna Hannah\"\"                                 | female                                                          |   NA                                                            | 0                                                               | 0                                                               | 334915                                                          |   7.7208                                                        |                                                                 | Q                                                               |\n",
       "| 1301                                                            | 1                                                               | 3                                                               | Peacock, Miss. Treasteall                                       | female                                                          |  3.0                                                            | 1                                                               | 1                                                               | SOTON/O.Q. 3101315                                              |  13.7750                                                        |                                                                 | S                                                               |\n",
       "| 1302                                                            | 1                                                               | 3                                                               | Naughton, Miss. Hannah                                          | female                                                          |   NA                                                            | 0                                                               | 0                                                               | 365237                                                          |   7.7500                                                        |                                                                 | Q                                                               |\n",
       "| 1303                                                            | 1                                                               | 1                                                               | Minahan, Mrs. William Edward (Lillian E Thorpe)                 | female                                                          | 37.0                                                            | 1                                                               | 0                                                               | 19928                                                           |  90.0000                                                        | C78                                                             | Q                                                               |\n",
       "| 1304                                                            | 1                                                               | 3                                                               | Henriksson, Miss. Jenny Lovisa                                  | female                                                          | 28.0                                                            | 0                                                               | 0                                                               | 347086                                                          |   7.7750                                                        |                                                                 | S                                                               |\n",
       "| 1305                                                            | 0                                                               | 3                                                               | Spector, Mr. Woolf                                              | male                                                            |   NA                                                            | 0                                                               | 0                                                               | A.5. 3236                                                       |   8.0500                                                        |                                                                 | S                                                               |\n",
       "| 1306                                                            | 1                                                               | 1                                                               | Oliva y Ocana, Dona. Fermina                                    | female                                                          | 39.0                                                            | 0                                                               | 0                                                               | PC 17758                                                        | 108.9000                                                        | C105                                                            | C                                                               |\n",
       "| 1307                                                            | 0                                                               | 3                                                               | Saether, Mr. Simon Sivertsen                                    | male                                                            | 38.5                                                            | 0                                                               | 0                                                               | SOTON/O.Q. 3101262                                              |   7.2500                                                        |                                                                 | S                                                               |\n",
       "| 1308                                                            | 0                                                               | 3                                                               | Ware, Mr. Frederick                                             | male                                                            |   NA                                                            | 0                                                               | 0                                                               | 359309                                                          |   8.0500                                                        |                                                                 | S                                                               |\n",
       "| 1309                                                            | 0                                                               | 3                                                               | Peter, Master. Michael J                                        | male                                                            |   NA                                                            | 1                                                               | 1                                                               | 2668                                                            |  22.3583                                                        |                                                                 | C                                                               |\n",
       "\n"
      ],
      "text/plain": [
       "    PassengerId Survived Pclass\n",
       "1   892         0        3     \n",
       "2   893         1        3     \n",
       "3   894         0        2     \n",
       "4   895         0        3     \n",
       "5   896         1        3     \n",
       "6   897         0        3     \n",
       "7   898         1        3     \n",
       "8   899         0        2     \n",
       "9   900         1        3     \n",
       "10  901         0        3     \n",
       "11  902         0        3     \n",
       "12  903         0        1     \n",
       "13  904         1        1     \n",
       "14  905         0        2     \n",
       "15  906         1        1     \n",
       "16  907         1        2     \n",
       "17  908         0        2     \n",
       "18  909         0        3     \n",
       "19  910         1        3     \n",
       "20  911         1        3     \n",
       "21  912         0        1     \n",
       "22  913         0        3     \n",
       "23  914         1        1     \n",
       "24  915         0        1     \n",
       "25  916         1        1     \n",
       "26  917         0        3     \n",
       "27  918         1        1     \n",
       "28  919         0        3     \n",
       "29  920         0        1     \n",
       "30  921         0        3     \n",
       "... ...         ...      ...   \n",
       "389 1280        0        3     \n",
       "390 1281        0        3     \n",
       "391 1282        0        1     \n",
       "392 1283        1        1     \n",
       "393 1284        0        3     \n",
       "394 1285        0        2     \n",
       "395 1286        0        3     \n",
       "396 1287        1        1     \n",
       "397 1288        0        3     \n",
       "398 1289        1        1     \n",
       "399 1290        0        3     \n",
       "400 1291        0        3     \n",
       "401 1292        1        1     \n",
       "402 1293        0        2     \n",
       "403 1294        1        1     \n",
       "404 1295        0        1     \n",
       "405 1296        0        1     \n",
       "406 1297        0        2     \n",
       "407 1298        0        2     \n",
       "408 1299        0        1     \n",
       "409 1300        1        3     \n",
       "410 1301        1        3     \n",
       "411 1302        1        3     \n",
       "412 1303        1        1     \n",
       "413 1304        1        3     \n",
       "414 1305        0        3     \n",
       "415 1306        1        1     \n",
       "416 1307        0        3     \n",
       "417 1308        0        3     \n",
       "418 1309        0        3     \n",
       "    Name                                                            Sex    Age \n",
       "1   Kelly, Mr. James                                                male   34.5\n",
       "2   Wilkes, Mrs. James (Ellen Needs)                                female 47.0\n",
       "3   Myles, Mr. Thomas Francis                                       male   62.0\n",
       "4   Wirz, Mr. Albert                                                male   27.0\n",
       "5   Hirvonen, Mrs. Alexander (Helga E Lindqvist)                    female 22.0\n",
       "6   Svensson, Mr. Johan Cervin                                      male   14.0\n",
       "7   Connolly, Miss. Kate                                            female 30.0\n",
       "8   Caldwell, Mr. Albert Francis                                    male   26.0\n",
       "9   Abrahim, Mrs. Joseph (Sophie Halaut Easu)                       female 18.0\n",
       "10  Davies, Mr. John Samuel                                         male   21.0\n",
       "11  Ilieff, Mr. Ylio                                                male     NA\n",
       "12  Jones, Mr. Charles Cresson                                      male   46.0\n",
       "13  Snyder, Mrs. John Pillsbury (Nelle Stevenson)                   female 23.0\n",
       "14  Howard, Mr. Benjamin                                            male   63.0\n",
       "15  Chaffee, Mrs. Herbert Fuller (Carrie Constance Toogood)         female 47.0\n",
       "16  del Carlo, Mrs. Sebastiano (Argenia Genovesi)                   female 24.0\n",
       "17  Keane, Mr. Daniel                                               male   35.0\n",
       "18  Assaf, Mr. Gerios                                               male   21.0\n",
       "19  Ilmakangas, Miss. Ida Livija                                    female 27.0\n",
       "20  Assaf Khalil, Mrs. Mariana (Miriam\")\"                           female 45.0\n",
       "21  Rothschild, Mr. Martin                                          male   55.0\n",
       "22  Olsen, Master. Artur Karl                                       male    9.0\n",
       "23  Flegenheim, Mrs. Alfred (Antoinette)                            female   NA\n",
       "24  Williams, Mr. Richard Norris II                                 male   21.0\n",
       "25  Ryerson, Mrs. Arthur Larned (Emily Maria Borie)                 female 48.0\n",
       "26  Robins, Mr. Alexander A                                         male   50.0\n",
       "27  Ostby, Miss. Helene Ragnhild                                    female 22.0\n",
       "28  Daher, Mr. Shedid                                               male   22.5\n",
       "29  Brady, Mr. John Bertram                                         male   41.0\n",
       "30  Samaan, Mr. Elias                                               male     NA\n",
       "... ...                                                             ...    ... \n",
       "389 Canavan, Mr. Patrick                                            male   21.0\n",
       "390 Palsson, Master. Paul Folke                                     male    6.0\n",
       "391 Payne, Mr. Vivian Ponsonby                                      male   23.0\n",
       "392 Lines, Mrs. Ernest H (Elizabeth Lindsey James)                  female 51.0\n",
       "393 Abbott, Master. Eugene Joseph                                   male   13.0\n",
       "394 Gilbert, Mr. William                                            male   47.0\n",
       "395 Kink-Heilmann, Mr. Anton                                        male   29.0\n",
       "396 Smith, Mrs. Lucien Philip (Mary Eloise Hughes)                  female 18.0\n",
       "397 Colbert, Mr. Patrick                                            male   24.0\n",
       "398 Frolicher-Stehli, Mrs. Maxmillian (Margaretha Emerentia Stehli) female 48.0\n",
       "399 Larsson-Rondberg, Mr. Edvard A                                  male   22.0\n",
       "400 Conlon, Mr. Thomas Henry                                        male   31.0\n",
       "401 Bonnell, Miss. Caroline                                         female 30.0\n",
       "402 Gale, Mr. Harry                                                 male   38.0\n",
       "403 Gibson, Miss. Dorothy Winifred                                  female 22.0\n",
       "404 Carrau, Mr. Jose Pedro                                          male   17.0\n",
       "405 Frauenthal, Mr. Isaac Gerald                                    male   43.0\n",
       "406 Nourney, Mr. Alfred (Baron von Drachstedt\")\"                    male   20.0\n",
       "407 Ware, Mr. William Jeffery                                       male   23.0\n",
       "408 Widener, Mr. George Dunton                                      male   50.0\n",
       "409 Riordan, Miss. Johanna Hannah\"\"                                 female   NA\n",
       "410 Peacock, Miss. Treasteall                                       female  3.0\n",
       "411 Naughton, Miss. Hannah                                          female   NA\n",
       "412 Minahan, Mrs. William Edward (Lillian E Thorpe)                 female 37.0\n",
       "413 Henriksson, Miss. Jenny Lovisa                                  female 28.0\n",
       "414 Spector, Mr. Woolf                                              male     NA\n",
       "415 Oliva y Ocana, Dona. Fermina                                    female 39.0\n",
       "416 Saether, Mr. Simon Sivertsen                                    male   38.5\n",
       "417 Ware, Mr. Frederick                                             male     NA\n",
       "418 Peter, Master. Michael J                                        male     NA\n",
       "    SibSp Parch Ticket             Fare     Cabin           Embarked\n",
       "1   0     0     330911               7.8292                 Q       \n",
       "2   1     0     363272               7.0000                 S       \n",
       "3   0     0     240276               9.6875                 Q       \n",
       "4   0     0     315154               8.6625                 S       \n",
       "5   1     1     3101298             12.2875                 S       \n",
       "6   0     0     7538                 9.2250                 S       \n",
       "7   0     0     330972               7.6292                 Q       \n",
       "8   1     1     248738              29.0000                 S       \n",
       "9   0     0     2657                 7.2292                 C       \n",
       "10  2     0     A/4 48871           24.1500                 S       \n",
       "11  0     0     349220               7.8958                 S       \n",
       "12  0     0     694                 26.0000                 S       \n",
       "13  1     0     21228               82.2667 B45             S       \n",
       "14  1     0     24065               26.0000                 S       \n",
       "15  1     0     W.E.P. 5734         61.1750 E31             S       \n",
       "16  1     0     SC/PARIS 2167       27.7208                 C       \n",
       "17  0     0     233734              12.3500                 Q       \n",
       "18  0     0     2692                 7.2250                 C       \n",
       "19  1     0     STON/O2. 3101270     7.9250                 S       \n",
       "20  0     0     2696                 7.2250                 C       \n",
       "21  1     0     PC 17603            59.4000                 C       \n",
       "22  0     1     C 17368              3.1708                 S       \n",
       "23  0     0     PC 17598            31.6833                 S       \n",
       "24  0     1     PC 17597            61.3792                 C       \n",
       "25  1     3     PC 17608           262.3750 B57 B59 B63 B66 C       \n",
       "26  1     0     A/5. 3337           14.5000                 S       \n",
       "27  0     1     113509              61.9792 B36             C       \n",
       "28  0     0     2698                 7.2250                 C       \n",
       "29  0     0     113054              30.5000 A21             S       \n",
       "30  2     0     2662                21.6792                 C       \n",
       "... ...   ...   ...                ...      ...             ...     \n",
       "389 0     0     364858               7.7500                 Q       \n",
       "390 3     1     349909              21.0750                 S       \n",
       "391 0     0     12749               93.5000 B24             S       \n",
       "392 0     1     PC 17592            39.4000 D28             S       \n",
       "393 0     2     C.A. 2673           20.2500                 S       \n",
       "394 0     0     C.A. 30769          10.5000                 S       \n",
       "395 3     1     315153              22.0250                 S       \n",
       "396 1     0     13695               60.0000 C31             S       \n",
       "397 0     0     371109               7.2500                 Q       \n",
       "398 1     1     13567               79.2000 B41             C       \n",
       "399 0     0     347065               7.7750                 S       \n",
       "400 0     0     21332                7.7333                 Q       \n",
       "401 0     0     36928              164.8667 C7              S       \n",
       "402 1     0     28664               21.0000                 S       \n",
       "403 0     1     112378              59.4000                 C       \n",
       "404 0     0     113059              47.1000                 S       \n",
       "405 1     0     17765               27.7208 D40             C       \n",
       "406 0     0     SC/PARIS 2166       13.8625 D38             C       \n",
       "407 1     0     28666               10.5000                 S       \n",
       "408 1     1     113503             211.5000 C80             C       \n",
       "409 0     0     334915               7.7208                 Q       \n",
       "410 1     1     SOTON/O.Q. 3101315  13.7750                 S       \n",
       "411 0     0     365237               7.7500                 Q       \n",
       "412 1     0     19928               90.0000 C78             Q       \n",
       "413 0     0     347086               7.7750                 S       \n",
       "414 0     0     A.5. 3236            8.0500                 S       \n",
       "415 0     0     PC 17758           108.9000 C105            C       \n",
       "416 0     0     SOTON/O.Q. 3101262   7.2500                 S       \n",
       "417 0     0     359309               8.0500                 S       \n",
       "418 1     1     2668                22.3583                 C       "
      ]
     },
     "metadata": {},
     "output_type": "display_data"
    },
    {
     "data": {
      "text/html": [
       "<ol class=list-inline>\n",
       "\t<li>418</li>\n",
       "\t<li>12</li>\n",
       "</ol>\n"
      ],
      "text/latex": [
       "\\begin{enumerate*}\n",
       "\\item 418\n",
       "\\item 12\n",
       "\\end{enumerate*}\n"
      ],
      "text/markdown": [
       "1. 418\n",
       "2. 12\n",
       "\n",
       "\n"
      ],
      "text/plain": [
       "[1] 418  12"
      ]
     },
     "metadata": {},
     "output_type": "display_data"
    }
   ],
   "source": [
    "titanic = read.csv(\"titanic.csv\")\n",
    "titanic\n",
    "\n",
    "dim(titanic)"
   ]
  },
  {
   "cell_type": "code",
   "execution_count": 5,
   "id": "6ab2d308",
   "metadata": {
    "vscode": {
     "languageId": "r"
    }
   },
   "outputs": [
    {
     "data": {
      "text/html": [
       "<table>\n",
       "<thead><tr><th scope=col>PassengerId</th><th scope=col>Survived</th><th scope=col>Pclass</th><th scope=col>Name</th><th scope=col>Sex</th><th scope=col>Age</th><th scope=col>SibSp</th><th scope=col>Parch</th><th scope=col>Ticket</th><th scope=col>Fare</th><th scope=col>Cabin</th><th scope=col>Embarked</th></tr></thead>\n",
       "<tbody>\n",
       "\t<tr><td>892                                         </td><td>0                                           </td><td>3                                           </td><td>Kelly, Mr. James                            </td><td>male                                        </td><td>34.5                                        </td><td>0                                           </td><td>0                                           </td><td>330911                                      </td><td> 7.8292                                     </td><td>                                            </td><td>Q                                           </td></tr>\n",
       "\t<tr><td>893                                         </td><td>1                                           </td><td>3                                           </td><td>Wilkes, Mrs. James (Ellen Needs)            </td><td>female                                      </td><td>47.0                                        </td><td>1                                           </td><td>0                                           </td><td>363272                                      </td><td> 7.0000                                     </td><td>                                            </td><td>S                                           </td></tr>\n",
       "\t<tr><td>894                                         </td><td>0                                           </td><td>2                                           </td><td>Myles, Mr. Thomas Francis                   </td><td>male                                        </td><td>62.0                                        </td><td>0                                           </td><td>0                                           </td><td>240276                                      </td><td> 9.6875                                     </td><td>                                            </td><td>Q                                           </td></tr>\n",
       "\t<tr><td>895                                         </td><td>0                                           </td><td>3                                           </td><td>Wirz, Mr. Albert                            </td><td>male                                        </td><td>27.0                                        </td><td>0                                           </td><td>0                                           </td><td>315154                                      </td><td> 8.6625                                     </td><td>                                            </td><td>S                                           </td></tr>\n",
       "\t<tr><td>896                                         </td><td>1                                           </td><td>3                                           </td><td>Hirvonen, Mrs. Alexander (Helga E Lindqvist)</td><td>female                                      </td><td>22.0                                        </td><td>1                                           </td><td>1                                           </td><td>3101298                                     </td><td>12.2875                                     </td><td>                                            </td><td>S                                           </td></tr>\n",
       "\t<tr><td>897                                         </td><td>0                                           </td><td>3                                           </td><td>Svensson, Mr. Johan Cervin                  </td><td>male                                        </td><td>14.0                                        </td><td>0                                           </td><td>0                                           </td><td>7538                                        </td><td> 9.2250                                     </td><td>                                            </td><td>S                                           </td></tr>\n",
       "</tbody>\n",
       "</table>\n"
      ],
      "text/latex": [
       "\\begin{tabular}{r|llllllllllll}\n",
       " PassengerId & Survived & Pclass & Name & Sex & Age & SibSp & Parch & Ticket & Fare & Cabin & Embarked\\\\\n",
       "\\hline\n",
       "\t 892                                          & 0                                            & 3                                            & Kelly, Mr. James                             & male                                         & 34.5                                         & 0                                            & 0                                            & 330911                                       &  7.8292                                      &                                              & Q                                           \\\\\n",
       "\t 893                                          & 1                                            & 3                                            & Wilkes, Mrs. James (Ellen Needs)             & female                                       & 47.0                                         & 1                                            & 0                                            & 363272                                       &  7.0000                                      &                                              & S                                           \\\\\n",
       "\t 894                                          & 0                                            & 2                                            & Myles, Mr. Thomas Francis                    & male                                         & 62.0                                         & 0                                            & 0                                            & 240276                                       &  9.6875                                      &                                              & Q                                           \\\\\n",
       "\t 895                                          & 0                                            & 3                                            & Wirz, Mr. Albert                             & male                                         & 27.0                                         & 0                                            & 0                                            & 315154                                       &  8.6625                                      &                                              & S                                           \\\\\n",
       "\t 896                                          & 1                                            & 3                                            & Hirvonen, Mrs. Alexander (Helga E Lindqvist) & female                                       & 22.0                                         & 1                                            & 1                                            & 3101298                                      & 12.2875                                      &                                              & S                                           \\\\\n",
       "\t 897                                          & 0                                            & 3                                            & Svensson, Mr. Johan Cervin                   & male                                         & 14.0                                         & 0                                            & 0                                            & 7538                                         &  9.2250                                      &                                              & S                                           \\\\\n",
       "\\end{tabular}\n"
      ],
      "text/markdown": [
       "\n",
       "| PassengerId | Survived | Pclass | Name | Sex | Age | SibSp | Parch | Ticket | Fare | Cabin | Embarked |\n",
       "|---|---|---|---|---|---|---|---|---|---|---|---|\n",
       "| 892                                          | 0                                            | 3                                            | Kelly, Mr. James                             | male                                         | 34.5                                         | 0                                            | 0                                            | 330911                                       |  7.8292                                      |                                              | Q                                            |\n",
       "| 893                                          | 1                                            | 3                                            | Wilkes, Mrs. James (Ellen Needs)             | female                                       | 47.0                                         | 1                                            | 0                                            | 363272                                       |  7.0000                                      |                                              | S                                            |\n",
       "| 894                                          | 0                                            | 2                                            | Myles, Mr. Thomas Francis                    | male                                         | 62.0                                         | 0                                            | 0                                            | 240276                                       |  9.6875                                      |                                              | Q                                            |\n",
       "| 895                                          | 0                                            | 3                                            | Wirz, Mr. Albert                             | male                                         | 27.0                                         | 0                                            | 0                                            | 315154                                       |  8.6625                                      |                                              | S                                            |\n",
       "| 896                                          | 1                                            | 3                                            | Hirvonen, Mrs. Alexander (Helga E Lindqvist) | female                                       | 22.0                                         | 1                                            | 1                                            | 3101298                                      | 12.2875                                      |                                              | S                                            |\n",
       "| 897                                          | 0                                            | 3                                            | Svensson, Mr. Johan Cervin                   | male                                         | 14.0                                         | 0                                            | 0                                            | 7538                                         |  9.2250                                      |                                              | S                                            |\n",
       "\n"
      ],
      "text/plain": [
       "  PassengerId Survived Pclass Name                                        \n",
       "1 892         0        3      Kelly, Mr. James                            \n",
       "2 893         1        3      Wilkes, Mrs. James (Ellen Needs)            \n",
       "3 894         0        2      Myles, Mr. Thomas Francis                   \n",
       "4 895         0        3      Wirz, Mr. Albert                            \n",
       "5 896         1        3      Hirvonen, Mrs. Alexander (Helga E Lindqvist)\n",
       "6 897         0        3      Svensson, Mr. Johan Cervin                  \n",
       "  Sex    Age  SibSp Parch Ticket  Fare    Cabin Embarked\n",
       "1 male   34.5 0     0     330911   7.8292       Q       \n",
       "2 female 47.0 1     0     363272   7.0000       S       \n",
       "3 male   62.0 0     0     240276   9.6875       Q       \n",
       "4 male   27.0 0     0     315154   8.6625       S       \n",
       "5 female 22.0 1     1     3101298 12.2875       S       \n",
       "6 male   14.0 0     0     7538     9.2250       S       "
      ]
     },
     "metadata": {},
     "output_type": "display_data"
    }
   ],
   "source": [
    "head(titanic)"
   ]
  },
  {
   "cell_type": "code",
   "execution_count": 6,
   "id": "42020c5f",
   "metadata": {
    "vscode": {
     "languageId": "r"
    }
   },
   "outputs": [
    {
     "data": {
      "text/html": [
       "<table>\n",
       "<thead><tr><th></th><th scope=col>mdata</th></tr></thead>\n",
       "<tbody>\n",
       "\t<tr><th scope=row>PassengerId</th><td>integer</td></tr>\n",
       "\t<tr><th scope=row>Survived</th><td>integer</td></tr>\n",
       "\t<tr><th scope=row>Pclass</th><td>integer</td></tr>\n",
       "\t<tr><th scope=row>Name</th><td>factor </td></tr>\n",
       "\t<tr><th scope=row>Sex</th><td>factor </td></tr>\n",
       "\t<tr><th scope=row>Age</th><td>numeric</td></tr>\n",
       "\t<tr><th scope=row>SibSp</th><td>integer</td></tr>\n",
       "\t<tr><th scope=row>Parch</th><td>integer</td></tr>\n",
       "\t<tr><th scope=row>Ticket</th><td>factor </td></tr>\n",
       "\t<tr><th scope=row>Fare</th><td>numeric</td></tr>\n",
       "\t<tr><th scope=row>Cabin</th><td>factor </td></tr>\n",
       "\t<tr><th scope=row>Embarked</th><td>factor </td></tr>\n",
       "</tbody>\n",
       "</table>\n"
      ],
      "text/latex": [
       "\\begin{tabular}{r|l}\n",
       "  & mdata\\\\\n",
       "\\hline\n",
       "\tPassengerId & integer\\\\\n",
       "\tSurvived & integer\\\\\n",
       "\tPclass & integer\\\\\n",
       "\tName & factor \\\\\n",
       "\tSex & factor \\\\\n",
       "\tAge & numeric\\\\\n",
       "\tSibSp & integer\\\\\n",
       "\tParch & integer\\\\\n",
       "\tTicket & factor \\\\\n",
       "\tFare & numeric\\\\\n",
       "\tCabin & factor \\\\\n",
       "\tEmbarked & factor \\\\\n",
       "\\end{tabular}\n"
      ],
      "text/markdown": [
       "\n",
       "| <!--/--> | mdata |\n",
       "|---|---|\n",
       "| PassengerId | integer |\n",
       "| Survived | integer |\n",
       "| Pclass | integer |\n",
       "| Name | factor  |\n",
       "| Sex | factor  |\n",
       "| Age | numeric |\n",
       "| SibSp | integer |\n",
       "| Parch | integer |\n",
       "| Ticket | factor  |\n",
       "| Fare | numeric |\n",
       "| Cabin | factor  |\n",
       "| Embarked | factor  |\n",
       "\n"
      ],
      "text/plain": [
       "            mdata  \n",
       "PassengerId integer\n",
       "Survived    integer\n",
       "Pclass      integer\n",
       "Name        factor \n",
       "Sex         factor \n",
       "Age         numeric\n",
       "SibSp       integer\n",
       "Parch       integer\n",
       "Ticket      factor \n",
       "Fare        numeric\n",
       "Cabin       factor \n",
       "Embarked    factor "
      ]
     },
     "metadata": {},
     "output_type": "display_data"
    }
   ],
   "source": [
    "mdata <- sapply(titanic, class)\n",
    "mdata <- as.data.frame(mdata)\n",
    "mdata\n"
   ]
  },
  {
   "cell_type": "code",
   "execution_count": 6,
   "id": "3ffbe79f",
   "metadata": {
    "vscode": {
     "languageId": "r"
    }
   },
   "outputs": [
    {
     "data": {
      "text/plain": [
       "  PassengerId        Survived          Pclass     \n",
       " Min.   : 892.0   Min.   :0.0000   Min.   :1.000  \n",
       " 1st Qu.: 996.2   1st Qu.:0.0000   1st Qu.:1.000  \n",
       " Median :1100.5   Median :0.0000   Median :3.000  \n",
       " Mean   :1100.5   Mean   :0.3636   Mean   :2.266  \n",
       " 3rd Qu.:1204.8   3rd Qu.:1.0000   3rd Qu.:3.000  \n",
       " Max.   :1309.0   Max.   :1.0000   Max.   :3.000  \n",
       "                                                  \n",
       "                                        Name         Sex           Age       \n",
       " Abbott, Master. Eugene Joseph            :  1   female:152   Min.   : 0.17  \n",
       " Abelseth, Miss. Karen Marie              :  1   male  :266   1st Qu.:21.00  \n",
       " Abelseth, Mr. Olaus Jorgensen            :  1                Median :27.00  \n",
       " Abrahamsson, Mr. Abraham August Johannes :  1                Mean   :30.27  \n",
       " Abrahim, Mrs. Joseph (Sophie Halaut Easu):  1                3rd Qu.:39.00  \n",
       " Aks, Master. Philip Frank                :  1                Max.   :76.00  \n",
       " (Other)                                  :412                NA's   :86     \n",
       "     SibSp            Parch             Ticket         Fare        \n",
       " Min.   :0.0000   Min.   :0.0000   PC 17608:  5   Min.   :  0.000  \n",
       " 1st Qu.:0.0000   1st Qu.:0.0000   113503  :  4   1st Qu.:  7.896  \n",
       " Median :0.0000   Median :0.0000   CA. 2343:  4   Median : 14.454  \n",
       " Mean   :0.4474   Mean   :0.3923   16966   :  3   Mean   : 35.627  \n",
       " 3rd Qu.:1.0000   3rd Qu.:0.0000   220845  :  3   3rd Qu.: 31.500  \n",
       " Max.   :8.0000   Max.   :9.0000   347077  :  3   Max.   :512.329  \n",
       "                                   (Other) :396   NA's   :1        \n",
       "             Cabin     Embarked\n",
       "                :327   C:102   \n",
       " B57 B59 B63 B66:  3   Q: 46   \n",
       " A34            :  2   S:270   \n",
       " B45            :  2           \n",
       " C101           :  2           \n",
       " C116           :  2           \n",
       " (Other)        : 80           "
      ]
     },
     "metadata": {},
     "output_type": "display_data"
    }
   ],
   "source": [
    "summary(titanic)"
   ]
  },
  {
   "cell_type": "code",
   "execution_count": 7,
   "id": "d239c93a",
   "metadata": {
    "vscode": {
     "languageId": "r"
    }
   },
   "outputs": [
    {
     "data": {
      "text/html": [
       "87"
      ],
      "text/latex": [
       "87"
      ],
      "text/markdown": [
       "87"
      ],
      "text/plain": [
       "[1] 87"
      ]
     },
     "metadata": {},
     "output_type": "display_data"
    }
   ],
   "source": [
    "sum(is.na(titanic))"
   ]
  },
  {
   "cell_type": "code",
   "execution_count": 8,
   "id": "9fb3b4a5",
   "metadata": {
    "vscode": {
     "languageId": "r"
    }
   },
   "outputs": [
    {
     "data": {
      "text/html": [
       "<ol class=list-inline>\n",
       "\t<li>331</li>\n",
       "\t<li>12</li>\n",
       "</ol>\n"
      ],
      "text/latex": [
       "\\begin{enumerate*}\n",
       "\\item 331\n",
       "\\item 12\n",
       "\\end{enumerate*}\n"
      ],
      "text/markdown": [
       "1. 331\n",
       "2. 12\n",
       "\n",
       "\n"
      ],
      "text/plain": [
       "[1] 331  12"
      ]
     },
     "metadata": {},
     "output_type": "display_data"
    }
   ],
   "source": [
    "dropnull_titanic = titanic[rowSums(is.na(titanic)) <=0,]\n",
    "dim(dropnull_titanic)"
   ]
  },
  {
   "cell_type": "code",
   "execution_count": 9,
   "id": "b81fdb02",
   "metadata": {
    "vscode": {
     "languageId": "r"
    }
   },
   "outputs": [
    {
     "data": {
      "text/html": [
       "<ol class=list-inline>\n",
       "\t<li>127</li>\n",
       "\t<li>12</li>\n",
       "</ol>\n"
      ],
      "text/latex": [
       "\\begin{enumerate*}\n",
       "\\item 127\n",
       "\\item 12\n",
       "\\end{enumerate*}\n"
      ],
      "text/markdown": [
       "1. 127\n",
       "2. 12\n",
       "\n",
       "\n"
      ],
      "text/plain": [
       "[1] 127  12"
      ]
     },
     "metadata": {},
     "output_type": "display_data"
    },
    {
     "data": {
      "text/html": [
       "<ol class=list-inline>\n",
       "\t<li>204</li>\n",
       "\t<li>12</li>\n",
       "</ol>\n"
      ],
      "text/latex": [
       "\\begin{enumerate*}\n",
       "\\item 204\n",
       "\\item 12\n",
       "\\end{enumerate*}\n"
      ],
      "text/markdown": [
       "1. 204\n",
       "2. 12\n",
       "\n",
       "\n"
      ],
      "text/plain": [
       "[1] 204  12"
      ]
     },
     "metadata": {},
     "output_type": "display_data"
    }
   ],
   "source": [
    "survivedList = dropnull_titanic[dropnull_titanic$Survived ==1, ]\n",
    "notsurvivedList = dropnull_titanic[dropnull_titanic$Survived ==0, ]\n",
    "dim(survivedList)\n",
    "dim(notsurvivedList)"
   ]
  },
  {
   "cell_type": "code",
   "execution_count": 12,
   "id": "84f47a65",
   "metadata": {
    "vscode": {
     "languageId": "r"
    }
   },
   "outputs": [
    {
     "data": {
      "image/png": "[encoded data removed]",
      "text/plain": [
       "Plot with title \"Pie Chart of Survived Column Data (with sample sizes)\""
      ]
     },
     "metadata": {},
     "output_type": "display_data"
    }
   ],
   "source": [
    "mytable = table(titanic$Survived)\n",
    "lbls = paste(names(mytable), \"\\n\", mytable, sep=\"\")\n",
    "pie(mytable, labels = lbls, main = \"Pie Chart of Survived Column Data (with sample sizes)\")"
   ]
  },
  {
   "cell_type": "code",
   "execution_count": 13,
   "id": "288de285",
   "metadata": {
    "vscode": {
     "languageId": "r"
    }
   },
   "outputs": [
    {
     "data": {
      "image/png": "[encoded data removed]",
      "text/plain": [
       "Plot with title \"Histogram of Age survived Passengers\""
      ]
     },
     "metadata": {},
     "output_type": "display_data"
    }
   ],
   "source": [
    "hist(survivedList$Age, main = \"Histogram of Age survived Passengers\",xlab = \"Age\",ylab = \"Frequency\", col = \"purple\", border = \"black\")"
   ]
  }
 ],
 "metadata": {
  "kernelspec": {
   "display_name": "R",
   "language": "R",
   "name": "ir"
  },
  "language_info": {
   "codemirror_mode": "r",
   "file_extension": ".r",
   "mimetype": "text/x-r-source",
   "name": "R",
   "pygments_lexer": "r",
   "version": "3.6.1"
  }
 },
 "nbformat": 4,
 "nbformat_minor": 5
}
