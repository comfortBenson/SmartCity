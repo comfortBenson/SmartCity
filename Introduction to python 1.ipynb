{
 "cells": [
  {
   "cell_type": "code",
   "execution_count": 1,
   "id": "80d21fc2",
   "metadata": {},
   "outputs": [
    {
     "data": {
      "text/plain": [
       "'\\nif 5 > 2:\\n    print(\"5 is greater than 2\")\\nif 5 < 10:\\n    print(\"Hello\")\\n    '"
      ]
     },
     "execution_count": 1,
     "metadata": {},
     "output_type": "execute_result"
    }
   ],
   "source": [
    "# This ismy first  program\n",
    "\"\"\"\n",
    "if 5 > 2:\n",
    "    print(\"5 is greater than 2\")\n",
    "if 5 < 10:\n",
    "    print(\"Hello\")\n",
    "    \"\"\""
   ]
  },
  {
   "cell_type": "code",
   "execution_count": 2,
   "id": "c00149b3",
   "metadata": {},
   "outputs": [
    {
     "name": "stdout",
     "output_type": "stream",
     "text": [
      "The value of x is 5\n",
      "<class 'int'>\n",
      "<class 'str'>\n",
      "Hello, John!\n",
      "The value of x is Charles\n"
     ]
    }
   ],
   "source": [
    "x = 5\n",
    "print(f\"The value of x is {x}\")\n",
    "print(type(x))\n",
    "y = \"John\"\n",
    "x = \"Charles\"\n",
    "print(type(x))\n",
    "print(f\"Hello, {y}!\")\n",
    "print(f\"The value of x is {x}\")"
   ]
  },
  {
   "cell_type": "code",
   "execution_count": 3,
   "id": "c4da4ee7",
   "metadata": {},
   "outputs": [
    {
     "name": "stdout",
     "output_type": "stream",
     "text": [
      "<class 'str'>\n",
      "The value of x is 8\n"
     ]
    }
   ],
   "source": [
    "x= str(3)\n",
    "print(type(x))\n",
    "i = int(x) + 5\n",
    "print(f\"The value of x is {i}\")"
   ]
  },
  {
   "cell_type": "markdown",
   "id": "ff7f4f41",
   "metadata": {},
   "source": [
    "Variable naming:\n",
    "Rules for naming variables:\n"
   ]
  },
  {
   "cell_type": "code",
   "execution_count": 6,
   "id": "12f10e3c",
   "metadata": {},
   "outputs": [
    {
     "name": "stdout",
     "output_type": "stream",
     "text": [
      "Mango\n",
      "Apple\n",
      "Mango\n",
      "John\n"
     ]
    }
   ],
   "source": [
    "na_5me =\"John\"\n",
    "myVariableName = \"John\"\n",
    "# Define multiple vaariables\n",
    "# x,y,z = \"Orange\", \"Banana\", \"Cherry\"\n",
    "\n",
    "\n",
    "def calculator():\n",
    "    global x\n",
    "    x = \"Mango\"\n",
    "    y = \"Apple\"\n",
    "    print(x)\n",
    "    print(y)\n",
    "calculator()\n",
    "print(x)\n",
    "print(y)"
   ]
  },
  {
   "cell_type": "markdown",
   "id": "c362eb86",
   "metadata": {},
   "source": [
    "x = \"Hello World\"  --- str\n",
    "x = 20 ----- int\n",
    "x = 20.5 --------float\n",
    "x = 1j --------- complex\n",
    "x = [\"books\", \"School\"] ------ list\n",
    "x = (\"books\", \"school\") ------- turple\n",
    "x = {\"books\", \"school\"} ------ set\n",
    "x = (name: \"Book\", inst: \"School\") ----- dict\n",
    "x =True ----------- bool\n",
    "x= b\"Hello\"  -------------- bytes\n",
    "x = None  --------- NoneType"
   ]
  },
  {
   "cell_type": "code",
   "execution_count": 7,
   "id": "c5069f71",
   "metadata": {},
   "outputs": [
    {
     "name": "stdout",
     "output_type": "stream",
     "text": [
      "John Doe\n",
      "John Doe\n"
     ]
    }
   ],
   "source": [
    "name = \"John Doe\"\n",
    "name_1 = 'John Doe'\n",
    "print(name)\n",
    "print(name_1)"
   ]
  },
  {
   "cell_type": "code",
   "execution_count": null,
   "id": "71b8282d",
   "metadata": {},
   "outputs": [
    {
     "data": {
      "text/plain": [
       "'This is a string\\nthat spans multiple lines.\\nIt can be useful for long text.'"
      ]
     },
     "execution_count": 3,
     "metadata": {},
     "output_type": "execute_result"
    }
   ],
   "source": [
    "# Multiline string\n",
    "my_string = '''This is a string\n",
    "that spans multiple lines.\n",
    "It can be useful for long text.'''\n",
    "my_string"
   ]
  },
  {
   "cell_type": "code",
   "execution_count": null,
   "id": "1a1d1cbe",
   "metadata": {},
   "outputs": [
    {
     "name": "stdout",
     "output_type": "stream",
     "text": [
      "J\n",
      "o\n",
      "h\n",
      "n\n",
      " \n",
      "D\n",
      "o\n",
      "e\n"
     ]
    },
    {
     "data": {
      "text/plain": [
       "8"
      ]
     },
     "execution_count": 7,
     "metadata": {},
     "output_type": "execute_result"
    }
   ],
   "source": [
    "#Get character at a position\n",
    "name = \"John Doe\"\n",
    "name[1]\n",
    "for x in name:\n",
    "    print(x)\n",
    "# To get the length of a string\n",
    "len(name)"
   ]
  },
  {
   "cell_type": "code",
   "execution_count": null,
   "id": "8fb278f0",
   "metadata": {},
   "outputs": [
    {
     "data": {
      "text/plain": [
       "False"
      ]
     },
     "execution_count": 16,
     "metadata": {},
     "output_type": "execute_result"
    }
   ],
   "source": [
    "#Check if a string is present in a statement\n",
    "statement = \"Hello, welcome to the world of Python programming!\"\n",
    "\"Python1\" in statement"
   ]
  },
  {
   "cell_type": "code",
   "execution_count": null,
   "id": "9dc74fca",
   "metadata": {},
   "outputs": [
    {
     "data": {
      "text/plain": [
       "'programming!'"
      ]
     },
     "execution_count": 28,
     "metadata": {},
     "output_type": "execute_result"
    }
   ],
   "source": [
    "#Slicing is returing range of characters\n",
    "statement\n",
    "statement[6:]  # Returns 'Hello'\n",
    "\n",
    "statement[-12:]"
   ]
  },
  {
   "cell_type": "code",
   "execution_count": null,
   "id": "3a32938c",
   "metadata": {},
   "outputs": [
    {
     "name": "stdout",
     "output_type": "stream",
     "text": [
      "Hello, welcome to:the:world:of:Python:programming\n",
      "Hello,\n",
      "welcome\n",
      "to\n",
      "the\n",
      "world\n",
      "of\n",
      "Python\n",
      "programming\n"
     ]
    }
   ],
   "source": [
    "#String modification\n",
    "statement.upper()  # Converts to uppercase\n",
    "statement.lower()  # Converts to lowercase\n",
    "name = \"John Doe  \"\n",
    "name\n",
    "name.strip()  # Removes leading and trailing whitespace\n",
    "print(statement)\n",
    "#Replace a substring\n",
    "statement.replace(\"w\", \"Java\")  # Replaces 'Python' with 'Java'\n",
    "statement = \"Hello,:welcome:to:the:world:of:Python:programming\"\n",
    "# To Split a statement\n",
    "statement.split()  # Splits the string into a list of words\n",
    "for x in statement.split(\":\"):\n",
    "    print(x)"
   ]
  },
  {
   "cell_type": "code",
   "execution_count": null,
   "id": "b559f969",
   "metadata": {},
   "outputs": [
    {
     "name": "stdout",
     "output_type": "stream",
     "text": [
      "My name is John, and I am 36\n",
      "My name is John, and I am 37.0 years old\n"
     ]
    }
   ],
   "source": [
    "# String Formatting\n",
    "age = []\n",
    "age.append(36)\n",
    "age.append(37)\n",
    "age.append(38)\n",
    "txt = \"My name is John, and I am \" + str(age[0])\n",
    "print(txt)\n",
    "\n",
    "txt = f\"My name is John, and I am {age[1]:.1f} years old\"\n",
    "print(txt)"
   ]
  },
  {
   "cell_type": "code",
   "execution_count": null,
   "id": "169cb53d",
   "metadata": {},
   "outputs": [
    {
     "name": "stdout",
     "output_type": "stream",
     "text": [
      "True\n",
      "False\n"
     ]
    }
   ],
   "source": [
    "print(10 > 9)\n",
    "print(10 == 9)\n",
    "# x = 6"
   ]
  },
  {
   "cell_type": "code",
   "execution_count": null,
   "id": "3290236b",
   "metadata": {},
   "outputs": [
    {
     "name": "stdout",
     "output_type": "stream",
     "text": [
      "b is not greater than a\n"
     ]
    }
   ],
   "source": [
    "a = 200\n",
    "b = 33\n",
    "\n",
    "if b > a:\n",
    "    print(\"b is greater than a\")\n",
    "else:\n",
    "    print(\"b is not greater than a\")"
   ]
  },
  {
   "cell_type": "code",
   "execution_count": null,
   "id": "6381d318",
   "metadata": {},
   "outputs": [],
   "source": [
    "'''\n",
    "Python operaators, we haave:\n",
    "1. arithmetic Operator eg + - % * etc\n",
    "assignment Operator eg =, +=, %=, *=, etc\n",
    "Compaarison Operator eg ==, !=, >, <, >=, <=\n",
    "Logical Operator eg and, or, not\n",
    "Bitwise Operator eg &, |, ^, ~, <<, >>\n",
    "Membership Operator eg x in y, x not in y\n",
    "'''\n"
   ]
  },
  {
   "cell_type": "code",
   "execution_count": 2,
   "id": "347445eb",
   "metadata": {},
   "outputs": [
    {
     "name": "stdout",
     "output_type": "stream",
     "text": [
      "1\n",
      "2\n",
      "True\n",
      "True\n",
      "False\n"
     ]
    }
   ],
   "source": [
    "print(5 & 3)\n",
    "print(5 >> 1)\n",
    "\n",
    "#assignment Operator\n",
    "\n",
    "# x = 5\n",
    "# a *= b\n",
    "# print(f\" aa is: {a}, \\n b is: {b}\")\n",
    "\n",
    "#membership Operator\n",
    "# Example of membership operator\n",
    "my_list = [1, 2, 3, 4, 5]\n",
    "print(3 in my_list)  # True\n",
    "stmt = \"Python is a langauge\"\n",
    "print(\"Python\" in stmt)  # True\n",
    "print(\"Java\" in stmt)  # True"
   ]
  },
  {
   "cell_type": "code",
   "execution_count": 3,
   "id": "2d6e5357",
   "metadata": {},
   "outputs": [
    {
     "name": "stdout",
     "output_type": "stream",
     "text": [
      "1\n",
      "Java\n",
      "3\n",
      "True\n",
      "5\n"
     ]
    },
    {
     "data": {
      "text/plain": [
       "list"
      ]
     },
     "execution_count": 3,
     "metadata": {},
     "output_type": "execute_result"
    }
   ],
   "source": [
    "#List in python\n",
    "my_list = [1, \"Java\", 3, True, 5]\n",
    "for item in my_list:\n",
    "    print(item)\n",
    "len(my_list)\n",
    "type(my_list)"
   ]
  },
  {
   "cell_type": "code",
   "execution_count": null,
   "id": "1a3df749",
   "metadata": {},
   "outputs": [
    {
     "name": "stdout",
     "output_type": "stream",
     "text": [
      "[1, 'Java', 3]\n",
      "[1, 'c#', 'Rust', 'Python', 5]\n"
     ]
    }
   ],
   "source": [
    "# Accessing list Item using index\n",
    "print(my_list[0:3])\n",
    "# Change an item\n",
    "my_list[3] = \"Python\"\n",
    "my_list\n",
    "my_list[1:3] = [\"c#\", \"Rust\"]\n",
    "print(my_list)"
   ]
  },
  {
   "cell_type": "code",
   "execution_count": null,
   "id": "39813066",
   "metadata": {},
   "outputs": [
    {
     "name": "stdout",
     "output_type": "stream",
     "text": [
      "8\n"
     ]
    },
    {
     "data": {
      "text/plain": [
       "[1, 'c#', 'Rust', 'Python', 5, 'JavaScript', 'JavaScript', 'JavaScript']"
      ]
     },
     "execution_count": 59,
     "metadata": {},
     "output_type": "execute_result"
    }
   ],
   "source": [
    "my_list.append(\"JavaScript\")\n",
    "print(len(my_list))\n",
    "my_list"
   ]
  },
  {
   "cell_type": "code",
   "execution_count": 8,
   "id": "a2347587",
   "metadata": {},
   "outputs": [
    {
     "ename": "NameError",
     "evalue": "name 'my_list' is not defined",
     "output_type": "error",
     "traceback": [
      "\u001b[1;31m---------------------------------------------------------------------------\u001b[0m",
      "\u001b[1;31mNameError\u001b[0m                                 Traceback (most recent call last)",
      "Cell \u001b[1;32mIn[8], line 3\u001b[0m\n\u001b[0;32m      1\u001b[0m \u001b[38;5;66;03m# Insert in array\u001b[39;00m\n\u001b[1;32m----> 3\u001b[0m \u001b[43mmy_list\u001b[49m\u001b[38;5;241m.\u001b[39minsert(\u001b[38;5;241m6\u001b[39m, \u001b[38;5;124m\"\u001b[39m\u001b[38;5;124mGo\u001b[39m\u001b[38;5;124m\"\u001b[39m)\n\u001b[0;32m      4\u001b[0m \u001b[38;5;28mprint\u001b[39m(my_list)\n",
      "\u001b[1;31mNameError\u001b[0m: name 'my_list' is not defined"
     ]
    }
   ],
   "source": [
    "# Insert in array\n",
    "\n",
    "my_list.insert(6, \"Go\")\n",
    "print(my_list)"
   ]
  },
  {
   "cell_type": "code",
   "execution_count": null,
   "id": "59f33e94",
   "metadata": {},
   "outputs": [
    {
     "name": "stdout",
     "output_type": "stream",
     "text": [
      "[1, 'c#', 'Rust', 'Python', 5, 'Go', 'JavaScript', 'JavaScript']\n"
     ]
    }
   ],
   "source": [
    "#Remove an item\n",
    "my_list.remove(\"JavaScript\")\n",
    "print(my_list)"
   ]
  },
  {
   "cell_type": "code",
   "execution_count": null,
   "id": "2320ea7e",
   "metadata": {},
   "outputs": [
    {
     "name": "stdout",
     "output_type": "stream",
     "text": [
      "[1, 'c#', 'Rust', 'Python', 5, 'Go', 'JavaScript']\n"
     ]
    }
   ],
   "source": [
    "my_list.pop(6)  # Removes the sixth item\n",
    "print(my_list)"
   ]
  },
  {
   "cell_type": "code",
   "execution_count": null,
   "id": "5b38879d",
   "metadata": {},
   "outputs": [
    {
     "name": "stdout",
     "output_type": "stream",
     "text": [
      "['c#', 'Rust', 'Python', 5, 'JavaScript', 'JavaScript', 'JavaScript']\n"
     ]
    }
   ],
   "source": [
    "del my_list[0]  # Deletes the first ite\n",
    "print(my_list)"
   ]
  },
  {
   "cell_type": "code",
   "execution_count": null,
   "id": "7d2c171c",
   "metadata": {},
   "outputs": [],
   "source": [
    "del my_list  # Deletes the entire\n",
    "print(my_list)  # This will raise an error since my_list is deleted"
   ]
  },
  {
   "cell_type": "code",
   "execution_count": null,
   "id": "21675d86",
   "metadata": {},
   "outputs": [
    {
     "name": "stdout",
     "output_type": "stream",
     "text": [
      "[1] 1 2 3 4 5\n"
     ]
    }
   ],
   "source": [
    "a <- c(1, 2, 3, 4, 5)\n",
    "print(a)"
   ]
  },
  {
   "cell_type": "code",
   "execution_count": null,
   "id": "e86aa014",
   "metadata": {},
   "outputs": [
    {
     "name": "stdout",
     "output_type": "stream",
     "text": [
      "[]\n"
     ]
    }
   ],
   "source": [
    "my_list.clear()  # Clears the list but does not delete it\n",
    "print(my_list)  # This will print an empty list"
   ]
  },
  {
   "cell_type": "code",
   "execution_count": null,
   "id": "d4088d77",
   "metadata": {},
   "outputs": [
    {
     "name": "stdout",
     "output_type": "stream",
     "text": [
      "['C#', 'Rust', 'Python', 'JavaScript', 'JavaScript', 'JavaScript']\n",
      "Python is a langauge\n",
      "['Rust', 'Python', 'JavaScript', 'JavaScript', 'JavaScript', 'C#']\n"
     ]
    }
   ],
   "source": [
    "# Sorting List\n",
    "\n",
    "\n",
    "my_list = ['C#', 'Rust', 'Python', 'JavaScript', 'JavaScript', 'JavaScript']\n",
    "print(my_list)\n",
    "print(stmt)\n",
    "my_list.sort(reverse = True)  # Sorts the list in descending order\n",
    "print(my_list)  # Prints the sorted list"
   ]
  },
  {
   "cell_type": "code",
   "execution_count": 29,
   "id": "d58d8a1e",
   "metadata": {},
   "outputs": [
    {
     "name": "stdout",
     "output_type": "stream",
     "text": [
      "['color', 'Color', 'JavaScript', 'JavaScript', 'JavaScript', 'Python', 'Rust']\n",
      "['Color', 'JavaScript', 'JavaScript', 'JavaScript', 'Python', 'Rust', 'color']\n"
     ]
    }
   ],
   "source": [
    "my_list= ['color','Color', 'JavaScript', 'JavaScript', 'JavaScript', 'Python', 'Rust']\n",
    "print(my_list)\n",
    "my_list.sort()  # Sorts the list in ascending order\n",
    "print(my_list)  # Prints the sorted list"
   ]
  },
  {
   "cell_type": "code",
   "execution_count": 30,
   "id": "ab2dc864",
   "metadata": {},
   "outputs": [
    {
     "name": "stdout",
     "output_type": "stream",
     "text": [
      "['Color', 'JavaScript', 'JavaScript', 'JavaScript', 'Python', 'Rust', 'color']\n"
     ]
    },
    {
     "data": {
      "text/plain": [
       "['Color', 'JavaScript', 'JavaScript', 'JavaScript', 'Python', 'Rust', 'color']"
      ]
     },
     "execution_count": 30,
     "metadata": {},
     "output_type": "execute_result"
    }
   ],
   "source": [
    "# opy list\n",
    "myList = my_list.copy()  # Creates a copy of the list\n",
    "print(myList)  # Prints the copied list\n",
    "myList = my_list\n",
    "myList"
   ]
  },
  {
   "cell_type": "code",
   "execution_count": 33,
   "id": "697e0a9f",
   "metadata": {},
   "outputs": [
    {
     "name": "stdout",
     "output_type": "stream",
     "text": [
      "['Color', 'JavaScript', 'JavaScript', 'JavaScript', 'Python', 'Rust', 'color', 'Go', 'Ruby', 'Dart']\n",
      "['Color', 'JavaScript', 'JavaScript', 'JavaScript', 'Python', 'Rust', 'color', 'Go', 'Ruby', 'Dart', 'Color', 'JavaScript', 'JavaScript', 'JavaScript', 'Python', 'Rust', 'color']\n"
     ]
    }
   ],
   "source": [
    "# Joining two List together\n",
    "my_list1 = ['Go', 'Ruby', 'Dart']\n",
    "list3 = my_list + my_list1  # Joins two lists\n",
    "print(list3)  # Prints the joined list\n",
    "\n",
    "for x in my_list:\n",
    "    list3.append(x)  # Appends each item from my_list to list3\n",
    "print(list3)  # Prints the final list after appending\n"
   ]
  },
  {
   "cell_type": "code",
   "execution_count": null,
   "id": "7631621a",
   "metadata": {},
   "outputs": [
    {
     "name": "stdout",
     "output_type": "stream",
     "text": [
      "{'Ruby', 'Rust', 'Dart', 'Python', 'color', 'Go', 'JavaScript', 'Color'}\n"
     ]
    },
    {
     "data": {
      "text/plain": [
       "set"
      ]
     },
     "execution_count": 45,
     "metadata": {},
     "output_type": "execute_result"
    }
   ],
   "source": [
    "# Set\n",
    "thisSet = {'Color', 'JavaScript', 'JavaScript', 'JavaScript', 'Python', 'Rust', 'color', 'Go', 'Ruby', 'Dart', 'Color', 'JavaScript', 'JavaScript', 'JavaScript', 'Python', 'Rust', 'color'}\n",
    "print(thisSet)\n",
    "type(thisSet)"
   ]
  },
  {
   "cell_type": "code",
   "execution_count": 46,
   "id": "8c5e14cd",
   "metadata": {},
   "outputs": [
    {
     "data": {
      "text/plain": [
       "{'Apple',\n",
       " 'Banana',\n",
       " 'Color',\n",
       " 'Dart',\n",
       " 'Go',\n",
       " 'JavaScript',\n",
       " 'Kiwi',\n",
       " 'Mango',\n",
       " 'Orange',\n",
       " 'Python',\n",
       " 'Ruby',\n",
       " 'Rust',\n",
       " 'color'}"
      ]
     },
     "execution_count": 46,
     "metadata": {},
     "output_type": "execute_result"
    }
   ],
   "source": [
    "#dding a list to a set\n",
    "myList = ['Kiwi', 'Apple', 'Banana', 'Orange', 'Mango']\n",
    "thisSet.update(myList)\n",
    "thisSet"
   ]
  },
  {
   "cell_type": "code",
   "execution_count": 49,
   "id": "785d8125",
   "metadata": {},
   "outputs": [
    {
     "data": {
      "text/plain": [
       "{'Apple',\n",
       " 'Banana',\n",
       " 'Color',\n",
       " 'Dart',\n",
       " 'Go',\n",
       " 'JavaScript',\n",
       " 'Kiwi',\n",
       " 'Mango',\n",
       " 'Orange',\n",
       " 'Python',\n",
       " 'Ruby',\n",
       " 'Rust'}"
      ]
     },
     "execution_count": 49,
     "metadata": {},
     "output_type": "execute_result"
    }
   ],
   "source": [
    "# thisSet.remove('color')\n",
    "thisSet"
   ]
  },
  {
   "cell_type": "code",
   "execution_count": 54,
   "id": "458962a7",
   "metadata": {},
   "outputs": [
    {
     "name": "stdout",
     "output_type": "stream",
     "text": [
      "Emeka\n",
      "New York\n"
     ]
    }
   ],
   "source": [
    "mdict = {\n",
    "    \"name\": \"John\",\n",
    "    \"age\": 30,\n",
    "    \"city\": \"New York\",\n",
    "    \"name\": \"Emeka\"\n",
    "}\n",
    "print(mdict[\"name\"])\n",
    "print(mdict[\"city\"])"
   ]
  },
  {
   "cell_type": "code",
   "execution_count": 56,
   "id": "44b58c9d",
   "metadata": {},
   "outputs": [
    {
     "name": "stdout",
     "output_type": "stream",
     "text": [
      "Emeka\n",
      "dict_keys(['name', 'age', 'city'])\n"
     ]
    }
   ],
   "source": [
    "# Using get() function to access dictionary values\n",
    "print(mdict.get(\"name\"))  # Returns 'Emeka'\n",
    "# get allkeys\n",
    "print(mdict.keys())  # Returns all keys in the dictionary"
   ]
  },
  {
   "cell_type": "code",
   "execution_count": 72,
   "id": "f3cd2444",
   "metadata": {},
   "outputs": [
    {
     "name": "stdout",
     "output_type": "stream",
     "text": [
      "26\n",
      "{'name': 'Emeka', 'age': 26, 'city': 'Florida', 'dept': 'Engineering', 'country': 'USA'}\n",
      "dict_keys(['name', 'age', 'city', 'dept', 'country'])\n"
     ]
    }
   ],
   "source": [
    "print(mdict.get(\"age\"))\n",
    "mdict['dept'] = \"Engineering\"  # Adding a new key-value pair\n",
    "print(mdict)\n",
    "mdict['age'] = 26\n",
    "print(mdict.keys())\n",
    "mdict.update({\"city\": \"Florida\"})  # Adding another key-value pair"
   ]
  },
  {
   "cell_type": "code",
   "execution_count": 75,
   "id": "a4cc2486",
   "metadata": {},
   "outputs": [
    {
     "name": "stdout",
     "output_type": "stream",
     "text": [
      "{'age': 26, 'city': 'Florida', 'dept': 'Engineering', 'country': 'USA'}\n",
      "{}\n"
     ]
    }
   ],
   "source": [
    "# mdict.pop(\"name\")  # Removes the key 'name' from the dictionary\n",
    "print(mdict)\n",
    "mdict.clear()  # Clears the dictionary but does not delete it\n",
    "print(mdict)  # This will print an empty dictionary"
   ]
  },
  {
   "cell_type": "code",
   "execution_count": null,
   "id": "f7f54e2a",
   "metadata": {},
   "outputs": [
    {
     "name": "stdout",
     "output_type": "stream",
     "text": [
      "b is greater than a\n"
     ]
    }
   ],
   "source": [
    "a = 33\n",
    "b =100\n",
    "c = 50\n",
    "\n",
    "if not b > a:\n",
    "    print(\"b is greater than aa\")\n",
    "    if b > a: print(\"b is greater than aa\")\n",
    "    else:print(\"b is not greater than a and ccc\")\n",
    "\n",
    "    if not b > a:\n",
    "        print(\"b is greater than aa\")\n",
    "    if b > a: print(\"b is greater than aa\")\n",
    "    else:print(\"b is not greater than a and ccc\")\n",
    "\n",
    "if b > a: print(\"b is greater than a\")\n",
    "elif b > a: print(\"b is greater than a\")\n",
    "else:print(\"b is not greater than a and c\")"
   ]
  },
  {
   "cell_type": "code",
   "execution_count": null,
   "id": "69f1da30",
   "metadata": {},
   "outputs": [
    {
     "name": "stdout",
     "output_type": "stream",
     "text": [
      "All conditions are true\n"
     ]
    }
   ],
   "source": [
    "# Introducing logical operatirs\n",
    "\n",
    "if a > b and c > a and c > b :\n",
    "    print(\"All conditions are true\")\n",
    "else:\n",
    "    print(f\"At least one condition is false {a > b} {c > a} {c > b}\")"
   ]
  },
  {
   "cell_type": "code",
   "execution_count": 24,
   "id": "141bb104",
   "metadata": {},
   "outputs": [
    {
     "name": "stdout",
     "output_type": "stream",
     "text": [
      "Sunday\n"
     ]
    }
   ],
   "source": [
    "day = \"Sunday\"\n",
    "match day:\n",
    "    case \"Monday\":\n",
    "        print(\"Monday\")\n",
    "    case \"Tuesday\":\n",
    "        print(\"Tuesday\")\n",
    "    case 3:\n",
    "        print(\"Wednesday\")\n",
    "    case 4:\n",
    "        print(\"Thursday\")\n",
    "    case 5:\n",
    "        print(\"Friday\")\n",
    "    case 6:\n",
    "        print(\"Saturday\")\n",
    "    case _:\n",
    "        print(\"Sunday\")\n"
   ]
  },
  {
   "cell_type": "code",
   "execution_count": null,
   "id": "2638f769",
   "metadata": {},
   "outputs": [
    {
     "name": "stdout",
     "output_type": "stream",
     "text": [
      " i is 1\n",
      "Continue\n",
      " i is 2\n",
      " i is 3\n",
      "Continue\n",
      " i is 4\n",
      "Continue\n",
      " i is 5\n",
      "Continue\n"
     ]
    }
   ],
   "source": [
    "i = 1\n",
    "k = 1\n",
    "while i < 6:\n",
    "    print(f\" i is {i}\") # i = 1\n",
    "    i += 1 # i = 1\n",
    "    if i == 3:\n",
    "        continue\n",
    "    print(f\"Continue\")\n",
    "     # i = i + 1"
   ]
  },
  {
   "cell_type": "code",
   "execution_count": 12,
   "id": "55b12123",
   "metadata": {},
   "outputs": [
    {
     "name": "stdout",
     "output_type": "stream",
     "text": [
      "Microsoft\n",
      "Apple\n",
      "Company's name is Apple\n"
     ]
    }
   ],
   "source": [
    "# Looping using forloop\n",
    "company = [\"Microsoft\", \"Apple\", \"Tesla\", \"Amazon\", \"Meta\"]\n",
    "for x in company:\n",
    "    print(x)\n",
    "    if x== \"Apple\":\n",
    "        print(f\"Company's name is Apple\")\n",
    "        break"
   ]
  },
  {
   "cell_type": "code",
   "execution_count": 16,
   "id": "a348236d",
   "metadata": {},
   "outputs": [
    {
     "name": "stdout",
     "output_type": "stream",
     "text": [
      "M\n",
      "i\n",
      "c\n",
      "r\n",
      "o\n",
      "s\n",
      "o\n",
      "f\n",
      "t\n",
      "A\n",
      "p\n",
      "p\n",
      "l\n",
      "e\n",
      "count is 14\n"
     ]
    }
   ],
   "source": [
    "count =0\n",
    "for x in company:\n",
    "    for y in x:\n",
    "        count += 1 # count = count +1\n",
    "        print(y)\n",
    "    if x== \"Apple\":\n",
    "        break\n",
    "print(f\"count is {count}\")"
   ]
  },
  {
   "cell_type": "code",
   "execution_count": null,
   "id": "a07b1c2a",
   "metadata": {},
   "outputs": [],
   "source": [
    "company = [\"Microsoft\", \"Apple\", \"Tesla\", \"Amazon\", \"Meta\"]\n",
    "for cmpy in company:\n",
    "    print(cmpy)\n",
    "    for x in cmpy:\n",
    "        print(x)\n",
    "    if cmpy == \"Apple\":\n",
    "        print(f\"Company's name is Apple\")\n",
    "        break"
   ]
  },
  {
   "cell_type": "code",
   "execution_count": 22,
   "id": "638cb83d",
   "metadata": {},
   "outputs": [
    {
     "name": "stdout",
     "output_type": "stream",
     "text": [
      "1\n",
      "3\n",
      "5\n",
      "7\n",
      "9\n",
      "11\n",
      "13\n",
      "15\n",
      "17\n",
      "19\n"
     ]
    }
   ],
   "source": [
    "for i in range (1, 20, 2):\n",
    "    print(i)"
   ]
  }
 ],
 "metadata": {
  "kernelspec": {
   "display_name": "Python 3",
   "language": "python",
   "name": "python3"
  },
  "language_info": {
   "codemirror_mode": {
    "name": "ipython",
    "version": 3
   },
   "file_extension": ".py",
   "mimetype": "text/x-python",
   "name": "python",
   "nbconvert_exporter": "python",
   "pygments_lexer": "ipython3",
   "version": "3.12.4"
  }
 },
 "nbformat": 4,
 "nbformat_minor": 5
}
