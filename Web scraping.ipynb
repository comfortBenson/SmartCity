{
 "cells": [
  {
   "cell_type": "code",
   "execution_count": 13,
   "id": "6385bfe5",
   "metadata": {},
   "outputs": [
    {
     "name": "stdout",
     "output_type": "stream",
     "text": [
      "Requirement already satisfied: requests in c:\\users\\user\\appdata\\local\\programs\\python\\python312\\lib\\site-packages (2.32.3)\n",
      "Requirement already satisfied: charset-normalizer<4,>=2 in c:\\users\\user\\appdata\\local\\programs\\python\\python312\\lib\\site-packages (from requests) (3.3.2)\n",
      "Requirement already satisfied: idna<4,>=2.5 in c:\\users\\user\\appdata\\local\\programs\\python\\python312\\lib\\site-packages (from requests) (3.7)\n",
      "Requirement already satisfied: urllib3<3,>=1.21.1 in c:\\users\\user\\appdata\\local\\programs\\python\\python312\\lib\\site-packages (from requests) (2.2.2)\n",
      "Requirement already satisfied: certifi>=2017.4.17 in c:\\users\\user\\appdata\\local\\programs\\python\\python312\\lib\\site-packages (from requests) (2024.7.4)\n",
      "Note: you may need to restart the kernel to use updated packages.\n"
     ]
    },
    {
     "name": "stderr",
     "output_type": "stream",
     "text": [
      "\n",
      "[notice] A new release of pip is available: 24.0 -> 25.1.1\n",
      "[notice] To update, run: python.exe -m pip install --upgrade pip\n"
     ]
    }
   ],
   "source": [
    "pip install requests"
   ]
  },
  {
   "cell_type": "code",
   "execution_count": 10,
   "id": "48f1101b",
   "metadata": {},
   "outputs": [
    {
     "name": "stdout",
     "output_type": "stream",
     "text": [
      "Requirement already satisfied: bs4 in c:\\users\\user\\appdata\\local\\programs\\python\\python312\\lib\\site-packages (0.0.2)\n",
      "Requirement already satisfied: beautifulsoup4 in c:\\users\\user\\appdata\\local\\programs\\python\\python312\\lib\\site-packages (from bs4) (4.12.3)\n",
      "Requirement already satisfied: soupsieve>1.2 in c:\\users\\user\\appdata\\local\\programs\\python\\python312\\lib\\site-packages (from beautifulsoup4->bs4) (2.5)\n",
      "Note: you may need to restart the kernel to use updated packages.\n"
     ]
    },
    {
     "name": "stderr",
     "output_type": "stream",
     "text": [
      "\n",
      "[notice] A new release of pip is available: 24.0 -> 25.1.1\n",
      "[notice] To update, run: python.exe -m pip install --upgrade pip\n"
     ]
    }
   ],
   "source": [
    "pip install bs4"
   ]
  },
  {
   "cell_type": "code",
   "execution_count": 1,
   "id": "b529a0b5",
   "metadata": {},
   "outputs": [],
   "source": [
    "from bs4 import BeautifulSoup\n",
    "import requests"
   ]
  },
  {
   "cell_type": "code",
   "execution_count": 2,
   "id": "25867338",
   "metadata": {},
   "outputs": [
    {
     "name": "stdout",
     "output_type": "stream",
     "text": [
      "quote: “The world as we have created it is a process of our thinking. It cannot be changed without changing our thinking.”\n",
      "\n",
      "Quote: “The world as we have created it is a process of our thinking. It cannot be changed without changing our thinking.”\n",
      "Author: Albert Einstein\n",
      "\n",
      "quote: “It is our choices, Harry, that show what we truly are, far more than our abilities.”\n",
      "\n",
      "Quote: “It is our choices, Harry, that show what we truly are, far more than our abilities.”\n",
      "Author: J.K. Rowling\n",
      "\n",
      "quote: “There are only two ways to live your life. One is as though nothing is a miracle. The other is as though everything is a miracle.”\n",
      "\n",
      "Quote: “There are only two ways to live your life. One is as though nothing is a miracle. The other is as though everything is a miracle.”\n",
      "Author: Albert Einstein\n",
      "\n",
      "quote: “The person, be it gentleman or lady, who has not pleasure in a good novel, must be intolerably stupid.”\n",
      "\n",
      "Quote: “The person, be it gentleman or lady, who has not pleasure in a good novel, must be intolerably stupid.”\n",
      "Author: Jane Austen\n",
      "\n",
      "quote: “Imperfection is beauty, madness is genius and it's better to be absolutely ridiculous than absolutely boring.”\n",
      "\n",
      "Quote: “Imperfection is beauty, madness is genius and it's better to be absolutely ridiculous than absolutely boring.”\n",
      "Author: Marilyn Monroe\n",
      "\n",
      "quote: “Try not to become a man of success. Rather become a man of value.”\n",
      "\n",
      "Quote: “Try not to become a man of success. Rather become a man of value.”\n",
      "Author: Albert Einstein\n",
      "\n",
      "quote: “It is better to be hated for what you are than to be loved for what you are not.”\n",
      "\n",
      "Quote: “It is better to be hated for what you are than to be loved for what you are not.”\n",
      "Author: André Gide\n",
      "\n",
      "quote: “I have not failed. I've just found 10,000 ways that won't work.”\n",
      "\n",
      "Quote: “I have not failed. I've just found 10,000 ways that won't work.”\n",
      "Author: Thomas A. Edison\n",
      "\n",
      "quote: “A woman is like a tea bag; you never know how strong it is until it's in hot water.”\n",
      "\n",
      "Quote: “A woman is like a tea bag; you never know how strong it is until it's in hot water.”\n",
      "Author: Eleanor Roosevelt\n",
      "\n",
      "quote: “A day without sunshine is like, you know, night.”\n",
      "\n",
      "Quote: “A day without sunshine is like, you know, night.”\n",
      "Author: Steve Martin\n",
      "\n"
     ]
    }
   ],
   "source": [
    "url = \"http://quotes.toscrape.com/\"\n",
    "response = requests.get(url)\n",
    "#print(f'Result {response.text}')\n",
    "\n",
    "#parse the HTML content\n",
    "soup = BeautifulSoup(response.text, 'html.parser')\n",
    "\n",
    "#Extract the info we are looking for like quotes and authors\n",
    "for quote in soup.find_all('div', class_='quote'):\n",
    "    text= quote.find('span', class_='text').text\n",
    "    print(f\"quote: {text}\\n\")\n",
    "    author = quote.find('small', class_='author').text\n",
    "    print(f\"Quote: {text}\\nAuthor: {author}\\n\")"
   ]
  },
  {
   "cell_type": "code",
   "execution_count": 3,
   "id": "f1d3ecba",
   "metadata": {},
   "outputs": [
    {
     "name": "stdout",
     "output_type": "stream",
     "text": [
      "Quote: “The world as we have created it is a process of our thinking. It cannot be changed without changing our thinking.”\n",
      "Author: Albert Einstein\n",
      "\n",
      "Quote: “It is our choices, Harry, that show what we truly are, far more than our abilities.”\n",
      "Author: J.K. Rowling\n",
      "\n",
      "Quote: “There are only two ways to live your life. One is as though nothing is a miracle. The other is as though everything is a miracle.”\n",
      "Author: Albert Einstein\n",
      "\n",
      "Quote: “The person, be it gentleman or lady, who has not pleasure in a good novel, must be intolerably stupid.”\n",
      "Author: Jane Austen\n",
      "\n",
      "Quote: “Imperfection is beauty, madness is genius and it's better to be absolutely ridiculous than absolutely boring.”\n",
      "Author: Marilyn Monroe\n",
      "\n",
      "Quote: “Try not to become a man of success. Rather become a man of value.”\n",
      "Author: Albert Einstein\n",
      "\n",
      "Quote: “It is better to be hated for what you are than to be loved for what you are not.”\n",
      "Author: André Gide\n",
      "\n",
      "Quote: “I have not failed. I've just found 10,000 ways that won't work.”\n",
      "Author: Thomas A. Edison\n",
      "\n",
      "Quote: “A woman is like a tea bag; you never know how strong it is until it's in hot water.”\n",
      "Author: Eleanor Roosevelt\n",
      "\n",
      "Quote: “A day without sunshine is like, you know, night.”\n",
      "Author: Steve Martin\n",
      "\n"
     ]
    }
   ],
   "source": [
    "# import inside a file\n",
    "import csv\n",
    "\n",
    "with open('quotes.csv', 'w', newline='', encoding='utf-8') as csvfiles:\n",
    "    fieldnames = ['QUOTE', 'AUTHOR'] \n",
    "    writer = csv.DictWriter(csvfiles, fieldnames=fieldnames)\n",
    "\n",
    "    writer.writeheader()\n",
    "\n",
    "    for quote in soup.find_all('div', class_='quote'):\n",
    "        text= quote.find('span', class_='text').text\n",
    "        author = quote.find('small', class_='author').text\n",
    "        writer.writerow({'QUOTE': text, 'AUTHOR': author })\n",
    "        print(f\"Quote: {text}\\nAuthor: {author}\\n\")\n"
   ]
  },
  {
   "cell_type": "code",
   "execution_count": 1,
   "id": "786e0b16",
   "metadata": {},
   "outputs": [
    {
     "name": "stdout",
     "output_type": "stream",
     "text": [
      "Requirement already satisfied: pandas in c:\\users\\user\\appdata\\local\\programs\\python\\python312\\lib\\site-packages (2.3.0)\n",
      "Requirement already satisfied: numpy>=1.26.0 in c:\\users\\user\\appdata\\local\\programs\\python\\python312\\lib\\site-packages (from pandas) (2.3.1)\n",
      "Requirement already satisfied: python-dateutil>=2.8.2 in c:\\users\\user\\appdata\\local\\programs\\python\\python312\\lib\\site-packages (from pandas) (2.9.0.post0)\n",
      "Requirement already satisfied: pytz>=2020.1 in c:\\users\\user\\appdata\\local\\programs\\python\\python312\\lib\\site-packages (from pandas) (2025.2)\n",
      "Requirement already satisfied: tzdata>=2022.7 in c:\\users\\user\\appdata\\local\\programs\\python\\python312\\lib\\site-packages (from pandas) (2025.2)\n",
      "Requirement already satisfied: six>=1.5 in c:\\users\\user\\appdata\\local\\programs\\python\\python312\\lib\\site-packages (from python-dateutil>=2.8.2->pandas) (1.16.0)\n",
      "Note: you may need to restart the kernel to use updated packages.\n"
     ]
    },
    {
     "name": "stderr",
     "output_type": "stream",
     "text": [
      "\n",
      "[notice] A new release of pip is available: 24.0 -> 25.2\n",
      "[notice] To update, run: python.exe -m pip install --upgrade pip\n"
     ]
    }
   ],
   "source": [
    "pip install pandas"
   ]
  },
  {
   "cell_type": "code",
   "execution_count": 2,
   "id": "4d57d0ab",
   "metadata": {},
   "outputs": [],
   "source": [
    "import pandas as pd"
   ]
  },
  {
   "cell_type": "code",
   "execution_count": 3,
   "id": "756522c6",
   "metadata": {},
   "outputs": [
    {
     "name": "stdout",
     "output_type": "stream",
     "text": [
      "2.3.0\n"
     ]
    }
   ],
   "source": [
    "print(pd.__version__)"
   ]
  },
  {
   "cell_type": "code",
   "execution_count": 5,
   "id": "0699e863",
   "metadata": {},
   "outputs": [
    {
     "name": "stdout",
     "output_type": "stream",
     "text": [
      "[{'QUOTE': '“The world as we have created it is a process of our thinking. It cannot be changed without changing our thinking.”', 'AUTHOR': 'Albert Einstein'}, {'QUOTE': '“It is our choices, Harry, that show what we truly are, far more than our abilities.”', 'AUTHOR': 'J.K. Rowling'}, {'QUOTE': '“There are only two ways to live your life. One is as though nothing is a miracle. The other is as though everything is a miracle.”', 'AUTHOR': 'Albert Einstein'}, {'QUOTE': '“The person, be it gentleman or lady, who has not pleasure in a good novel, must be intolerably stupid.”', 'AUTHOR': 'Jane Austen'}, {'QUOTE': \"“Imperfection is beauty, madness is genius and it's better to be absolutely ridiculous than absolutely boring.”\", 'AUTHOR': 'Marilyn Monroe'}, {'QUOTE': '“Try not to become a man of success. Rather become a man of value.”', 'AUTHOR': 'Albert Einstein'}, {'QUOTE': '“It is better to be hated for what you are than to be loved for what you are not.”', 'AUTHOR': 'André Gide'}, {'QUOTE': \"“I have not failed. I've just found 10,000 ways that won't work.”\", 'AUTHOR': 'Thomas A. Edison'}, {'QUOTE': \"“A woman is like a tea bag; you never know how strong it is until it's in hot water.”\", 'AUTHOR': 'Eleanor Roosevelt'}, {'QUOTE': '“A day without sunshine is like, you know, night.”', 'AUTHOR': 'Steve Martin'}]\n",
      "                                               QUOTE             AUTHOR\n",
      "0  “The world as we have created it is a process ...    Albert Einstein\n",
      "1  “It is our choices, Harry, that show what we t...       J.K. Rowling\n",
      "2  “There are only two ways to live your life. On...    Albert Einstein\n",
      "3  “The person, be it gentleman or lady, who has ...        Jane Austen\n",
      "4  “Imperfection is beauty, madness is genius and...     Marilyn Monroe\n",
      "5  “Try not to become a man of success. Rather be...    Albert Einstein\n",
      "6  “It is better to be hated for what you are tha...         André Gide\n",
      "7  “I have not failed. I've just found 10,000 way...   Thomas A. Edison\n",
      "8  “A woman is like a tea bag; you never know how...  Eleanor Roosevelt\n",
      "9  “A day without sunshine is like, you know, nig...       Steve Martin\n"
     ]
    }
   ],
   "source": [
    "import csv\n",
    "import pandas as pd\n",
    "\n",
    "def read_csv(file_path):\n",
    "    with open(file_path, mode='r', newline='', encoding='utf-8') as csvfile:\n",
    "        reader = csv.DictReader(csvfile)\n",
    "        return [row for row in reader]\n",
    "    \n",
    "# Example usage:\n",
    "if __name__ == \"__main__\":\n",
    "    file_path = 'quotes.csv'  #Replace with your csv file\n",
    "    data = read_csv(file_path)\n",
    "    print(data)\n",
    "    df=pd.DataFrame(data)\n",
    "    print(df)"
   ]
  },
  {
   "cell_type": "code",
   "execution_count": 6,
   "id": "86c6957d",
   "metadata": {},
   "outputs": [],
   "source": [
    "from bs4 import BeautifulSoup\n",
    "import requests"
   ]
  },
  {
   "cell_type": "code",
   "execution_count": 7,
   "id": "b21c5c3e",
   "metadata": {},
   "outputs": [
    {
     "name": "stdout",
     "output_type": "stream",
     "text": [
      "current temperature in lagos: 26 °C\n",
      "Weather description: Partly sunny.\n"
     ]
    }
   ],
   "source": [
    "url = \"https://www.timeanddate.com/weather/nigeria/lagos\"\n",
    "response = requests.get(url)\n",
    "#print(f'Result {response.text}')\n",
    "\n",
    "#parse the HTML content\n",
    "#response.status_code ==200:\n",
    "soup = BeautifulSoup(response.text, 'html.parser')\n",
    "\n",
    "for temp in soup.find('div', class_='h2'):\n",
    "    weather_desc = soup.find('p').text\n",
    "    print(f\"current temperature in lagos: {temp}\")\n",
    "    print(f\"Weather description: {weather_desc}\")"
   ]
  },
  {
   "cell_type": "code",
   "execution_count": 8,
   "id": "4c8ab272",
   "metadata": {},
   "outputs": [
    {
     "name": "stdout",
     "output_type": "stream",
     "text": [
      "Afternoon, Temperature: 27°, Mostly Cloudy\n",
      "Evening, Temperature: 25°, Mostly Cloudy\n",
      "Overnight, Temperature: 24°, Few Showers\n",
      "Now, Temperature: 27°, Mostly Cloudy\n",
      "16:00, Temperature: 27°, Mostly Cloudy\n",
      "17:00, Temperature: 26°, Cloudy\n",
      "18:00, Temperature: 26°, Mostly Cloudy\n",
      "19:00, Temperature: 26°, Mostly Cloudy\n",
      "Today, Temperature: --, Showers Late\n",
      "Wed 27, Temperature: 27°, AM Showers\n",
      "Thu 28, Temperature: 28°, Mostly Cloudy\n",
      "Fri 29, Temperature: 27°, AM Showers\n",
      "Sat 30, Temperature: 27°, Showers\n",
      "5\n"
     ]
    }
   ],
   "source": [
    "url = \"https://weather.com/en-NG/weather/today/l/5f31e7d1e8416f097c28527feefe5d8874d314129539dc57865cb14c38b503d2\"\n",
    "response = requests.get(url)\n",
    "#print(f'Result {response.text}')\n",
    "\n",
    "#parse the HTML content\n",
    "soup = BeautifulSoup(response.text, 'html.parser')\n",
    "\n",
    "#Extract the info we are looking for like quotes and authors\n",
    "for temp in soup.find_all('a', class_='Column--innerWrapper--kyyeB Column--verticalStack--k9S2a Button--default--osTe5'):\n",
    "    tempc = temp.find('div', class_='Column--temp--XitCX columnTempHiWrapper Column--verticalStack--k9S2a').find('span').text\n",
    "    weekly = temp.find('span', class_=\"Ellipsis--ellipsis--zynqj\").text \n",
    "    weather = temp.find('span', class_=\"Column--iconPhrase--H+3PA\").text\n",
    "    print(f'{weekly}, Temperature: {tempc}, {weather}')\n",
    "    \n",
    "print(len(temp))\n",
    "\n"
   ]
  },
  {
   "cell_type": "code",
   "execution_count": 10,
   "id": "fd93d798",
   "metadata": {},
   "outputs": [
    {
     "name": "stdout",
     "output_type": "stream",
     "text": [
      "Headline: Trump orders removal of Federal Reserve governor as he piles pressure on US central bank\n",
      "Sub-Headlines: Cook says the US president \"has no authority to do so\" in defiance of Trump's escalatory move against the central bank.\n",
      "\n",
      "Headline: Meghan on who said 'I love you' first, and what she misses about UK\n",
      "Sub-Headlines: The Royal Family don't get a mention in part two of Meghan's TV show, nor does the rift within it.\n",
      "\n",
      "Headline: Trump orders removal of Federal Reserve governor as he piles pressure on US central bank\n",
      "Sub-Headlines: Cook says the US president \"has no authority to do so\" in defiance of Trump's escalatory move against the central bank.\n",
      "\n",
      "Headline: France heads for political crisis as PM Bayrou risks all on confidence vote\n",
      "Sub-Headlines: If he loses, François Bayrou will be expected to resign, leaving France once again rudderless.\n",
      "\n",
      "Headline: Manhunt under way after two police officers shot dead in rural Australian town\n",
      "Sub-Headlines: Australian police say a \"heavily armed\" male suspect escaped into the bush after the shooting in Victoria state.\n",
      "\n",
      "Headline: Fact-checkers assess Farage's migration plan, and investigating Gaza hospital strike\n",
      "Sub-Headlines: Latest updates from the BBC's specialists in fact-checking, verifying video and tackling disinformation.\n",
      "\n",
      "Headline: Meghan on who said 'I love you' first, and what she misses about UK\n",
      "Sub-Headlines: The Royal Family don't get a mention in part two of Meghan's TV show, nor does the rift within it.\n",
      "\n",
      "Headline: Does the US president have the power to sack a Federal Reserve governor? \n",
      "Sub-Headlines: President Trump takes aim at Lisa Cook, a central bank official - we unpack what it all means.\n",
      "\n",
      "Headline: Taiwan is preparing for a Chinese attack but its people don't think war is coming soon\n",
      "Sub-Headlines: Leaders are strengthening its defence, but most Taiwanese believe it is unlikely China will invade soon.\n",
      "\n",
      "Headline: Israeli double strike on Gaza hospital - what we know\n",
      "Sub-Headlines: Netanyahu said it was a \"tragic mishap\" but did little to address the apparent \"double-tap\" nature of the attack, which killed 20 people including journalists and health workers.\n",
      "\n",
      "Headline: Is there a Trump effect in Ireland's migration numbers?\n",
      "Sub-Headlines: Just over 125,000 people came to live in the country in the year to April while 65,600 left.\n",
      "\n",
      "Headline: Does the US president have the power to sack a Federal Reserve governor? \n",
      "Sub-Headlines: President Trump takes aim at Lisa Cook, a central bank official - we unpack what it all means.\n",
      "\n",
      "Headline: Is there a Trump effect in Ireland's migration numbers?\n",
      "Sub-Headlines: Just over 125,000 people came to live in the country in the year to April while 65,600 left.\n",
      "\n",
      "Headline: Lil Nas X pleads not guilty to four felony charges after LA arrest\n",
      "Sub-Headlines: The rapper, whose legal name is Montero Lamar Hill, was detained last week while wandering the streets in his underwear.\n",
      "\n",
      "Headline: Watch: Moment massive dust storm surges through Arizona\n",
      "Sub-Headlines: The wall of dust known as a haboob was propelled by thunderstorm winds through parts of Arizona's Pinal County.\n",
      "\n",
      "Headline: Lil Nas X pleads not guilty to four felony charges after LA arrest\n",
      "Sub-Headlines: The rapper, whose legal name is Montero Lamar Hill, was detained last week while wandering the streets in his underwear.\n",
      "\n",
      "Headline: Japanese police apologise at grave of wrongfully accused man\n",
      "Sub-Headlines: Shizuo Aishima's wife says she accepts the apology but could \"never forgive\" those behind it.\n",
      "\n",
      "Headline: Family 'heartbroken' over fatal helicopter crash\n",
      "Sub-Headlines: Justyna Czoska and Wojtek Kowalkowski died in the helicopter crash on the Isle of Wight. \n",
      "\n",
      "Headline: Watch: Moment massive dust storm surges through Arizona\n",
      "Sub-Headlines: The wall of dust known as a haboob was propelled by thunderstorm winds through parts of Arizona's Pinal County.\n",
      "\n",
      "Headline: I'm not sure I saw a football match - Slot on Newcastle gameplan\n",
      "Sub-Headlines: Manager Arne Slot says \"he is not too sure he saw a football match\" as he questioned Newcastle's tactics during Liverpool's 3-2 win at St James' Park.\n",
      "\n",
      "Headline: Bottas and Perez to race for Cadillac in 2026\n",
      "Sub-Headlines: Valtteri Bottas and Sergio Perez will return to the Formula 1 grid in 2026, driving for the new Cadillac team.\n",
      "\n",
      "Headline: I'm not sure I saw a football match - Slot on Newcastle gameplan\n",
      "Sub-Headlines: Manager Arne Slot says \"he is not too sure he saw a football match\" as he questioned Newcastle's tactics during Liverpool's 3-2 win at St James' Park.\n",
      "\n",
      "Headline: England may lack 'killer instinct' needed for Ashes - Langer\n",
      "Sub-Headlines: Former Australia coach and opener Justin Langer says England may lack the killer instinct needed to win the upcoming Ashes series.\n",
      "\n",
      "Headline: No European games a positive for Man Utd - Amorim\n",
      "Sub-Headlines: Manchester United head coach Ruben Amorim is convinced his side is better off without having a European campaign to distract them this season.\n",
      "\n",
      "Headline: Bottas and Perez to race for Cadillac in 2026\n",
      "Sub-Headlines: Valtteri Bottas and Sergio Perez will return to the Formula 1 grid in 2026, driving for the new Cadillac team.\n",
      "\n"
     ]
    }
   ],
   "source": [
    "url = \"http://www.bbc.com/news\"\n",
    "response = requests.get(url)\n",
    "#print(f'Result {response.text}')\n",
    "\n",
    "#parse the HTML content\n",
    "soup = BeautifulSoup(response.text, 'html.parser')\n",
    "\n",
    "#Extract the info we are looking for like quotes and authors\n",
    "for cHeadlines in soup.find_all('div', class_='sc-666b6d83-0 jSTfiy'):\n",
    "   # print(cHeadlines)\n",
    "    for headline in cHeadlines.find('h2', class_= 'sc-9d830f2a-3 fWzToZ'):\n",
    "        print(f'Headline: {headline.text}')\n",
    "    for subHeadLine in cHeadlines.find(class_='sc-36e63c4d-0 kVgkhK'):\n",
    "        print(f'Sub-Headlines: {subHeadLine.text}')\n",
    "    print()"
   ]
  },
  {
   "cell_type": "code",
   "execution_count": null,
   "id": "feedcbc1",
   "metadata": {},
   "outputs": [],
   "source": [
    "#Imput inside a csv file\n",
    "import csv\n",
    "\n",
    "with open('scraping_bbc.csv', 'w', newline='', encoding='utf-8' ) as csvfile:\n",
    "    fieldnames = ['headlines', 'subheadlines']\n",
    "    writer = csv.DictWriter(csvfile, fieldnames=fieldnames)\n",
    "\n",
    "    writer.writeheader()\n",
    "\n",
    "    for cHeadlines in soup.find_all('div', class_='sc-666b6d83-0 jSTfiy'):\n",
    "   # print(cHeadlines)\n",
    "        for headline in cHeadlines.find('h2', class_= 'sc-9d830f2a-3 fWzToZ'):\n",
    "            print(f'Headline: {headline.text}')\n",
    "        for subHeadLine in cHeadlines.find(class_='sc-cb78bbba-0 klCBmG'):\n",
    "            print(f'Sub-Headlines: {subHeadLine.text}')\n",
    "        writer.writerow({'headlines': headline.text, 'subheadlines' : subHeadLine.text})\n",
    "\n"
   ]
  },
  {
   "cell_type": "code",
   "execution_count": 55,
   "id": "21840188",
   "metadata": {},
   "outputs": [
    {
     "name": "stdout",
     "output_type": "stream",
     "text": [
      "Afternoon, Temperature: 27°, Cloudy\n",
      "Evening, Temperature: 26°, Cloudy\n",
      "Overnight, Temperature: 25°, Scattered T-Storms\n",
      "Now, Temperature: 27°, T-Storms\n",
      "12:00, Temperature: 27°, T-Storms\n",
      "13:00, Temperature: 27°, Scattered T-Storms\n",
      "14:00, Temperature: 28°, Cloudy\n",
      "15:00, Temperature: 27°, Cloudy\n",
      "Today, Temperature: 28°, T-Storms\n",
      "Tue 08, Temperature: 27°, T-Storms\n",
      "Wed 09, Temperature: 27°, Rain\n",
      "Thu 10, Temperature: 28°, Showers\n",
      "Fri 11, Temperature: 27°, AM Showers\n"
     ]
    }
   ],
   "source": [
    "import csv\n",
    "\n",
    "with open('scraping_weather.csv', 'w', newline='', encoding='utf-8' ) as csvfile:\n",
    "    fieldnames = ['Temperature', 'Weather', 'Weekly']\n",
    "    writer = csv.DictWriter(csvfile, fieldnames=fieldnames)\n",
    "\n",
    "    writer.writeheader()\n",
    "\n",
    "    for temp in soup.find_all('a', class_='Column--innerWrapper--kyyeB Column--verticalStack--k9S2a Button--default--osTe5'):\n",
    "        tempc = temp.find('div', class_='Column--temp--XitCX columnTempHiWrapper Column--verticalStack--k9S2a').find('span').text\n",
    "        weekly = temp.find('span', class_=\"Ellipsis--ellipsis--zynqj\").text \n",
    "        weather = temp.find('span', class_=\"Column--iconPhrase--H+3PA\").text\n",
    "        print(f'{weekly}, Temperature: {tempc}, {weather}')\n",
    "        writer.writerow({'Temperature': tempc, 'Weather' : weather, 'Weekly':  weekly})\n"
   ]
  }
 ],
 "metadata": {
  "kernelspec": {
   "display_name": "Python 3",
   "language": "python",
   "name": "python3"
  },
  "language_info": {
   "codemirror_mode": {
    "name": "ipython",
    "version": 3
   },
   "file_extension": ".py",
   "mimetype": "text/x-python",
   "name": "python",
   "nbconvert_exporter": "python",
   "pygments_lexer": "ipython3",
   "version": "3.12.4"
  }
 },
 "nbformat": 4,
 "nbformat_minor": 5
}
