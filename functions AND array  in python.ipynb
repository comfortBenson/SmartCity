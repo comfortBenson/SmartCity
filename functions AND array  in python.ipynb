{
 "cells": [
  {
   "cell_type": "code",
   "execution_count": null,
   "id": "70b24e76",
   "metadata": {},
   "outputs": [
    {
     "name": "stdout",
     "output_type": "stream",
     "text": [
      "Hello World\n"
     ]
    }
   ],
   "source": [
    "#my first function introduction\n",
    "# # after writing a function you must call the function for it to print\n",
    "def my_function():\n",
    "    print(f\"Hello World\")\n",
    "\n",
    "my_function()"
   ]
  },
  {
   "cell_type": "code",
   "execution_count": null,
   "id": "1cfa6473",
   "metadata": {},
   "outputs": [
    {
     "name": "stdout",
     "output_type": "stream",
     "text": [
      "Good Afternoon John\n"
     ]
    }
   ],
   "source": [
    "#one aggregate function\n",
    "def my_function(name):\n",
    "    print(f\"Good Afternoon {name}\")\n",
    "\n",
    "my_function(\"John\")"
   ]
  },
  {
   "cell_type": "code",
   "execution_count": 1,
   "id": "c1f81d5a",
   "metadata": {},
   "outputs": [
    {
     "name": "stdout",
     "output_type": "stream",
     "text": [
      "Good Afternoon John Doe, \n",
      "Your age is 30\n"
     ]
    }
   ],
   "source": [
    "def my_function(fname, lname, age):\n",
    "    print(f\"Good Afternoon {fname} {lname}, \\nYour age is {age}\")\n",
    "\n",
    "my_function(\"John\", \"Doe\", 30)"
   ]
  },
  {
   "cell_type": "code",
   "execution_count": 4,
   "id": "03b2b137",
   "metadata": {},
   "outputs": [
    {
     "name": "stdout",
     "output_type": "stream",
     "text": [
      "Good AfternoonTobias Referee, age is 30\n"
     ]
    }
   ],
   "source": [
    "#arguments that shows it accepts a dictionary\n",
    "def my_function(**args):\n",
    "    print(f\"Good Afternoon\" +args[\"fname\"] + \" \" +args[\"lname\"] + \", age is \"+ str(args[\"age\"]))\n",
    "\n",
    "my_function(fname =\"Tobias\", lname = \"Referee\", age = 30)"
   ]
  },
  {
   "cell_type": "code",
   "execution_count": 5,
   "id": "f01d6402",
   "metadata": {},
   "outputs": [
    {
     "name": "stdout",
     "output_type": "stream",
     "text": [
      "Good Afternoon Tobias Referee, age is 30\n"
     ]
    }
   ],
   "source": [
    "def my_function(*args):\n",
    "    print(\"Good Afternoon \" +args[0] + \" \" +args[1] + \", age is \"+ str(args[2]))\n",
    "\n",
    "my_function(\"Tobias\", \"Referee\", 30)"
   ]
  },
  {
   "cell_type": "code",
   "execution_count": 8,
   "id": "a2e5a4e2",
   "metadata": {},
   "outputs": [
    {
     "name": "stdout",
     "output_type": "stream",
     "text": [
      "Ford\n",
      "BMW\n",
      "Volvo\n",
      "Toyota\n",
      "\n",
      "\n",
      "\n",
      "Dasun\n",
      "Peugot\n",
      "Mercedes\n",
      "Volvo\n",
      "BMW\n",
      "Lambogini\n"
     ]
    }
   ],
   "source": [
    "# one dimensional array\n",
    "cars = [\"Ford\", \"BMW\", \"Volvo\", \"Toyota\"]\n",
    "cars[2]\n",
    "for car in cars:\n",
    "    print(car)\n",
    "\n",
    "# changing an item in an array\n",
    "cars[2] = \"Venza\"\n",
    "cars\n",
    "\n",
    "#checking for array length\n",
    "len(cars)\n",
    "\n",
    "# two dimensional arrays\n",
    "vehicles = [[\"Dasun\", \"Peugot\"], [\"Mercedes\", \"Volvo\"], [\"BMW\", \"Lambogini\"]]\n",
    "vehicles\n",
    "print(\"\\n\\n\")\n",
    "\n",
    "for veh in vehicles:\n",
    "    #print(veh)\n",
    "    for gaghets in veh:\n",
    "        print(gaghets)"
   ]
  },
  {
   "cell_type": "code",
   "execution_count": 9,
   "id": "11d398a2",
   "metadata": {},
   "outputs": [
    {
     "data": {
      "text/plain": [
       "[['Dasun', 'Peugot'], ['Mercedes', 'Volvo'], ['BMW', 'Lambogini']]"
      ]
     },
     "execution_count": 9,
     "metadata": {},
     "output_type": "execute_result"
    }
   ],
   "source": [
    "# two dimensional arrays\n",
    "vehicles = [[\"Dasun\", \"Peugot\"], [\"Mercedes\", \"Volvo\"], [\"BMW\", \"Lambogini\"]]\n",
    "vehicles"
   ]
  },
  {
   "cell_type": "code",
   "execution_count": null,
   "id": "e3f10177",
   "metadata": {},
   "outputs": [
    {
     "name": "stdout",
     "output_type": "stream",
     "text": [
      "['Dasun', 'Peugot']\n",
      "Dasun\n",
      "Peugot\n",
      "['Mercedes', 'Volvo']\n",
      "Mercedes\n",
      "Volvo\n",
      "['BMW', 'Lambogini']\n",
      "BMW\n",
      "Lambogini\n"
     ]
    }
   ],
   "source": [
    "\n",
    "for veh in vehicles:\n",
    "    print(veh)\n",
    "    for gaghets in veh:\n",
    "        print(gaghets)"
   ]
  },
  {
   "cell_type": "code",
   "execution_count": 12,
   "id": "bc6caeae",
   "metadata": {},
   "outputs": [
    {
     "name": "stdout",
     "output_type": "stream",
     "text": [
      "Dasun\n",
      "Peugot\n",
      "Mercedes\n",
      "Volvo\n",
      "BMW\n",
      "Lambogini\n"
     ]
    }
   ],
   "source": [
    "for veh in vehicles:\n",
    "    #print(veh)\n",
    "    for gaghets in veh:\n",
    "        print(gaghets)"
   ]
  },
  {
   "cell_type": "code",
   "execution_count": 24,
   "id": "1f33c9af",
   "metadata": {},
   "outputs": [
    {
     "data": {
      "text/plain": [
       "'Peugot'"
      ]
     },
     "execution_count": 24,
     "metadata": {},
     "output_type": "execute_result"
    }
   ],
   "source": [
    "# Using indx numbers to call your variables\n",
    "vehicles[0][1]"
   ]
  },
  {
   "cell_type": "code",
   "execution_count": 40,
   "id": "d1a87862",
   "metadata": {},
   "outputs": [
    {
     "data": {
      "text/plain": [
       "4"
      ]
     },
     "execution_count": 40,
     "metadata": {},
     "output_type": "execute_result"
    }
   ],
   "source": [
    "# key words in list\n",
    "cars\n",
    "#cars.append()\"Camry\")\n",
    "len(cars)\n",
    "#print(cars)\n",
    "#cars.pop(5)\n",
    "#cars\n",
    "#cars.remove(\"BMW\")\n",
    "#cars.clear() # clears an entire list set"
   ]
  }
 ],
 "metadata": {
  "kernelspec": {
   "display_name": "Python 3",
   "language": "python",
   "name": "python3"
  },
  "language_info": {
   "codemirror_mode": {
    "name": "ipython",
    "version": 3
   },
   "file_extension": ".py",
   "mimetype": "text/x-python",
   "name": "python",
   "nbconvert_exporter": "python",
   "pygments_lexer": "ipython3",
   "version": "3.12.4"
  }
 },
 "nbformat": 4,
 "nbformat_minor": 5
}
