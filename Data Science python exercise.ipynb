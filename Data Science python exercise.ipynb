{
 "cells": [
  {
   "cell_type": "markdown",
   "id": "9111b8f8",
   "metadata": {},
   "source": [
    "Exercise: Bank Account class with (deposit & withdrawal)\n",
    "\n",
    "Task:\n",
    "\n",
    "Create a class BankAccount with:\n",
    "- attribute: owner, balance (default=0)\n",
    "- methods:\n",
    "  - deposits(amount)\n",
    "  -withdraw(amount)\n",
    "  -get_balance()\n",
    "\n",
    "N/B: Make sure to check for insufficient balance when withdrawing."
   ]
  },
  {
   "cell_type": "code",
   "execution_count": null,
   "id": "1383184c",
   "metadata": {},
   "outputs": [
    {
     "name": "stdout",
     "output_type": "stream",
     "text": [
      "Current Balance: 0\n",
      "Deposit Sucessful 6000. New balance is 6000.\n",
      "Withdrawal Succesful 1000. New balance is 5000.\n",
      "Withdrawal Succesful 500. New balance is 4500.\n",
      "Insufficient Balance\n",
      "Current Balance: Current Balance: 4500\n"
     ]
    }
   ],
   "source": [
    "class BankAccount:\n",
    "    def __init__(self, owner, balance=0):\n",
    "        self.owner = owner\n",
    "        self.balance = balance\n",
    "\n",
    "        def get_balance(self):\n",
    "        return f\"Current Balance: {self.balance}\"\n",
    "    \n",
    "account = BankAccount(1000)\n",
    "print(account.get_balance())\n",
    "print(account.deposit(6000))\n",
    "print(account.withdraw(1000))\n",
    "print(account.withdraw(500))\n",
    "print(account.withdraw(5000))  \n",
    "print(f\"Current Balance: {account.get_balance()}\")\n",
    "    \n"
   ]
  },
  {
   "cell_type": "code",
   "execution_count": 8,
   "id": "f5035275",
   "metadata": {},
   "outputs": [
    {
     "name": "stdout",
     "output_type": "stream",
     "text": [
      "Acount created for Comfort Monday with balance 500\n",
      "Acount created for Grace Effiong with balance 1000\n",
      "Deposit Sucessful 600. New balance is 1100.\n",
      "Withdrawal Succesful 100. New balance is 1000.\n",
      "Invalid PIN. Withdrawal Denied.\n",
      "Current balance for Comfort Monday: 1000\n",
      "\n",
      "Transaction History:\n",
      "['2025-56-11:56:19 - Deposited 600', '2025-56-11:56:19 - Withdrew 100']\n",
      "Deposit Sucessful 700. New balance is 1700.\n",
      "Withdrawal Succesful 100. New balance is 1600.\n",
      "Invalid PIN. Withdrawal Denied.\n",
      "Current balance for Grace Effiong: 1600\n",
      "\n",
      "Transaction History:\n",
      "['2025-56-11:56:19 - Deposited 700', '2025-56-11:56:19 - Withdrew 100']\n"
     ]
    }
   ],
   "source": [
    "from datetime import datetime\n",
    "class BankAccount:\n",
    "    def __init__(self, owner, pin, balance=0):\n",
    "        self.owner = owner\n",
    "        self.pin = pin\n",
    "        self.balance = balance\n",
    "        self.transactions =[]\n",
    "\n",
    "    def deposit(self, amount):\n",
    "        if amount <=0:\n",
    "            return \"Deposit must be made\"\n",
    "        self.balance = self.balance + amount \n",
    "        self.transactions.append((datetime.now(), f\"Deposited {amount}\"))\n",
    "        return f\"Deposit Sucessful {amount}. New balance is {self.balance}.\"\n",
    "    \n",
    "    def withdraw(self, amount,pin):\n",
    "        if pin != self.pin:\n",
    "            return \"Invalid PIN. Withdrawal Denied.\"\n",
    "        if amount > self.balance:\n",
    "            return \"Insufficient Balance\"\n",
    "        self.balance = self.balance - amount\n",
    "        self.transactions.append((datetime.now(), f\"Withdrew {amount}\"))\n",
    "        return f\"Withdrawal Succesful {amount}. New balance is {self.balance}.\"\n",
    "    \n",
    "    def get_balance(self):\n",
    "        return f\"Current balance for {self.owner}: {self.balance}\"\n",
    "    \n",
    "    def get_transaction_history(self):\n",
    "        if not self.transactions:\n",
    "            return \"No transactions yet.\"\n",
    "        history = [f\"{time.strftime('%Y-%M-%H:%M:%S')} - {desc}\" for time, desc in self.transactions]\n",
    "        return history\n",
    "\n",
    "class Bank:\n",
    "    def __init__(self):\n",
    "        self.accounts = {}\n",
    "\n",
    "    def create_account(self, owner, pin, initial_balance=0):\n",
    "        if owner in self.accounts:\n",
    "            return f\"Account with this owner name already exists.\"\n",
    "        self.accounts[owner] = BankAccount(owner, pin, initial_balance)\n",
    "        return f\"Acount created for {owner} with balance {initial_balance}\"\n",
    "    \n",
    "    def get_account(self, owner):\n",
    "        return self.accounts.get(owner, None)\n",
    "    \n",
    "bank = Bank()\n",
    "print(bank.create_account(\"Comfort Monday\", \"1234\", 500))\n",
    "print(bank.create_account(\"Grace Effiong\", \"0000\", 1000))\n",
    "\n",
    "account = bank.get_account(\"Comfort Monday\")\n",
    "print(account.deposit(600))\n",
    "print(account.withdraw(100, \"1234\")) # correct pin\n",
    "print(account.withdraw(500, \"0654\")) # wrong pin\n",
    "print(account.get_balance())  \n",
    "print (\"\\nTransaction History:\")\n",
    "print(account.get_transaction_history())\n",
    "account = bank.get_account(\"Grace Effiong\")\n",
    "print(account.deposit(700))\n",
    "print(account.withdraw(100, \"0000\")) # correct pin\n",
    "print(account.withdraw(500, \"0654\")) # wrong pin\n",
    "print(account.get_balance())  \n",
    "print (\"\\nTransaction History:\")\n",
    "print(account.get_transaction_history())  \n",
    "\n",
    "\n",
    "\n",
    "    "
   ]
  }
 ],
 "metadata": {
  "kernelspec": {
   "display_name": "Python 3",
   "language": "python",
   "name": "python3"
  },
  "language_info": {
   "codemirror_mode": {
    "name": "ipython",
    "version": 3
   },
   "file_extension": ".py",
   "mimetype": "text/x-python",
   "name": "python",
   "nbconvert_exporter": "python",
   "pygments_lexer": "ipython3",
   "version": "3.12.10"
  }
 },
 "nbformat": 4,
 "nbformat_minor": 5
}
