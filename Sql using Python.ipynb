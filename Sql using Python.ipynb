{
 "cells": [
  {
   "cell_type": "code",
   "execution_count": 1,
   "id": "55ae1718",
   "metadata": {},
   "outputs": [
    {
     "name": "stdout",
     "output_type": "stream",
     "text": [
      "Collecting pyodbc\n",
      "  Downloading pyodbc-5.2.0-cp312-cp312-win_amd64.whl.metadata (2.8 kB)\n",
      "Downloading pyodbc-5.2.0-cp312-cp312-win_amd64.whl (69 kB)\n",
      "   ---------------------------------------- 0.0/69.5 kB ? eta -:--:--\n",
      "   ---------------------------------------- 0.0/69.5 kB ? eta -:--:--\n",
      "   ----- ---------------------------------- 10.2/69.5 kB ? eta -:--:--\n",
      "   ----- ---------------------------------- 10.2/69.5 kB ? eta -:--:--\n",
      "   ----- ---------------------------------- 10.2/69.5 kB ? eta -:--:--\n",
      "   ----- ---------------------------------- 10.2/69.5 kB ? eta -:--:--\n",
      "   ----- ---------------------------------- 10.2/69.5 kB ? eta -:--:--\n",
      "   ----- ---------------------------------- 10.2/69.5 kB ? eta -:--:--\n",
      "   ----------------- ---------------------- 30.7/69.5 kB 69.0 kB/s eta 0:00:01\n",
      "   ----------------- ---------------------- 30.7/69.5 kB 69.0 kB/s eta 0:00:01\n",
      "   ----------------- ---------------------- 30.7/69.5 kB 69.0 kB/s eta 0:00:01\n",
      "   ----------------- ---------------------- 30.7/69.5 kB 69.0 kB/s eta 0:00:01\n",
      "   ----------------- ---------------------- 30.7/69.5 kB 69.0 kB/s eta 0:00:01\n",
      "   ----------------- ---------------------- 30.7/69.5 kB 69.0 kB/s eta 0:00:01\n",
      "   ----------------- ---------------------- 30.7/69.5 kB 69.0 kB/s eta 0:00:01\n",
      "   ----------------- ---------------------- 30.7/69.5 kB 69.0 kB/s eta 0:00:01\n",
      "   ---------------------------------------- 69.5/69.5 kB 90.3 kB/s eta 0:00:00\n",
      "Installing collected packages: pyodbc\n",
      "Successfully installed pyodbc-5.2.0\n",
      "Note: you may need to restart the kernel to use updated packages.\n"
     ]
    },
    {
     "name": "stderr",
     "output_type": "stream",
     "text": [
      "\n",
      "[notice] A new release of pip is available: 24.0 -> 25.1.1\n",
      "[notice] To update, run: python.exe -m pip install --upgrade pip\n"
     ]
    }
   ],
   "source": [
    "pip install pyodbc"
   ]
  },
  {
   "cell_type": "code",
   "execution_count": 23,
   "id": "7351e429",
   "metadata": {},
   "outputs": [
    {
     "name": "stdout",
     "output_type": "stream",
     "text": [
      "(1, 'Oliver Brown', 'Male', '(555) 012-3454', 'PENDING')\n",
      "(2, 'Emma Smith', 'Female', '(555) 521-6545', 'PAID')\n",
      "(3, 'Amelia Miller', 'Female', '(555)827-6895', 'PAID')\n",
      "(4, 'Eric Green', 'Male', '(555) 768-4298', 'PENDING')\n",
      "(6, 'Linda Anderson', 'Female', '(555) 924-6589', 'PAID')\n",
      "(7, 'Patricia Thomas', 'Female', '(555) 394-2791', 'PAID')\n",
      "(8, 'James Martin', 'male', '(555) 196-4873', 'PENDING')\n",
      "(9, 'Susan Thompson', 'Female', '(555) 247-6359', 'PAID')\n",
      "(10, 'Thyra Harris', 'Female', '(555) 627-5896', 'PAID')\n"
     ]
    }
   ],
   "source": [
    "import pyodbc\n",
    "\n",
    "mydb = pyodbc.connect(\n",
    "    'DRIVER={SQL Server};'\n",
    "    'SERVER=SPIFFYSHUGA\\\\SQLEXPRESS;'\n",
    "    'DATABASE=Customer_DB;'\n",
    "    #'Trusted_Connection=yes;'\n",
    ")\n",
    "#print(\"Connected sucessfully using windows Authentification!\")\n",
    "mycursor = mydb.cursor()\n",
    "mycursor.execute(\"select * from Customer_info\")\n",
    "\n",
    "for x in mycursor:\n",
    "    print(x) "
   ]
  },
  {
   "cell_type": "code",
   "execution_count": 24,
   "id": "d5c450b5",
   "metadata": {},
   "outputs": [],
   "source": [
    "mycursor = mydb.cursor()\n",
    "\n",
    "#mycursor.execute(\"CREATE TABLE Student (Name VARCHAR(255), Dept VARCHAR(255), Grade INT)\")"
   ]
  },
  {
   "cell_type": "code",
   "execution_count": null,
   "id": "24f92b64",
   "metadata": {},
   "outputs": [
    {
     "name": "stdout",
     "output_type": "stream",
     "text": [
      "('John Doe', 'Computer Science', 90)\n",
      "('Kelvin Black', 'Engineering', 85)\n",
      "('Cynthia Ebo', 'History', 70)\n",
      "('John Doe', 'Computer Science', 90)\n",
      "('Kelvin Black', 'Engineering', 85)\n",
      "('Cynthia Ebo', 'History', 70)\n",
      "('John Doe', 'Computer Science', 90)\n",
      "('Kelvin Black', 'Engineering', 85)\n",
      "('Cynthia Ebo', 'History', 70)\n"
     ]
    }
   ],
   "source": [
    "# To insert data into the table\n",
    "mycursor.execute(\"INSERT INTO Student(Name, Dept, Grade) VALUES ('John Doe', 'Computer Science', 90)\")\n",
    "mycursor.execute(\"INSERT INTO Student(Name, Dept, Grade) VALUES ('Kelvin Black', 'Engineering', 85)\")\n",
    "mycursor.execute(\"INSERT INTO Student(Name, Dept, Grade) VALUES ('Cynthia Ebo', 'History', 70)\")\n",
    "mydb.commit()  # Commit the changes to the database\n",
    "\n"
   ]
  },
  {
   "cell_type": "code",
   "execution_count": 31,
   "id": "744bf023",
   "metadata": {},
   "outputs": [
    {
     "name": "stdout",
     "output_type": "stream",
     "text": [
      "('John Doe', 'Computer Science', 90)\n",
      "('Kelvin Black', 'Engineering', 85)\n",
      "('Cynthia Ebo', 'History', 70)\n",
      "('John Doe', 'Computer Science', 90)\n",
      "('Kelvin Black', 'Engineering', 85)\n",
      "('Cynthia Ebo', 'History', 70)\n",
      "('John Doe', 'Computer Science', 90)\n",
      "('Kelvin Black', 'Engineering', 85)\n",
      "('Cynthia Ebo', 'History', 70)\n"
     ]
    }
   ],
   "source": [
    "mycursor.execute(\"SELECT * FROM Student\")\n",
    "for x in mycursor:\n",
    "    print(x)"
   ]
  },
  {
   "cell_type": "code",
   "execution_count": 33,
   "id": "cec069bd",
   "metadata": {},
   "outputs": [],
   "source": [
    "#Updating table\n",
    "sql = \"UPDATE Student set Grade = 99 WHERE Name = 'John Doe'\"\n",
    "mycursor.execute(sql)\n",
    "mydb.commit()  #commit the changes to the database"
   ]
  },
  {
   "cell_type": "code",
   "execution_count": 37,
   "id": "df8d4c20",
   "metadata": {},
   "outputs": [
    {
     "name": "stdout",
     "output_type": "stream",
     "text": [
      "('John Doe', 'Computer Science', 99)\n",
      "('Kelvin Black', 'Engineering', 85)\n",
      "('Cynthia Ebo', 'History', 70)\n",
      "('John Doe', 'Computer Science', 99)\n",
      "('Kelvin Black', 'Engineering', 85)\n",
      "('Cynthia Ebo', 'History', 70)\n",
      "('John Doe', 'Computer Science', 99)\n",
      "('Kelvin Black', 'Engineering', 85)\n",
      "('Cynthia Ebo', 'History', 70)\n"
     ]
    }
   ],
   "source": [
    "\n",
    "mycursor.execute(\"SELECT * FROM Student\")\n",
    "for x in mycursor:\n",
    "    print(x)"
   ]
  },
  {
   "cell_type": "code",
   "execution_count": 38,
   "id": "811462e5",
   "metadata": {},
   "outputs": [
    {
     "name": "stdout",
     "output_type": "stream",
     "text": [
      "3 Record delected sucessfully\n"
     ]
    }
   ],
   "source": [
    "#Delecting a row\n",
    "sql = \"DELETE FROM Student WHERE Name = 'Kelvin Black'\"\n",
    "mycursor.execute(sql)\n",
    "mydb.commit()  #commit the changes to the database\n",
    "print(mycursor.rowcount, \"Record delected sucessfully\")"
   ]
  }
 ],
 "metadata": {
  "kernelspec": {
   "display_name": "Python 3",
   "language": "python",
   "name": "python3"
  },
  "language_info": {
   "codemirror_mode": {
    "name": "ipython",
    "version": 3
   },
   "file_extension": ".py",
   "mimetype": "text/x-python",
   "name": "python",
   "nbconvert_exporter": "python",
   "pygments_lexer": "ipython3",
   "version": "3.12.4"
  }
 },
 "nbformat": 4,
 "nbformat_minor": 5
}
