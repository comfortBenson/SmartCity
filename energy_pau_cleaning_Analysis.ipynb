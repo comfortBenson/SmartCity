{
 "cells": [
  {
   "cell_type": "code",
   "execution_count": 1,
   "id": "0a44414a",
   "metadata": {},
   "outputs": [],
   "source": [
    "import pandas as pd\n",
    "import matplotlib.pyplot as plt\n",
    "import numpy as np\n",
    "import re"
   ]
  },
  {
   "cell_type": "code",
   "execution_count": 2,
   "id": "4e102628",
   "metadata": {},
   "outputs": [
    {
     "name": "stdout",
     "output_type": "stream",
     "text": [
      "   energy  hr  day  month    yr\n",
      "0  953691  11   17      8  2025\n",
      "1  953709  12   17      8  2025\n",
      "2  953805  16   17      8  2025\n",
      "3  953889  21   17      8  2025\n",
      "4  953977   4   18      8  2025\n",
      "energy    int64\n",
      "hr        int64\n",
      "day       int64\n",
      "month     int64\n",
      "yr        int64\n",
      "dtype: object\n"
     ]
    }
   ],
   "source": [
    "utility = pd.read_csv(\"energy_pau.csv\")\n",
    "\n",
    "def clean_energy(x):\n",
    "        \n",
    "    if isinstance(x, str):\n",
    "        x = re.sub(r'[\\[\\]\\'\\\"]', '', x).strip()\n",
    "\n",
    "    try:\n",
    "        return float(x)\n",
    "    except:\n",
    "        return None\n",
    "\n",
    "utility['energy'] = utility['energy'].apply(clean_energy)\n",
    "utility['energy'] = pd.to_numeric(utility['energy'], errors='coerce').astype('int64')\n",
    "\n",
    "print(utility.head())\n",
    "print(utility.dtypes)"
   ]
  },
  {
   "cell_type": "code",
   "execution_count": 3,
   "id": "38d23671",
   "metadata": {},
   "outputs": [
    {
     "data": {
      "text/plain": [
       "(211, 5)"
      ]
     },
     "execution_count": 3,
     "metadata": {},
     "output_type": "execute_result"
    }
   ],
   "source": [
    "utility.shape"
   ]
  },
  {
   "cell_type": "code",
   "execution_count": 4,
   "id": "0da6dbf3",
   "metadata": {},
   "outputs": [
    {
     "name": "stdout",
     "output_type": "stream",
     "text": [
      "<class 'pandas.core.frame.DataFrame'>\n",
      "RangeIndex: 211 entries, 0 to 210\n",
      "Data columns (total 5 columns):\n",
      " #   Column  Non-Null Count  Dtype\n",
      "---  ------  --------------  -----\n",
      " 0   energy  211 non-null    int64\n",
      " 1   hr      211 non-null    int64\n",
      " 2   day     211 non-null    int64\n",
      " 3   month   211 non-null    int64\n",
      " 4   yr      211 non-null    int64\n",
      "dtypes: int64(5)\n",
      "memory usage: 8.4 KB\n"
     ]
    }
   ],
   "source": [
    "utility.info()"
   ]
  },
  {
   "cell_type": "code",
   "execution_count": 6,
   "id": "c30b9e05",
   "metadata": {},
   "outputs": [
    {
     "data": {
      "text/plain": [
       "Index(['energy', 'hr', 'day', 'month', 'yr'], dtype='object')"
      ]
     },
     "execution_count": 6,
     "metadata": {},
     "output_type": "execute_result"
    }
   ],
   "source": [
    "utility.columns"
   ]
  },
  {
   "cell_type": "code",
   "execution_count": 27,
   "id": "8c4ba8b9",
   "metadata": {},
   "outputs": [
    {
     "data": {
      "text/plain": [
       "5"
      ]
     },
     "execution_count": 27,
     "metadata": {},
     "output_type": "execute_result"
    }
   ],
   "source": [
    "len(utility.columns)"
   ]
  },
  {
   "cell_type": "code",
   "execution_count": 28,
   "id": "1198dd86",
   "metadata": {},
   "outputs": [
    {
     "data": {
      "text/plain": [
       "(211, 5)"
      ]
     },
     "execution_count": 28,
     "metadata": {},
     "output_type": "execute_result"
    }
   ],
   "source": [
    "utility.shape"
   ]
  },
  {
   "cell_type": "code",
   "execution_count": 29,
   "id": "9ba8da61",
   "metadata": {},
   "outputs": [
    {
     "data": {
      "text/plain": [
       "energy    0\n",
       "hr        0\n",
       "day       0\n",
       "month     0\n",
       "yr        0\n",
       "dtype: int64"
      ]
     },
     "execution_count": 29,
     "metadata": {},
     "output_type": "execute_result"
    }
   ],
   "source": [
    "utility.isna().sum()"
   ]
  },
  {
   "cell_type": "code",
   "execution_count": 10,
   "id": "8a3b33e5",
   "metadata": {},
   "outputs": [
    {
     "name": "stdout",
     "output_type": "stream",
     "text": [
      "Invalid days found: 0\n",
      "Invalid months found: 0\n",
      "Invalid hours found: 0\n"
     ]
    }
   ],
   "source": [
    "invalid_days = utility[(utility['day'] < 1) | (utility['day'] > 31)]\n",
    "print(\"Invalid days found:\", invalid_days.shape[0])\n",
    "\n",
    "invalid_months = utility[(utility['month'] < 1) | (utility['month'] > 12)]\n",
    "print(\"Invalid months found:\", invalid_months.shape[0])\n",
    "\n",
    "invalid_hours = utility[(utility['hr'] < 0) | (utility['hr'] > 24)]\n",
    "print(\"Invalid hours found:\", invalid_hours.shape[0])\n"
   ]
  },
  {
   "cell_type": "code",
   "execution_count": 11,
   "id": "a68ba699",
   "metadata": {},
   "outputs": [
    {
     "name": "stdout",
     "output_type": "stream",
     "text": [
      "   energy  hr  day  month  year       date   diff\n",
      "0  953691  11   17      8  2025 2025-08-17    NaN\n",
      "1  953709  12   17      8  2025 2025-08-17   18.0\n",
      "2  953805  16   17      8  2025 2025-08-17   96.0\n",
      "3  953889  21   17      8  2025 2025-08-17   84.0\n",
      "4  953977   4   18      8  2025 2025-08-18   88.0\n",
      "5  953977  17   18      8  2025 2025-08-18    0.0\n",
      "6  953977  19   18      8  2025 2025-08-18    0.0\n",
      "7  954391  22   18      8  2025 2025-08-18  414.0\n",
      "8  954459  24   18      8  2025 2025-08-18   68.0\n",
      "9  954636   7   19      8  2025 2025-08-19  177.0\n"
     ]
    }
   ],
   "source": [
    "utility['diff'] = utility['energy'].diff()  #adding diff column\n",
    "\n",
    "print(utility.head(10))"
   ]
  },
  {
   "cell_type": "code",
   "execution_count": 7,
   "id": "15177a9f",
   "metadata": {},
   "outputs": [
    {
     "name": "stdout",
     "output_type": "stream",
     "text": [
      "invalid dates found: 0\n",
      "Empty DataFrame\n",
      "Columns: [energy, hr, day, month, year, date]\n",
      "Index: []\n"
     ]
    }
   ],
   "source": [
    "utility= utility.rename(columns={'yr' : 'year'})\n",
    "utility['date'] = pd.to_datetime(utility[['year', 'month', 'day']], errors ='coerce')\n",
    "\n",
    "invalid_dates = utility[utility['date'].isna()]\n",
    "print(\"invalid dates found:\", invalid_dates.shape[0])\n",
    "print(invalid_dates.head(10))"
   ]
  },
  {
   "cell_type": "code",
   "execution_count": 33,
   "id": "fa42340e",
   "metadata": {},
   "outputs": [
    {
     "data": {
      "text/html": [
       "<div>\n",
       "<style scoped>\n",
       "    .dataframe tbody tr th:only-of-type {\n",
       "        vertical-align: middle;\n",
       "    }\n",
       "\n",
       "    .dataframe tbody tr th {\n",
       "        vertical-align: top;\n",
       "    }\n",
       "\n",
       "    .dataframe thead th {\n",
       "        text-align: right;\n",
       "    }\n",
       "</style>\n",
       "<table border=\"1\" class=\"dataframe\">\n",
       "  <thead>\n",
       "    <tr style=\"text-align: right;\">\n",
       "      <th></th>\n",
       "      <th>energy</th>\n",
       "      <th>hr</th>\n",
       "      <th>day</th>\n",
       "      <th>month</th>\n",
       "      <th>yr</th>\n",
       "      <th>diff</th>\n",
       "    </tr>\n",
       "  </thead>\n",
       "  <tbody>\n",
       "    <tr>\n",
       "      <th>0</th>\n",
       "      <td>953691</td>\n",
       "      <td>11</td>\n",
       "      <td>17</td>\n",
       "      <td>8</td>\n",
       "      <td>2025</td>\n",
       "      <td>NaN</td>\n",
       "    </tr>\n",
       "    <tr>\n",
       "      <th>1</th>\n",
       "      <td>953709</td>\n",
       "      <td>12</td>\n",
       "      <td>17</td>\n",
       "      <td>8</td>\n",
       "      <td>2025</td>\n",
       "      <td>18.0</td>\n",
       "    </tr>\n",
       "    <tr>\n",
       "      <th>2</th>\n",
       "      <td>953805</td>\n",
       "      <td>16</td>\n",
       "      <td>17</td>\n",
       "      <td>8</td>\n",
       "      <td>2025</td>\n",
       "      <td>96.0</td>\n",
       "    </tr>\n",
       "    <tr>\n",
       "      <th>3</th>\n",
       "      <td>953889</td>\n",
       "      <td>21</td>\n",
       "      <td>17</td>\n",
       "      <td>8</td>\n",
       "      <td>2025</td>\n",
       "      <td>84.0</td>\n",
       "    </tr>\n",
       "    <tr>\n",
       "      <th>4</th>\n",
       "      <td>953977</td>\n",
       "      <td>4</td>\n",
       "      <td>18</td>\n",
       "      <td>8</td>\n",
       "      <td>2025</td>\n",
       "      <td>88.0</td>\n",
       "    </tr>\n",
       "    <tr>\n",
       "      <th>5</th>\n",
       "      <td>953977</td>\n",
       "      <td>17</td>\n",
       "      <td>18</td>\n",
       "      <td>8</td>\n",
       "      <td>2025</td>\n",
       "      <td>0.0</td>\n",
       "    </tr>\n",
       "    <tr>\n",
       "      <th>6</th>\n",
       "      <td>953977</td>\n",
       "      <td>19</td>\n",
       "      <td>18</td>\n",
       "      <td>8</td>\n",
       "      <td>2025</td>\n",
       "      <td>0.0</td>\n",
       "    </tr>\n",
       "    <tr>\n",
       "      <th>7</th>\n",
       "      <td>954391</td>\n",
       "      <td>22</td>\n",
       "      <td>18</td>\n",
       "      <td>8</td>\n",
       "      <td>2025</td>\n",
       "      <td>414.0</td>\n",
       "    </tr>\n",
       "    <tr>\n",
       "      <th>8</th>\n",
       "      <td>954459</td>\n",
       "      <td>24</td>\n",
       "      <td>18</td>\n",
       "      <td>8</td>\n",
       "      <td>2025</td>\n",
       "      <td>68.0</td>\n",
       "    </tr>\n",
       "    <tr>\n",
       "      <th>9</th>\n",
       "      <td>954636</td>\n",
       "      <td>7</td>\n",
       "      <td>19</td>\n",
       "      <td>8</td>\n",
       "      <td>2025</td>\n",
       "      <td>177.0</td>\n",
       "    </tr>\n",
       "  </tbody>\n",
       "</table>\n",
       "</div>"
      ],
      "text/plain": [
       "   energy  hr  day  month    yr   diff\n",
       "0  953691  11   17      8  2025    NaN\n",
       "1  953709  12   17      8  2025   18.0\n",
       "2  953805  16   17      8  2025   96.0\n",
       "3  953889  21   17      8  2025   84.0\n",
       "4  953977   4   18      8  2025   88.0\n",
       "5  953977  17   18      8  2025    0.0\n",
       "6  953977  19   18      8  2025    0.0\n",
       "7  954391  22   18      8  2025  414.0\n",
       "8  954459  24   18      8  2025   68.0\n",
       "9  954636   7   19      8  2025  177.0"
      ]
     },
     "execution_count": 33,
     "metadata": {},
     "output_type": "execute_result"
    }
   ],
   "source": [
    "utility.head(10)"
   ]
  },
  {
   "cell_type": "code",
   "execution_count": 16,
   "id": "65017ab4",
   "metadata": {},
   "outputs": [
    {
     "data": {
      "text/html": [
       "<div>\n",
       "<style scoped>\n",
       "    .dataframe tbody tr th:only-of-type {\n",
       "        vertical-align: middle;\n",
       "    }\n",
       "\n",
       "    .dataframe tbody tr th {\n",
       "        vertical-align: top;\n",
       "    }\n",
       "\n",
       "    .dataframe thead th {\n",
       "        text-align: right;\n",
       "    }\n",
       "</style>\n",
       "<table border=\"1\" class=\"dataframe\">\n",
       "  <thead>\n",
       "    <tr style=\"text-align: right;\">\n",
       "      <th></th>\n",
       "      <th>energy</th>\n",
       "      <th>hr</th>\n",
       "      <th>day</th>\n",
       "      <th>month</th>\n",
       "      <th>year</th>\n",
       "      <th>date</th>\n",
       "      <th>diff</th>\n",
       "      <th>ma3</th>\n",
       "      <th>ma7</th>\n",
       "      <th>diff_filled</th>\n",
       "    </tr>\n",
       "  </thead>\n",
       "  <tbody>\n",
       "    <tr>\n",
       "      <th>0</th>\n",
       "      <td>953691</td>\n",
       "      <td>11</td>\n",
       "      <td>17</td>\n",
       "      <td>8</td>\n",
       "      <td>2025</td>\n",
       "      <td>2025-08-17</td>\n",
       "      <td>0</td>\n",
       "      <td>0</td>\n",
       "      <td>0</td>\n",
       "      <td>0</td>\n",
       "    </tr>\n",
       "    <tr>\n",
       "      <th>1</th>\n",
       "      <td>953709</td>\n",
       "      <td>12</td>\n",
       "      <td>17</td>\n",
       "      <td>8</td>\n",
       "      <td>2025</td>\n",
       "      <td>2025-08-17</td>\n",
       "      <td>18</td>\n",
       "      <td>18</td>\n",
       "      <td>18</td>\n",
       "      <td>18</td>\n",
       "    </tr>\n",
       "    <tr>\n",
       "      <th>2</th>\n",
       "      <td>953805</td>\n",
       "      <td>16</td>\n",
       "      <td>17</td>\n",
       "      <td>8</td>\n",
       "      <td>2025</td>\n",
       "      <td>2025-08-17</td>\n",
       "      <td>96</td>\n",
       "      <td>96</td>\n",
       "      <td>96</td>\n",
       "      <td>96</td>\n",
       "    </tr>\n",
       "    <tr>\n",
       "      <th>3</th>\n",
       "      <td>953889</td>\n",
       "      <td>21</td>\n",
       "      <td>17</td>\n",
       "      <td>8</td>\n",
       "      <td>2025</td>\n",
       "      <td>2025-08-17</td>\n",
       "      <td>84</td>\n",
       "      <td>84</td>\n",
       "      <td>84</td>\n",
       "      <td>84</td>\n",
       "    </tr>\n",
       "    <tr>\n",
       "      <th>4</th>\n",
       "      <td>953977</td>\n",
       "      <td>4</td>\n",
       "      <td>18</td>\n",
       "      <td>8</td>\n",
       "      <td>2025</td>\n",
       "      <td>2025-08-18</td>\n",
       "      <td>88</td>\n",
       "      <td>88</td>\n",
       "      <td>88</td>\n",
       "      <td>88</td>\n",
       "    </tr>\n",
       "    <tr>\n",
       "      <th>5</th>\n",
       "      <td>953977</td>\n",
       "      <td>17</td>\n",
       "      <td>18</td>\n",
       "      <td>8</td>\n",
       "      <td>2025</td>\n",
       "      <td>2025-08-18</td>\n",
       "      <td>0</td>\n",
       "      <td>0</td>\n",
       "      <td>0</td>\n",
       "      <td>0</td>\n",
       "    </tr>\n",
       "    <tr>\n",
       "      <th>6</th>\n",
       "      <td>953977</td>\n",
       "      <td>19</td>\n",
       "      <td>18</td>\n",
       "      <td>8</td>\n",
       "      <td>2025</td>\n",
       "      <td>2025-08-18</td>\n",
       "      <td>0</td>\n",
       "      <td>0</td>\n",
       "      <td>0</td>\n",
       "      <td>0</td>\n",
       "    </tr>\n",
       "    <tr>\n",
       "      <th>7</th>\n",
       "      <td>954391</td>\n",
       "      <td>22</td>\n",
       "      <td>18</td>\n",
       "      <td>8</td>\n",
       "      <td>2025</td>\n",
       "      <td>2025-08-18</td>\n",
       "      <td>414</td>\n",
       "      <td>414</td>\n",
       "      <td>414</td>\n",
       "      <td>414</td>\n",
       "    </tr>\n",
       "    <tr>\n",
       "      <th>8</th>\n",
       "      <td>954459</td>\n",
       "      <td>24</td>\n",
       "      <td>18</td>\n",
       "      <td>8</td>\n",
       "      <td>2025</td>\n",
       "      <td>2025-08-18</td>\n",
       "      <td>68</td>\n",
       "      <td>68</td>\n",
       "      <td>68</td>\n",
       "      <td>68</td>\n",
       "    </tr>\n",
       "    <tr>\n",
       "      <th>9</th>\n",
       "      <td>954636</td>\n",
       "      <td>7</td>\n",
       "      <td>19</td>\n",
       "      <td>8</td>\n",
       "      <td>2025</td>\n",
       "      <td>2025-08-19</td>\n",
       "      <td>177</td>\n",
       "      <td>177</td>\n",
       "      <td>177</td>\n",
       "      <td>177</td>\n",
       "    </tr>\n",
       "    <tr>\n",
       "      <th>10</th>\n",
       "      <td>954677</td>\n",
       "      <td>8</td>\n",
       "      <td>19</td>\n",
       "      <td>8</td>\n",
       "      <td>2025</td>\n",
       "      <td>2025-08-19</td>\n",
       "      <td>41</td>\n",
       "      <td>41</td>\n",
       "      <td>41</td>\n",
       "      <td>41</td>\n",
       "    </tr>\n",
       "    <tr>\n",
       "      <th>11</th>\n",
       "      <td>954690</td>\n",
       "      <td>9</td>\n",
       "      <td>19</td>\n",
       "      <td>8</td>\n",
       "      <td>2025</td>\n",
       "      <td>2025-08-19</td>\n",
       "      <td>13</td>\n",
       "      <td>13</td>\n",
       "      <td>13</td>\n",
       "      <td>13</td>\n",
       "    </tr>\n",
       "    <tr>\n",
       "      <th>12</th>\n",
       "      <td>954950</td>\n",
       "      <td>18</td>\n",
       "      <td>19</td>\n",
       "      <td>8</td>\n",
       "      <td>2025</td>\n",
       "      <td>2025-08-19</td>\n",
       "      <td>260</td>\n",
       "      <td>260</td>\n",
       "      <td>260</td>\n",
       "      <td>260</td>\n",
       "    </tr>\n",
       "    <tr>\n",
       "      <th>13</th>\n",
       "      <td>954959</td>\n",
       "      <td>19</td>\n",
       "      <td>19</td>\n",
       "      <td>8</td>\n",
       "      <td>2025</td>\n",
       "      <td>2025-08-19</td>\n",
       "      <td>9</td>\n",
       "      <td>9</td>\n",
       "      <td>9</td>\n",
       "      <td>9</td>\n",
       "    </tr>\n",
       "    <tr>\n",
       "      <th>14</th>\n",
       "      <td>954991</td>\n",
       "      <td>20</td>\n",
       "      <td>19</td>\n",
       "      <td>8</td>\n",
       "      <td>2025</td>\n",
       "      <td>2025-08-19</td>\n",
       "      <td>32</td>\n",
       "      <td>32</td>\n",
       "      <td>32</td>\n",
       "      <td>32</td>\n",
       "    </tr>\n",
       "  </tbody>\n",
       "</table>\n",
       "</div>"
      ],
      "text/plain": [
       "    energy  hr  day  month  year       date  diff  ma3  ma7  diff_filled\n",
       "0   953691  11   17      8  2025 2025-08-17     0    0    0            0\n",
       "1   953709  12   17      8  2025 2025-08-17    18   18   18           18\n",
       "2   953805  16   17      8  2025 2025-08-17    96   96   96           96\n",
       "3   953889  21   17      8  2025 2025-08-17    84   84   84           84\n",
       "4   953977   4   18      8  2025 2025-08-18    88   88   88           88\n",
       "5   953977  17   18      8  2025 2025-08-18     0    0    0            0\n",
       "6   953977  19   18      8  2025 2025-08-18     0    0    0            0\n",
       "7   954391  22   18      8  2025 2025-08-18   414  414  414          414\n",
       "8   954459  24   18      8  2025 2025-08-18    68   68   68           68\n",
       "9   954636   7   19      8  2025 2025-08-19   177  177  177          177\n",
       "10  954677   8   19      8  2025 2025-08-19    41   41   41           41\n",
       "11  954690   9   19      8  2025 2025-08-19    13   13   13           13\n",
       "12  954950  18   19      8  2025 2025-08-19   260  260  260          260\n",
       "13  954959  19   19      8  2025 2025-08-19     9    9    9            9\n",
       "14  954991  20   19      8  2025 2025-08-19    32   32   32           32"
      ]
     },
     "execution_count": 16,
     "metadata": {},
     "output_type": "execute_result"
    }
   ],
   "source": [
    "utility['ma3'] = utility['diff'].fillna(utility['diff'].rolling(3, min_periods=1).mean())\n",
    "utility['ma7'] = utility['diff'].fillna(utility['diff'].rolling(7, min_periods=1).mean())\n",
    "\n",
    "utility['diff_filled'] = utility['diff'].fillna(utility['ma3']). fillna(utility['ma7'])\n",
    "\n",
    "if pd.isna(utility.loc[0, 'diff_filled']):\n",
    "    utility.loc[0, 'diff_filled'] = 0\n",
    "\n",
    "utility['diff'] = utility['diff'].fillna(0).astype(int)\n",
    "utility['diff_filled']= utility['diff_filled'].astype(int)\n",
    "\n",
    "numeric_cols = utility.select_dtypes(include='number').columns\n",
    "utility[numeric_cols]=utility[numeric_cols].fillna(0).astype(int)\n",
    "utility.head(15)"
   ]
  },
  {
   "cell_type": "code",
   "execution_count": 17,
   "id": "0f7a0db5",
   "metadata": {},
   "outputs": [
    {
     "data": {
      "image/png": "[encoded data removed]",
      "text/plain": [
       "<Figure size 1200x600 with 1 Axes>"
      ]
     },
     "metadata": {},
     "output_type": "display_data"
    }
   ],
   "source": [
    "plt.figure(figsize=(12,6))\n",
    "for day in utility['day'].unique():\n",
    "    subset = utility[utility['day']==day]\n",
    "    plt.bar(subset['hr'], subset['energy'], label=f'day {day}', alpha=0.7)\n",
    "\n",
    "plt.xlabel('Hour of Day')\n",
    "plt.ylabel('Energy')\n",
    "plt.title('Hourly Energy Reading Per Day')\n",
    "plt.legend()\n",
    "plt.show()"
   ]
  },
  {
   "cell_type": "code",
   "execution_count": 18,
   "id": "99973079",
   "metadata": {},
   "outputs": [
    {
     "name": "stdout",
     "output_type": "stream",
     "text": [
      "   month  day    energy\n",
      "0      8   17   3815094\n",
      "1      8   18   4770781\n",
      "2      8   19   7638942\n",
      "3      8   20  12419894\n",
      "4      8   21   1911349\n"
     ]
    },
    {
     "data": {
      "image/png": "[encoded data removed]",
      "text/plain": [
       "<Figure size 800x800 with 1 Axes>"
      ]
     },
     "metadata": {},
     "output_type": "display_data"
    }
   ],
   "source": [
    "daily_energy = utility.groupby(['month', 'day'])['energy'].sum().reset_index()\n",
    "print(daily_energy.head())\n",
    "\n",
    "Months = daily_energy['month'].unique()\n",
    "for m in Months:\n",
    "    month_data = daily_energy[daily_energy['month'] == m]\n",
    "plt.figure(figsize=(8,8))\n",
    "plt.pie(month_data['energy'], labels=month_data['day'], autopct='%1.1f%%', startangle=90)\n",
    "plt.title('Energy Consumption Percentage Per Day in Month {m}')\n",
    "plt.show()"
   ]
  },
  {
   "cell_type": "code",
   "execution_count": 19,
   "id": "39cb29d4",
   "metadata": {},
   "outputs": [
    {
     "name": "stdout",
     "output_type": "stream",
     "text": [
      "Data Cleaning and Visualization Completed. Cleaned CSV saved as PAU_energy_cleaned.csv\n"
     ]
    }
   ],
   "source": [
    "utility.to_csv(\"PAU_energy_cleaned.csv\", index=False)\n",
    "print(\"Data Cleaning and Visualization Completed. Cleaned CSV saved as PAU_energy_cleaned.csv\")"
   ]
  }
 ],
 "metadata": {
  "kernelspec": {
   "display_name": "Python 3",
   "language": "python",
   "name": "python3"
  },
  "language_info": {
   "codemirror_mode": {
    "name": "ipython",
    "version": 3
   },
   "file_extension": ".py",
   "mimetype": "text/x-python",
   "name": "python",
   "nbconvert_exporter": "python",
   "pygments_lexer": "ipython3",
   "version": "3.12.4"
  }
 },
 "nbformat": 4,
 "nbformat_minor": 5
}
