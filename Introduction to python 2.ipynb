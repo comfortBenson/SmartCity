{
 "cells": [
  {
   "cell_type": "code",
   "execution_count": 1,
   "id": "6c528d00",
   "metadata": {},
   "outputs": [
    {
     "name": "stdout",
     "output_type": "stream",
     "text": [
      "hello world\n"
     ]
    }
   ],
   "source": [
    "print (\"hello world\")"
   ]
  },
  {
   "cell_type": "code",
   "execution_count": 9,
   "id": "5ff3642d",
   "metadata": {},
   "outputs": [
    {
     "name": "stdout",
     "output_type": "stream",
     "text": [
      "hello spiffy\n"
     ]
    }
   ],
   "source": [
    "print (\"hello spiffy\")"
   ]
  },
  {
   "cell_type": "code",
   "execution_count": 2,
   "id": "03ffb651",
   "metadata": {},
   "outputs": [
    {
     "name": "stdout",
     "output_type": "stream",
     "text": [
      "Addition: 15\n",
      "Subtraction: 5\n",
      "Multiplication: 50\n",
      "Division: 2.0\n",
      "Modulus: 0\n",
      "Exponentiation: 100000\n",
      "Floor Division: 2\n"
     ]
    }
   ],
   "source": [
    "# Operators\n",
    "# Arithmetic Operators\n",
    "a = 10\n",
    "b = 5\n",
    "print(f\"Addition: {a + b}\")\n",
    "print(f\"Subtraction: {a - b}\")\n",
    "print(f\"Multiplication: {a * b}\")\n",
    "print(f\"Division: {a / b}\")\n",
    "print(f\"Modulus: {a % b}\")\n",
    "print(f\"Exponentiation: {a ** b}\")\n",
    "print(f\"Floor Division: {a // b}\")"
   ]
  },
  {
   "cell_type": "code",
   "execution_count": null,
   "id": "d1e31183",
   "metadata": {},
   "outputs": [
    {
     "name": "stdout",
     "output_type": "stream",
     "text": [
      "Logical AND: False\n",
      "Logical OR: True\n",
      "Logical NOT: False\n",
      "Equal: False\n",
      "Not Equal: True\n",
      "Greater than: True\n",
      "Less than: False\n",
      "Greater than or Equal to: True\n",
      "Less than or Equal to: False\n"
     ]
    }
   ],
   "source": [
    "#Logical Operatos\n",
    "x = True\n",
    "y = False\n",
    "z = True\n",
    "print(f\"Logical AND: {x and y and z}\")\n",
    "print(f\"Logical OR: {x or y}\")\n",
    "print(f\"Logical NOT: {not x}\")\n",
    "# Comparison Operators\n",
    "print(f\"Equal: {a == b}\")\n",
    "print(f\"Not Equal: {a != b}\")\n",
    "print(f\"Greater than: {a > b}\")\n",
    "print(f\"Less than: {a < b}\")\n",
    "print(f\"Greater than or Equal to: {a >= b}\")\n",
    "print(f\"Less than or Equal to: {a <= b}\")"
   ]
  },
  {
   "cell_type": "code",
   "execution_count": 4,
   "id": "68ff6f5f",
   "metadata": {},
   "outputs": [
    {
     "name": "stdout",
     "output_type": "stream",
     "text": [
      "You are an adult.\n"
     ]
    }
   ],
   "source": [
    "#Control Flow\n",
    "#If-Else Statement\n",
    "age = 20\n",
    "if age >= 18:\n",
    "    print(\"You are an adult.\")\n",
    "else:\n",
    "    print(\"You are a minor.\")"
   ]
  },
  {
   "cell_type": "code",
   "execution_count": 10,
   "id": "6707c550",
   "metadata": {},
   "outputs": [
    {
     "name": "stdout",
     "output_type": "stream",
     "text": [
      "iteration 1\n",
      "iteration 2\n",
      "iteration 3\n",
      "iteration 4\n",
      "iteration 5\n"
     ]
    }
   ],
   "source": [
    "#For Loop\n",
    "for i in range(5):\n",
    "    print(f\"iteration {i + 1}\")"
   ]
  },
  {
   "cell_type": "code",
   "execution_count": 2,
   "id": "787d1bfd",
   "metadata": {},
   "outputs": [
    {
     "name": "stdout",
     "output_type": "stream",
     "text": [
      "8 is even.\n"
     ]
    }
   ],
   "source": [
    "# Exercise: write a program that checks if a number is even or odd.\n",
    "number = 8\n",
    "if number % 2 ==0:\n",
    "    print(f\"{number} is even.\")\n",
    "else:\n",
    "    print(f\"{number} is odd\")"
   ]
  },
  {
   "cell_type": "code",
   "execution_count": 3,
   "id": "789b1cbc",
   "metadata": {},
   "outputs": [
    {
     "name": "stdout",
     "output_type": "stream",
     "text": [
      "100.0°C is equal to 212.0°F\n",
      "It is hot!\n"
     ]
    }
   ],
   "source": [
    "# Celcus to Fahrenheit\n",
    "def celsius_to_fahrenheit(celsius):\n",
    "    fahrenheit = (celsius * 9/5) + 32\n",
    "    return fahrenheit\n",
    "\n",
    "celsius = float(input(\"Enter temperature in celsius: \"))\n",
    "fahrenheit = celsius_to_fahrenheit(celsius)\n",
    "print(f\"{celsius}°C is equal to {fahrenheit}°F\")\n",
    "\n",
    "if celsius >= 100:\n",
    "    print(\"It is hot!\")\n",
    "elif celsius < 32:\n",
    "    print(\"It is cold\")"
   ]
  },
  {
   "cell_type": "code",
   "execution_count": null,
   "id": "d50bf43b",
   "metadata": {},
   "outputs": [],
   "source": [
    "#Exercise: Write a program count in 3s from 0 t0 30\n",
    "j = 0\n",
    "for i in range(30):\n",
    "    j = j + 3\n",
    "    print(f\"iteration {j}\")\n",
    "    if j == 30:\n",
    "        break\n"
   ]
  },
  {
   "cell_type": "code",
   "execution_count": 2,
   "id": "f5342920",
   "metadata": {},
   "outputs": [
    {
     "name": "stdout",
     "output_type": "stream",
     "text": [
      "count is 0\n",
      "count is 1\n",
      "count is 2\n",
      "count is 3\n",
      "count is 4\n",
      "i like apple\n",
      "i like banana\n",
      "i like cherry\n"
     ]
    }
   ],
   "source": [
    "# While Loop\n",
    "count = 0\n",
    "while count < 5:\n",
    "    print(f\"count is {count}\")\n",
    "    count += 1\n",
    "\n",
    "#For Loop with list\n",
    "Fruits = [\"apple\", \"banana\", \"cherry\"]\n",
    "for fruit in Fruits:\n",
    "    print(f\"i like {fruit}\")"
   ]
  },
  {
   "cell_type": "code",
   "execution_count": 7,
   "id": "8a7b5a66",
   "metadata": {},
   "outputs": [
    {
     "name": "stdout",
     "output_type": "stream",
     "text": [
      "i like apple\n",
      "i like banana\n",
      "i like cherry\n"
     ]
    }
   ],
   "source": [
    "# Using range in for loop\n",
    "Fruits = [\"apple\", \"banana\", \"cherry\"]\n",
    "for j in range(len(Fruits)):\n",
    "    print(f\"i like {Fruits[j]}\")\n",
    "        "
   ]
  },
  {
   "cell_type": "code",
   "execution_count": 8,
   "id": "b52a6b92",
   "metadata": {},
   "outputs": [
    {
     "name": "stdout",
     "output_type": "stream",
     "text": [
      "9\n",
      "10\n"
     ]
    }
   ],
   "source": [
    "Name = \"Idongesit\"\n",
    "Number = [1, 2, 3, 4, 5, 6, 7, 8, 9, 10]\n",
    "print(len(Name))\n",
    "print(len(Number))"
   ]
  },
  {
   "cell_type": "code",
   "execution_count": 1,
   "id": "9cdac5f1",
   "metadata": {},
   "outputs": [
    {
     "name": "stdout",
     "output_type": "stream",
     "text": [
      "5\n",
      "Data Visualization\n"
     ]
    }
   ],
   "source": [
    "class DS:  # creating a class\n",
    "    x = 5\n",
    "    def visual(self):     # this is known as a function\n",
    "        print(\"Data Visualization\")\n",
    "\n",
    "ds = DS()   # this is creating an object which is also known as an instance of a class\n",
    "print(ds.x)\n",
    "ds.visual()"
   ]
  },
  {
   "cell_type": "code",
   "execution_count": 4,
   "id": "4dcda919",
   "metadata": {},
   "outputs": [
    {
     "name": "stdout",
     "output_type": "stream",
     "text": [
      "Hello, my name is jane and i am 27 years old.\n"
     ]
    }
   ],
   "source": [
    "#Creating Objects\n",
    "class Person:\n",
    "    def __init__(self, name, age):  # Constructor\n",
    "        \"\"\" Initialize the person object with name and age.\n",
    "        :parameter name: Name of the person\n",
    "        \"\"\"\n",
    "        self.name: str = name\n",
    "        self.age: int = age\n",
    "        print(f\"Hello, my name is {self.name} and i am {self.age} years old.\")\n",
    "    #def greet(self):\n",
    "            #print(f\"Hello, my name is {self.name} and i am {self.age} years old.\")\n",
    "\n",
    "# Creating an instance of the person class\n",
    "p1 = Person(\"jane\", 27)\n",
    "# Calling the greet method\n",
    "#person1.greet()\n"
   ]
  },
  {
   "cell_type": "code",
   "execution_count": 13,
   "id": "e553288f",
   "metadata": {},
   "outputs": [
    {
     "name": "stdout",
     "output_type": "stream",
     "text": [
      "Hello, my name is Comfort i am 20 years old and my grade is 27.9 CGPA.\n"
     ]
    }
   ],
   "source": [
    "# exercise 1: create a student class with attribute name, age, grade  and method info to prnt all details\n",
    "class Student:\n",
    "    def __init__(self, name, age, grade):\n",
    "        self.name = name\n",
    "        self.age = age\n",
    "        self.grade = grade\n",
    "        \n",
    "    def report(self):\n",
    "        print(f\"Hello, my name is {self.name} i am {self.age} years old and my grade is {self.grade} CGPA.\")\n",
    "\n",
    "student1 = Student(\"Comfort\", 20, 27.9)\n",
    "student1.report()"
   ]
  },
  {
   "cell_type": "code",
   "execution_count": 14,
   "id": "b3a4ecba",
   "metadata": {},
   "outputs": [
    {
     "name": "stdout",
     "output_type": "stream",
     "text": [
      "Number of instance created: 2\n"
     ]
    }
   ],
   "source": [
    "# @classmethod\n",
    "class PersonClassMethod:\n",
    "    count = 0 # class variable to keep track of the number of instances\n",
    "\n",
    "    def __init__(self, name, age):\n",
    "        self.name = name\n",
    "        self.age = age\n",
    "        PersonClassMethod.count += 1 # increment the count when a new instance is created\n",
    "\n",
    "    @classmethod\n",
    "    def get_instance_count(cls):\n",
    "        return cls.count\n",
    "    \n",
    "# Creating instances of person with class method\n",
    "person2 = PersonClassMethod(\"Alice\", 30)\n",
    "person3 = PersonClassMethod(\"Bob\", 25)\n",
    "# Getting the instance count using the class method\n",
    "instance_count = PersonClassMethod.get_instance_count()\n",
    "print(f\"Number of instance created: {instance_count}\")\n",
    "    \n",
    "        "
   ]
  },
  {
   "cell_type": "code",
   "execution_count": 4,
   "id": "187a7bea",
   "metadata": {},
   "outputs": [],
   "source": [
    "# Example of Inheritance in Python\n",
    "class Animal:\n",
    "    def __init__(self, name):\n",
    "        self.name = name\n",
    "\n",
    "    def speak(self):\n",
    "        return f\"{self.name} says Animal!\"\n",
    "    \n",
    "class Dog(Animal):\n",
    "    def speak(self):\n",
    "        return f\"{self.name} says Woof!\"\n",
    "    \n",
    "class Cat(Animal):\n",
    "    def speak(self):\n",
    "        return f\"{self.name} says Meow!\"\n",
    "  \n",
    "    # Attribute of cat move\n",
    "    def move(self):\n",
    "        return f\"{self.name} says Move Gracefully.\"\n",
    "    "
   ]
  },
  {
   "cell_type": "code",
   "execution_count": 5,
   "id": "35abc81e",
   "metadata": {},
   "outputs": [
    {
     "name": "stdout",
     "output_type": "stream",
     "text": [
      "Buddy says Woof!\n",
      "Tracy says Meow!\n",
      "Tracy says Move Gracefully.\n"
     ]
    }
   ],
   "source": [
    "# Create instance of Dog and Cat\n",
    "dog = Dog(\"Buddy\")\n",
    "cat = Cat(\"Tracy\")\n",
    "animal = Animal(\"Generic Animal\")\n",
    "# print their sound\n",
    "print(dog.speak())\n",
    "print(cat.speak())\n",
    "print(cat.move())"
   ]
  },
  {
   "cell_type": "code",
   "execution_count": 8,
   "id": "45161509",
   "metadata": {},
   "outputs": [
    {
     "name": "stdout",
     "output_type": "stream",
     "text": [
      "Tweety says chirp!\n",
      "Polly says Squawk!\n",
      "Buddy says Woof!\n",
      "Tracy says Meow!\n",
      "Tweety says chirp!\n",
      "Polly says Squawk!\n"
     ]
    }
   ],
   "source": [
    "# Example of Polymorphism\n",
    "class Bird(Animal):\n",
    "    def __init__(self, name):\n",
    "        super().__init__(name)\n",
    "    # This method overrides the speak method in A nimal class\n",
    "    def speak(self):\n",
    "        return f\"{self.name} says chirp!\"\n",
    "    # Create an instance of a Bird\n",
    "bird = Bird(\"Tweety\")\n",
    "    #print the bird's sound\n",
    "print(bird.speak())\n",
    "    # Example of method overriding\n",
    "class Parrot(Bird):\n",
    "        def speak(self):\n",
    "            return f\"{self.name} says Squawk!\"\n",
    "    # Create an instance of Parrot\n",
    "parrot = Parrot(\"Polly\")\n",
    "    # Print the Parrot's sound\n",
    "print(parrot.speak())\n",
    "\n",
    "def animal_sound(animal):\n",
    "        print(animal.speak())\n",
    "\n",
    "    # Call the function with different animal types\n",
    "animal_sound(dog)\n",
    "animal_sound(cat)\n",
    "animal_sound(bird)\n",
    "animal_sound(parrot)\n",
    "\n",
    "    \n",
    "\n",
    "\n",
    "\n",
    "\n",
    "\n",
    "\n",
    "\n"
   ]
  },
  {
   "cell_type": "code",
   "execution_count": 3,
   "id": "453b5eb0",
   "metadata": {},
   "outputs": [],
   "source": [
    "# Example of Encapsulation\n",
    "class BankAccount:\n",
    "    def __init__(self, balance=0):\n",
    "        self.__balance = balance\n",
    "\n",
    "    def deposit(self, amount):\n",
    "        self.__balance = self.__balance + amount\n",
    "        return f\"Deposited {amount}. New balance is {self.__balance}.\"\n",
    "    \n",
    "    def withdraw(self, amount):\n",
    "        self.__balance = self.__balance - amount\n",
    "        return f\"Withdrew {amount}. New balance is {self.__balance}.\"\n",
    "    \n",
    "    def get_balance(self):\n",
    "        return self.__balance\n",
    "        pass"
   ]
  },
  {
   "cell_type": "code",
   "execution_count": 4,
   "id": "d6550309",
   "metadata": {},
   "outputs": [
    {
     "name": "stdout",
     "output_type": "stream",
     "text": [
      "Deposited 50. New balance is 150.\n",
      "Withdrew 30. New balance is 120.\n",
      "Current Balance: 120\n"
     ]
    }
   ],
   "source": [
    "# run the bank account example\n",
    "account = BankAccount(100)\n",
    "print(account.deposit(50))\n",
    "print(account.withdraw(30))\n",
    "print(f\"Current Balance: {account.get_balance()}\")"
   ]
  },
  {
   "cell_type": "code",
   "execution_count": 5,
   "id": "c26f7e97",
   "metadata": {},
   "outputs": [
    {
     "name": "stdout",
     "output_type": "stream",
     "text": [
      " Balance: 200\n"
     ]
    }
   ],
   "source": [
    "\"\"\" testing if the encapsulation is private. \n",
    "if it is private, you can only access that class if you call a public method of that class\"\"\"\n",
    "class BankAccount2(BankAccount):\n",
    "    def __init__(self, balance=0):\n",
    "        super().__init__(balance)\n",
    "\n",
    "    def get_account_info(self):\n",
    "        return f\" Balance: {self.get_balance()}\"\n",
    "    \n",
    "#Run the BankAccount2 example\n",
    "account2 = BankAccount2(200)\n",
    "print(account2.get_account_info())"
   ]
  }
 ],
 "metadata": {
  "kernelspec": {
   "display_name": "Python 3",
   "language": "python",
   "name": "python3"
  },
  "language_info": {
   "codemirror_mode": {
    "name": "ipython",
    "version": 3
   },
   "file_extension": ".py",
   "mimetype": "text/x-python",
   "name": "python",
   "nbconvert_exporter": "python",
   "pygments_lexer": "ipython3",
   "version": "3.12.4"
  }
 },
 "nbformat": 4,
 "nbformat_minor": 5
}
