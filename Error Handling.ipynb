{
 "cells": [
  {
   "cell_type": "markdown",
   "id": "d557a5da",
   "metadata": {},
   "source": [
    "Except code Error\n",
    "\n",
    "code to run"
   ]
  },
  {
   "cell_type": "code",
   "execution_count": 3,
   "id": "e7686490",
   "metadata": {},
   "outputs": [
    {
     "name": "stdout",
     "output_type": "stream",
     "text": [
      "Error:'NoneType' object has no attribute 'UPPER'. The name variable is None, cannot convert to uppercase.\n",
      "25\n",
      "78\n"
     ]
    }
   ],
   "source": [
    "# null check for names\n",
    "try:\n",
    "    name = None\n",
    "    print(name.UPPER()) # converts to upper\n",
    "except AttributeError as e:\n",
    "    print(f\"Error:{e}. The name variable is None, cannot convert to uppercase.\")\n",
    "except Exception as e:\n",
    "    print(f\"Error: {a}. Exception Occurred here.\")\n",
    "print(25)\n",
    "print(78)"
   ]
  },
  {
   "cell_type": "code",
   "execution_count": 4,
   "id": "45f5ad28",
   "metadata": {},
   "outputs": [
    {
     "name": "stdout",
     "output_type": "stream",
     "text": [
      "The result is: 20.0\n",
      "Exception completed.\n"
     ]
    }
   ],
   "source": [
    "# Exception handling\n",
    "try:\n",
    "    num = int(input(\"Enter a number: \"))\n",
    "    result = 100 / num\n",
    "    print(f\"The result is: {result}\")\n",
    "except ValueError as a:\n",
    "    print(f\"That's not a valid number! \\n {a}\")\n",
    "except ZeroDivisionError as p:\n",
    "    print(f\"You can't divide by zero! \\n {p}\")\n",
    "except Exception as e:\n",
    "    print(f\"An unexpected error occurred: {e}\")\n",
    "finally:\n",
    "    print(\"Exception completed.\")"
   ]
  },
  {
   "cell_type": "code",
   "execution_count": 5,
   "id": "9fc881c6",
   "metadata": {},
   "outputs": [
    {
     "name": "stdout",
     "output_type": "stream",
     "text": [
      "Error: Age must be at least 18.\n"
     ]
    }
   ],
   "source": [
    "# Raise an Exception\n",
    "def check_age(age:int):\n",
    "    if age < 18:\n",
    "        raise ValueError(\"Age must be at least 18.\")\n",
    "    else:\n",
    "        print(f\"{age} Age is valid.\")\n",
    "\n",
    "try:\n",
    "    num = int(input(\"Enter your age: \"))\n",
    "    check_age(num)\n",
    "    print(\"Age check passed.\")\n",
    "except ValueError as e:\n",
    "    print(f\"Error: {e}\")"
   ]
  },
  {
   "cell_type": "code",
   "execution_count": 9,
   "id": "994a777b",
   "metadata": {},
   "outputs": [
    {
     "name": "stdout",
     "output_type": "stream",
     "text": [
      "Please enter valid numerical values! \n",
      " could not convert string to float: ''\n"
     ]
    }
   ],
   "source": [
    " \n",
    "try:\n",
    "        num1 = float(input(\"Enter the first number: \"))\n",
    "        num2 = float(input(\"Enter the second number: \"))\n",
    "\n",
    "        result = num1 / num2\n",
    "        print(f\"The result is: {result}\")\n",
    "except ValueError as a:\n",
    "        print(f\"Please enter valid numerical values! \\n {a}\")\n",
    "except ZeroDivisionError as p:\n",
    "        print(f\"Division by Zero not allowed. {p}\")\n"
   ]
  },
  {
   "cell_type": "markdown",
   "id": "81760b54",
   "metadata": {},
   "source": [
    "2ND WAY OF SOLVING THE ABOVE PROBLEM"
   ]
  },
  {
   "cell_type": "code",
   "execution_count": 14,
   "id": "faaebf2d",
   "metadata": {},
   "outputs": [
    {
     "name": "stdout",
     "output_type": "stream",
     "text": [
      "Please enter valid numerical values! \n",
      " could not convert string to float: 'e'\n"
     ]
    }
   ],
   "source": [
    "def divide_num(float):\n",
    "       \n",
    "    try:\n",
    "        num1 = float(input(\"Enter the first number: \"))\n",
    "        num2 = float(input(\"Enter the second number: \"))\n",
    "\n",
    "        result = num1 / num2\n",
    "        print(f\"The result is: {result}\")  \n",
    "    except ValueError as a:\n",
    "        print(f\"Please enter valid numerical values! \\n {a}\")\n",
    "    except ZeroDivisionError as p:\n",
    "        print(f\"Division by Zero not allowed. {p}\")\n",
    "\n",
    "divide_num(floath3)"
   ]
  },
  {
   "cell_type": "markdown",
   "id": "f865f2ae",
   "metadata": {},
   "source": [
    "TOKENIZATION"
   ]
  },
  {
   "cell_type": "code",
   "execution_count": 39,
   "id": "374a1f5d",
   "metadata": {},
   "outputs": [
    {
     "name": "stdout",
     "output_type": "stream",
     "text": [
      "words in the text: ['When', 'are', 'we', 'coming', 'to', 'class', 'to', 'get', 'the', 'hand', 'bag', 'from', 'Anita?']\n",
      "Number of words in the text: 13\n",
      "words in the text: ['When', 'are', 'we', 'coming', 'to', 'class', 'to', 'get', 'the', 'hand', 'bag', 'from', 'Anita?', 'Anita', 'gmail.com']\n",
      "Number of words in the text1: 15\n"
     ]
    }
   ],
   "source": [
    "\n",
    "text = \"When are we coming to class to get the hand bag from Anita?\"\n",
    "text1 = \"Anita@gmail.com\"\n",
    "result = []\n",
    "def count_words(text):\n",
    "    words = text.split()\n",
    "    \n",
    "    for i in words:\n",
    "        resps = i.split('@')\n",
    "        for j in resps:\n",
    "            result.append(j)\n",
    "\n",
    "    print(f\"words in the text: {result}\")\n",
    "    return len(result), result\n",
    "\n",
    "word_count = count_words(text)\n",
    "print(f\"Number of words in the text: {word_count[0]}\")\n",
    "\n",
    "word_count1 = count_words(text1)\n",
    "print(f\"Number of words in the text1: {word_count1[0]}\")"
   ]
  },
  {
   "cell_type": "code",
   "execution_count": 1,
   "id": "03198664",
   "metadata": {},
   "outputs": [
    {
     "name": "stdout",
     "output_type": "stream",
     "text": [
      "words in the text: ['When', 'are', 'we', 'coming', 'to', 'class', 'to', 'get', 'the', 'hand', 'bag', 'from', 'Anita?']\n",
      "Number of words in the text: 13\n",
      "words in the text: ['Anita', 'gmail.com']\n",
      "Number of words in the text1: 2\n"
     ]
    }
   ],
   "source": [
    "text = \"When are we coming to class to get the hand bag from Anita?\"\n",
    "text1 = \"Anita@gmail.com\"\n",
    "\n",
    "def count_words(text):\n",
    "    words = text.split()\n",
    "    result = []\n",
    "    for i in words:\n",
    "        resps = i.split('@')\n",
    "        for j in resps:\n",
    "            result.append(j)\n",
    "\n",
    "    print(f\"words in the text: {result}\")\n",
    "    return len(result), result\n",
    "\n",
    "word_count = count_words(text)\n",
    "print(f\"Number of words in the text: {word_count[0]}\")\n",
    "\n",
    "word_count1 = count_words(text1)\n",
    "print(f\"Number of words in the text1: {word_count1[0]}\")"
   ]
  },
  {
   "cell_type": "code",
   "execution_count": 6,
   "id": "84e19332",
   "metadata": {},
   "outputs": [
    {
     "name": "stdout",
     "output_type": "stream",
     "text": [
      "Tokens in the text: ['Hello', 'World', 'Helllo', 'Anaconda', 'Anaconda', 'is', 'great'] \n",
      "Unique tokens in the text: {'Helllo', 'Hello', 'World', 'is', 'great', 'Anaconda'}\n",
      "number of words in the text: 7\n"
     ]
    }
   ],
   "source": [
    "import re\n",
    "text = \"Hello World! Helllo Anaconda, Anaconda is great\"\n",
    "def tokenize_text(text):\n",
    "    tokens = re.findall(r'\\b\\w+\\b' , text)\n",
    "    print(f\"Tokens in the text: {tokens} \")\n",
    "    return tokens\n",
    "tokens = tokenize_text(text)\n",
    "print(f\"Unique tokens in the text: {(set(tokens))}\")\n",
    "print(f\"number of words in the text: {len(tokens)}\")"
   ]
  },
  {
   "cell_type": "code",
   "execution_count": 11,
   "id": "48af2864",
   "metadata": {},
   "outputs": [
    {
     "name": "stdout",
     "output_type": "stream",
     "text": [
      "Token 1: Hello\n",
      "Token 2: World\n",
      "Token 3: Helllo\n",
      "Token 4: Anaconda\n",
      "Token 5: Anaconda\n",
      "Token 6: is\n",
      "Token 7: great\n"
     ]
    }
   ],
   "source": [
    "for i in range(len(tokens)):\n",
    "    print(f\"Token {i+1}: {tokens[i]}\")"
   ]
  }
 ],
 "metadata": {
  "kernelspec": {
   "display_name": "Python 3",
   "language": "python",
   "name": "python3"
  },
  "language_info": {
   "codemirror_mode": {
    "name": "ipython",
    "version": 3
   },
   "file_extension": ".py",
   "mimetype": "text/x-python",
   "name": "python",
   "nbconvert_exporter": "python",
   "pygments_lexer": "ipython3",
   "version": "3.12.10"
  }
 },
 "nbformat": 4,
 "nbformat_minor": 5
}
